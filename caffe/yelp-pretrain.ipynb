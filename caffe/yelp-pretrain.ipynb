{
 "cells": [
  {
   "cell_type": "markdown",
   "metadata": {},
   "source": [
    "# Extract image features with pretrained AlexNet"
   ]
  },
  {
   "cell_type": "code",
   "execution_count": 5,
   "metadata": {
    "collapsed": false
   },
   "outputs": [],
   "source": [
    "caffe_root = '/home/ubuntu/caffe/' \n",
    "data_root = '/home/ubuntu/caffe/yelp/input/'\n",
    "\n",
    "import numpy as np\n",
    "import sys\n",
    "sys.path.insert(0, caffe_root + 'python')\n",
    "\n",
    "import caffe\n",
    "import os\n",
    "if not os.path.isfile(caffe_root + 'models/bvlc_reference_caffenet/bvlc_reference_caffenet.caffemodel'):\n",
    "    print(\"Downloading pre-trained CaffeNet model...\")\n",
    "    !caffe_root/scripts/download_model_binary.py ../models/bvlc_reference_caffenet\n",
    "    \n",
    "## Use GPU    \n",
    "caffe.set_device(0)\n",
    "caffe.set_mode_gpu()"
   ]
  },
  {
   "cell_type": "code",
   "execution_count": 6,
   "metadata": {
    "collapsed": true
   },
   "outputs": [],
   "source": [
    "def extract_features(images, layer = 'fc7'):\n",
    "    net = caffe.Net(caffe_root + 'models/bvlc_reference_caffenet/deploy.prototxt',\n",
    "                caffe_root + 'models/bvlc_reference_caffenet/bvlc_reference_caffenet.caffemodel',\n",
    "                caffe.TEST)\n",
    "    \n",
    "    # input preprocessing: 'data' is the name of the input blob == net.inputs[0]\n",
    "    transformer = caffe.io.Transformer({'data': net.blobs['data'].data.shape})\n",
    "    transformer.set_transpose('data', (2,0,1))\n",
    "    transformer.set_mean('data', np.load(caffe_root + 'python/caffe/imagenet/ilsvrc_2012_mean.npy').mean(1).mean(1)) # mean pixel\n",
    "    transformer.set_raw_scale('data', 255)  # the reference model operates on images in [0,255] range instead of [0,1]\n",
    "    transformer.set_channel_swap('data', (2,1,0))  # the reference model has channels in BGR order instead of RGB]]\n",
    "\n",
    "    num_images= len(images)\n",
    "    net.blobs['data'].reshape(num_images,3,227,227)\n",
    "    net.blobs['data'].data[...] = map(lambda x: transformer.preprocess('data',caffe.io.load_image(x)), images)\n",
    "    out = net.forward()\n",
    "\n",
    "    return net.blobs[layer].data "
   ]
  },
  {
   "cell_type": "markdown",
   "metadata": {},
   "source": [
    "## Extract features from train photos"
   ]
  },
  {
   "cell_type": "code",
   "execution_count": null,
   "metadata": {
    "collapsed": false
   },
   "outputs": [],
   "source": [
    "# extract image features and save it to .h5\n",
    "\n",
    "# Initialize files\n",
    "import h5py\n",
    "#f.close()\n",
    "f = h5py.File(data_root+'train_image_fc7features.h5','w')\n",
    "filenames = f.create_dataset('photo_id',(0,), maxshape=(None,),dtype='|S54')\n",
    "feature = f.create_dataset('feature',(0,4096), maxshape = (None,4096))\n",
    "f.close()\n",
    "\n",
    "import pandas as pd \n",
    "train_photos = pd.read_csv(data_root+'train_photo_to_biz_ids.csv')\n",
    "train_folder = '/home/ubuntu/caffe/yelp/train_photos/train_photos/'\n",
    "train_images = [os.path.join(train_folder, str(x)+'.jpg') for x in train_photos['photo_id']]  # get full filename\n",
    "\n",
    "num_train = len(train_images)\n",
    "print \"Number of training images: \", num_train\n",
    "batch_size = 500\n",
    "\n",
    "# Training Images\n",
    "for i in range(0, num_train, batch_size): \n",
    "    images = train_images[i: min(i+batch_size, num_train)]\n",
    "    features = extract_features(images, layer='fc7')\n",
    "    num_done = i+features.shape[0]\n",
    "    f= h5py.File(data_root+'train_image_fc7features.h5','r+')\n",
    "    f['photo_id'].resize((num_done,))\n",
    "    f['photo_id'][i: num_done] = np.array(images)\n",
    "    f['feature'].resize((num_done,features.shape[1]))\n",
    "    f['feature'][i: num_done, :] = features\n",
    "    f.close()\n",
    "    if num_done%20000==0 or num_done==num_train:\n",
    "        print \"Train images processed: \", num_done"
   ]
  },
  {
   "cell_type": "code",
   "execution_count": 7,
   "metadata": {
    "collapsed": false
   },
   "outputs": [
    {
     "name": "stdout",
     "output_type": "stream",
     "text": [
      "train_image_features.h5:\n",
      "feature (61718, 4096)\n",
      "photo_id (61718,)\n",
      "\n",
      "A photo: /home/ubuntu/caffe/yelp/train_sample/train_sample/5.jp\n",
      "Its feature vector (first 10-dim):  [ 2.07379389  0.          0.          0.          2.43081141  0.          0.\n",
      "  0.          0.          0.        ]  ...\n"
     ]
    }
   ],
   "source": [
    "### Check the file content\n",
    "f = h5py.File(data_root+'train_image_fc7features.h5','r')\n",
    "print 'train_image_features.h5:'\n",
    "for key in f.keys():\n",
    "    print key, f[key].shape\n",
    "    \n",
    "print \"\\nA photo:\", f['photo_id'][0]\n",
    "print \"Its feature vector (first 10-dim): \", f['feature'][0][0:10], \" ...\"\n",
    "f.close()"
   ]
  },
  {
   "cell_type": "markdown",
   "metadata": {},
   "source": [
    "## Extract features from testing photos"
   ]
  },
  {
   "cell_type": "code",
   "execution_count": 8,
   "metadata": {
    "collapsed": false
   },
   "outputs": [
    {
     "name": "stdout",
     "output_type": "stream",
     "text": [
      "Number of test images:  15167\n",
      "Test images processed:  15167\n"
     ]
    }
   ],
   "source": [
    "import h5py\n",
    "import pandas as pd\n",
    "batch_size = 500\n",
    "\n",
    "f = h5py.File(data_root+'test_image_fc7features.h5','w')\n",
    "filenames = f.create_dataset('photo_id',(0,), maxshape=(None,),dtype='|S54')\n",
    "feature = f.create_dataset('feature',(0,4096), maxshape = (None,4096))\n",
    "f.close()\n",
    "\n",
    "\n",
    "test_photos = pd.read_csv(data_root+'test_photo_to_biz.csv')\n",
    "test_folder = '/home/ubuntu/test_photos/'\n",
    "test_images = [os.path.join(test_folder, str(x)+'.jpg') for x in test_photos['photo_id'].unique()]  \n",
    "num_test = len(test_images)\n",
    "print \"Number of test images: \", num_test\n",
    "\n",
    "# Test Images\n",
    "for i in range(0, num_test, batch_size): \n",
    "    images = test_images[i: min(i+batch_size, num_test)]\n",
    "    features = extract_features(images, layer='fc7')\n",
    "    num_done = i+features.shape[0]\n",
    "    \n",
    "    f= h5py.File(data_root+'test_image_fc7features.h5','r+')\n",
    "    f['photo_id'].resize((num_done,))\n",
    "    f['photo_id'][i: num_done] = np.array(images)\n",
    "    f['feature'].resize((num_done,features.shape[1]))\n",
    "    f['feature'][i: num_done, :] = features\n",
    "    f.close()\n",
    "    if num_done%20000==0 or num_done==num_test:\n",
    "        print \"Test images processed: \", num_done"
   ]
  },
  {
   "cell_type": "code",
   "execution_count": 9,
   "metadata": {
    "collapsed": false
   },
   "outputs": [
    {
     "name": "stdout",
     "output_type": "stream",
     "text": [
      "feature (15167, 4096)\n",
      "photo_id (15167,)\n",
      "\n",
      "A photo: /home/ubuntu/caffe/yelp/test_sample/test_sample/80.jpg\n",
      "feature vector: (first 10-dim) [ 0.          0.          0.          5.14164495  3.07335663  0.41883421\n",
      "  0.          0.30816078  0.          0.        ]  ...\n"
     ]
    }
   ],
   "source": [
    "### Check the file content\n",
    "f = h5py.File(data_root+'test_image_fc7features.h5','r')\n",
    "for key in f.keys():\n",
    "    print key, f[key].shape\n",
    "print \"\\nA photo:\", f['photo_id'][0]\n",
    "print \"feature vector: (first 10-dim)\", f['feature'][0][0:10], \" ...\"\n",
    "f.close()"
   ]
  }
 ],
 "metadata": {
  "kernelspec": {
   "display_name": "Python 2",
   "language": "python",
   "name": "python2"
  },
  "language_info": {
   "codemirror_mode": {
    "name": "ipython",
    "version": 2
   },
   "file_extension": ".py",
   "mimetype": "text/x-python",
   "name": "python",
   "nbconvert_exporter": "python",
   "pygments_lexer": "ipython2",
   "version": "2.7.10"
  }
 },
 "nbformat": 4,
 "nbformat_minor": 0
}
