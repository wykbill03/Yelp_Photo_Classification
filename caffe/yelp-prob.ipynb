{
 "cells": [
  {
   "cell_type": "code",
   "execution_count": 1,
   "metadata": {
    "collapsed": false
   },
   "outputs": [],
   "source": [
    "import caffe\n",
    "import lmdb\n",
    "import glob\n",
    "import skimage\n",
    "from skimage import io\n",
    "import numpy\n",
    "from skimage.transform import resize\n",
    "import numpy as np\n",
    "from caffe import layers as L\n",
    "from caffe import params as P\n",
    "from pylab import *\n",
    "import pandas as pd\n",
    "%matplotlib inline"
   ]
  },
  {
   "cell_type": "code",
   "execution_count": 2,
   "metadata": {
    "collapsed": false
   },
   "outputs": [],
   "source": [
    "# from caffe import layers as L\n",
    "# from caffe import params as P\n",
    "\n",
    "def lenet(lmdb, batch_size):\n",
    "    # our version of LeNet: a series of linear and simple nonlinear transformations\n",
    "    n = caffe.NetSpec()\n",
    "    n.data, n.label = L.Data(batch_size=batch_size, backend=P.Data.LMDB, source=lmdb,\n",
    "                             transform_param=dict(scale=1./255), ntop=2)\n",
    "    n.conv1 = L.Convolution(n.data, kernel_size=5, num_output=20, weight_filler=dict(type='xavier'))\n",
    "    n.pool1 = L.Pooling(n.conv1, kernel_size=2, stride=2, pool=P.Pooling.MAX)\n",
    "    n.conv2 = L.Convolution(n.pool1, kernel_size=5, num_output=50, weight_filler=dict(type='xavier'))\n",
    "    n.pool2 = L.Pooling(n.conv2, kernel_size=2, stride=2, pool=P.Pooling.MAX)\n",
    "    n.ip1 = L.InnerProduct(n.pool2, num_output=500, weight_filler=dict(type='xavier'))\n",
    "    n.relu1 = L.ReLU(n.ip1, in_place=True)\n",
    "    \n",
    "#     n.conv3 = L.Convolution(n.relu1, kernel_size=5, num_output=20, weight_filler=dict(type='xavier'))\n",
    "#     n.pool3 = L.Pooling(n.conv3, kernel_size=2, stride=2, pool=P.Pooling.MAX)\n",
    "#     n.conv4 = L.Convolution(n.pool3, kernel_size=5, num_output=50, weight_filler=dict(type='xavier'))\n",
    "#     n.pool4 = L.Pooling(n.conv4, kernel_size=2, stride=2, pool=P.Pooling.MAX)\n",
    "#     n.ip2 = L.InnerProduct(n.pool4, num_output=500, weight_filler=dict(type='xavier'))\n",
    "#     n.relu2 = L.ReLU(n.ip2, in_place=True)\n",
    "    \n",
    "    n.ip2 = L.InnerProduct(n.relu1, num_output=2, weight_filler=dict(type='xavier'))\n",
    "    n.loss =  L.SoftmaxWithLoss(n.ip2, n.label)\n",
    "    n.prob = L.Softmax(n.ip2)\n",
    "    return n.to_proto()\n",
    "    \n",
    "with open('/home/ubuntu/caffe/yelp/yelp_train.prototxt', 'w') as f:\n",
    "    f.write(str(lenet('/home/ubuntu/caffe/yelp/train_1_lmdb_80', 64)))\n",
    "    \n",
    "with open('/home/ubuntu/caffe/yelp/yelp_test.prototxt', 'w') as f:\n",
    "    f.write(str(lenet('/home/ubuntu/caffe/yelp/test_1_lmdb_80', 100)))\n",
    "    "
   ]
  },
  {
   "cell_type": "code",
   "execution_count": 2,
   "metadata": {
    "collapsed": true
   },
   "outputs": [],
   "source": [
    "from caffe import layers as L, params as P, to_proto\n",
    "from caffe.proto import caffe_pb2\n",
    "\n",
    "# helper function for common structures\n",
    "\n",
    "def conv_relu(bottom, ks, nout, stride=1, pad=0, group=1):\n",
    "    conv = L.Convolution(bottom, kernel_size=ks, stride=stride,\n",
    "                                num_output=nout, pad=pad, group=group)\n",
    "    return conv, L.ReLU(conv, in_place=True)\n",
    "\n",
    "def fc_relu(bottom, nout):\n",
    "    fc = L.InnerProduct(bottom, num_output=nout)\n",
    "    return fc, L.ReLU(fc, in_place=True)\n",
    "\n",
    "def max_pool(bottom, ks, stride=1):\n",
    "    return L.Pooling(bottom, pool=P.Pooling.MAX, kernel_size=ks, stride=stride)\n",
    "\n",
    "def caffenet(lmdb, batch_size=128, include_acc=False):\n",
    "    data, label = L.Data(source=lmdb, backend=P.Data.LMDB, batch_size=batch_size, ntop=2,\n",
    "        transform_param=dict(crop_size=227, mean_value=[104, 117, 123], mirror=True))\n",
    "\n",
    "    # the net itself\n",
    "    conv1, relu1 = conv_relu(data, 11, 96, stride=4)\n",
    "    pool1 = max_pool(relu1, 3, stride=2)\n",
    "    norm1 = L.LRN(pool1, local_size=5, alpha=1e-4, beta=0.75)\n",
    "    conv2, relu2 = conv_relu(norm1, 5, 256, pad=2, group=2)\n",
    "    pool2 = max_pool(relu2, 3, stride=2)\n",
    "    norm2 = L.LRN(pool2, local_size=5, alpha=1e-4, beta=0.75)\n",
    "    conv3, relu3 = conv_relu(norm2, 3, 384, pad=1)\n",
    "    conv4, relu4 = conv_relu(relu3, 3, 384, pad=1, group=2)\n",
    "    conv5, relu5 = conv_relu(relu4, 3, 256, pad=1, group=2)\n",
    "    pool5 = max_pool(relu5, 3, stride=2)\n",
    "    fc6, relu6 = fc_relu(pool5, 4096)\n",
    "    drop6 = L.Dropout(relu6, in_place=True)\n",
    "    fc7, relu7 = fc_relu(drop6, 4096)\n",
    "    drop7 = L.Dropout(relu7, in_place=True)\n",
    "    fc8 = L.InnerProduct(drop7, num_output=2)\n",
    "    loss = L.SoftmaxWithLoss(fc8, label)\n",
    "\n",
    "    if include_acc:\n",
    "        acc = L.Accuracy(fc8, label)\n",
    "        return to_proto(loss, acc)\n",
    "    else:\n",
    "        return to_proto(loss)\n",
    "\n",
    "with open('/home/ubuntu/caffe/yelp/yelp_train.prototxt', 'w') as f:\n",
    "    f.write(str(caffenet('/home/ubuntu/caffe/yelp/train_0_up2_lmdb_250size')))\n",
    "\n",
    "with open('/home/ubuntu/caffe/yelp/yelp_test.prototxt', 'w') as f:\n",
    "    f.write(str(caffenet('/home/ubuntu/caffe/yelp/test_0_lmdb_250size')))\n"
   ]
  },
  {
   "cell_type": "code",
   "execution_count": 3,
   "metadata": {
    "collapsed": false
   },
   "outputs": [],
   "source": [
    "caffe.set_device(0)\n",
    "caffe.set_mode_gpu()"
   ]
  },
  {
   "cell_type": "code",
   "execution_count": 4,
   "metadata": {
    "collapsed": false
   },
   "outputs": [],
   "source": [
    "solver = caffe.SGDSolver('/home/ubuntu/caffe/yelp/yelp_solver.prototxt')"
   ]
  },
  {
   "cell_type": "code",
   "execution_count": 5,
   "metadata": {
    "collapsed": false
   },
   "outputs": [
    {
     "name": "stdout",
     "output_type": "stream",
     "text": [
      "CPU times: user 1min 32s, sys: 46.3 s, total: 2min 19s\n",
      "Wall time: 1min 50s\n"
     ]
    }
   ],
   "source": [
    "%%time\n",
    "# training process\n",
    "niter = 900\n",
    "for it in range(niter):\n",
    "    solver.step(1)"
   ]
  },
  {
   "cell_type": "code",
   "execution_count": 6,
   "metadata": {
    "collapsed": false
   },
   "outputs": [
    {
     "name": "stdout",
     "output_type": "stream",
     "text": [
      "Iteration 0 testing...\n",
      "Iteration 50 testing...\n",
      "Iteration 100 testing...\n",
      "Iteration 150 testing...\n",
      "CPU times: user 3.41 s, sys: 1.52 s, total: 4.93 s\n",
      "Wall time: 3.54 s\n"
     ]
    }
   ],
   "source": [
    "%%time\n",
    "# testing process\n",
    "correct = 0\n",
    "correct_1 = 0\n",
    "classify_1 = 0\n",
    "num_1 = 0\n",
    "prob_result = np.empty([1])\n",
    "for test_it in range(151):\n",
    "    if test_it % 50 == 0:\n",
    "        print 'Iteration', test_it, 'testing...'\n",
    "    test_out = solver.test_nets[0].forward()\n",
    "    prob_result = np.concatenate((prob_result, test_out['prob'][:,1]), axis=0)\n",
    "    correct += sum(test_out['prob'].argmax(1)\n",
    "                   == solver.test_nets[0].blobs['label'].data)\n",
    "    correct_1 += sum(np.logical_and(test_out['prob'].argmax(1)== solver.test_nets[0].blobs['label'].data, \n",
    "                     solver.test_nets[0].blobs['label'].data == np.ones(100)))\n",
    "    classify_1 += sum(test_out['prob'].argmax(1) == np.ones(100))\n",
    "    num_1 += sum(solver.test_nets[0].blobs['label'].data == np.ones(100, dtype=np.int))\n",
    "\n",
    "test_acc = correct / 15100.0"
   ]
  },
  {
   "cell_type": "code",
   "execution_count": 7,
   "metadata": {
    "collapsed": false
   },
   "outputs": [
    {
     "name": "stdout",
     "output_type": "stream",
     "text": [
      "[[ 0.33887598  0.66112399]\n",
      " [ 0.27969676  0.72030324]\n",
      " [ 0.42320883  0.57679117]\n",
      " [ 0.19849065  0.80150932]\n",
      " [ 0.46975327  0.53024679]\n",
      " [ 0.40132448  0.59867555]\n",
      " [ 0.46057993  0.53942007]\n",
      " [ 0.48974314  0.51025689]\n",
      " [ 0.43329003  0.56670994]\n",
      " [ 0.18507372  0.81492627]]\n"
     ]
    }
   ],
   "source": [
    "# print prob_result[:20]\n",
    "print test_out['prob'][:10]"
   ]
  },
  {
   "cell_type": "code",
   "execution_count": 8,
   "metadata": {
    "collapsed": false
   },
   "outputs": [
    {
     "name": "stdout",
     "output_type": "stream",
     "text": [
      "correct_1: 11514\n",
      "classify_1: 14323\n",
      "num_1: 11947\n"
     ]
    }
   ],
   "source": [
    "print \"correct_1: \" + str(correct_1)\n",
    "print \"classify_1: \" + str(classify_1)\n",
    "print \"num_1: \" + str(num_1)"
   ]
  },
  {
   "cell_type": "code",
   "execution_count": 9,
   "metadata": {
    "collapsed": false
   },
   "outputs": [
    {
     "name": "stdout",
     "output_type": "stream",
     "text": [
      "recall 0.963756591613\n",
      "precision 0.803881868324\n",
      "f1_score 0.876589265322\n"
     ]
    }
   ],
   "source": [
    "# evaluation\n",
    "recall = float(correct_1)/num_1\n",
    "precision = float(correct_1)/classify_1\n",
    "f1_score = 2*precision*recall/(precision + recall)\n",
    "print \"recall \" + str(recall)\n",
    "print \"precision \" + str(precision)\n",
    "print \"f1_score \" +  str(f1_score)"
   ]
  },
  {
   "cell_type": "code",
   "execution_count": 10,
   "metadata": {
    "collapsed": false
   },
   "outputs": [
    {
     "name": "stdout",
     "output_type": "stream",
     "text": [
      "   photo_id  business_id  label_1           prob\n",
      "0        80         1114        1  6.923340e-310\n",
      "1        95         3065        1   5.129827e-01\n",
      "2       130         2687        1   7.947147e-01\n",
      "3       143         3979        1   5.844797e-01\n",
      "4       296         1114        1   7.914786e-01\n",
      "5       337         1160        1   5.463188e-01\n"
     ]
    }
   ],
   "source": [
    "df = pd.read_csv('/home/ubuntu/caffe/yelp/pic/pic_label_subbybus_test.csv', sep=',')\n",
    "df_sub = df.iloc[:len(prob_result),[0,1,3]]\n",
    "df_prob = pd.DataFrame({'prob':prob_result})\n",
    "frames = [df_sub, df_prob]\n",
    "df_result = pd.concat(frames, axis=1)\n",
    "print df_result.ix[:5,]"
   ]
  },
  {
   "cell_type": "code",
   "execution_count": 14,
   "metadata": {
    "collapsed": false
   },
   "outputs": [],
   "source": [
    "# write the result into file\n",
    "df_result.to_csv('/home/ubuntu/caffe/yelp/prob_result/prob_result7_up3_rot.txt')"
   ]
  },
  {
   "cell_type": "code",
   "execution_count": 22,
   "metadata": {
    "collapsed": false
   },
   "outputs": [
    {
     "ename": "NameError",
     "evalue": "name 'train_loss' is not defined",
     "output_type": "error",
     "traceback": [
      "\u001b[1;31m---------------------------------------------------------------------------\u001b[0m",
      "\u001b[1;31mNameError\u001b[0m                                 Traceback (most recent call last)",
      "\u001b[1;32m<ipython-input-22-edf9e11f2308>\u001b[0m in \u001b[0;36m<module>\u001b[1;34m()\u001b[0m\n\u001b[0;32m      2\u001b[0m \u001b[0m_\u001b[0m\u001b[1;33m,\u001b[0m \u001b[0max1\u001b[0m \u001b[1;33m=\u001b[0m \u001b[0msubplots\u001b[0m\u001b[1;33m(\u001b[0m\u001b[1;33m)\u001b[0m\u001b[1;33m\u001b[0m\u001b[0m\n\u001b[0;32m      3\u001b[0m \u001b[0max2\u001b[0m \u001b[1;33m=\u001b[0m \u001b[0max1\u001b[0m\u001b[1;33m.\u001b[0m\u001b[0mtwinx\u001b[0m\u001b[1;33m(\u001b[0m\u001b[1;33m)\u001b[0m\u001b[1;33m\u001b[0m\u001b[0m\n\u001b[1;32m----> 4\u001b[1;33m \u001b[0max1\u001b[0m\u001b[1;33m.\u001b[0m\u001b[0mplot\u001b[0m\u001b[1;33m(\u001b[0m\u001b[0marange\u001b[0m\u001b[1;33m(\u001b[0m\u001b[0mniter\u001b[0m\u001b[1;33m)\u001b[0m\u001b[1;33m,\u001b[0m \u001b[0mtrain_loss\u001b[0m\u001b[1;33m)\u001b[0m\u001b[1;33m\u001b[0m\u001b[0m\n\u001b[0m\u001b[0;32m      5\u001b[0m \u001b[0max2\u001b[0m\u001b[1;33m.\u001b[0m\u001b[0mplot\u001b[0m\u001b[1;33m(\u001b[0m\u001b[0mtest_interval\u001b[0m \u001b[1;33m*\u001b[0m \u001b[0marange\u001b[0m\u001b[1;33m(\u001b[0m\u001b[0mlen\u001b[0m\u001b[1;33m(\u001b[0m\u001b[0mtest_acc\u001b[0m\u001b[1;33m)\u001b[0m\u001b[1;33m)\u001b[0m\u001b[1;33m,\u001b[0m \u001b[0mtest_acc\u001b[0m\u001b[1;33m,\u001b[0m \u001b[1;34m'r'\u001b[0m\u001b[1;33m)\u001b[0m\u001b[1;33m\u001b[0m\u001b[0m\n\u001b[0;32m      6\u001b[0m \u001b[0max1\u001b[0m\u001b[1;33m.\u001b[0m\u001b[0mset_xlabel\u001b[0m\u001b[1;33m(\u001b[0m\u001b[1;34m'iteration'\u001b[0m\u001b[1;33m)\u001b[0m\u001b[1;33m\u001b[0m\u001b[0m\n",
      "\u001b[1;31mNameError\u001b[0m: name 'train_loss' is not defined"
     ]
    },
    {
     "data": {
      "image/png": "[encoded data removed]",
      "text/plain": [
       "<matplotlib.figure.Figure at 0x7f8835b68f90>"
      ]
     },
     "metadata": {},
     "output_type": "display_data"
    }
   ],
   "source": [
    "# Accuracy plot\n",
    "_, ax1 = subplots()\n",
    "ax2 = ax1.twinx()\n",
    "ax1.plot(arange(niter), train_loss)\n",
    "ax2.plot(test_interval * arange(len(test_acc)), test_acc, 'r')\n",
    "ax1.set_xlabel('iteration')\n",
    "ax1.set_ylabel('train loss')\n",
    "ax2.set_ylabel('test accuracy')\n",
    "ax2.set_title('Test Accuracy: {:.2f}'.format(test_acc[-1]))"
   ]
  }
 ],
 "metadata": {
  "kernelspec": {
   "display_name": "Python 2",
   "language": "python",
   "name": "python2"
  },
  "language_info": {
   "codemirror_mode": {
    "name": "ipython",
    "version": 2
   },
   "file_extension": ".py",
   "mimetype": "text/x-python",
   "name": "python",
   "nbconvert_exporter": "python",
   "pygments_lexer": "ipython2",
   "version": "2.7.11"
  }
 },
 "nbformat": 4,
 "nbformat_minor": 0
}
