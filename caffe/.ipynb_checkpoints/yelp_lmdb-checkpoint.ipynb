{
 "cells": [
  {
   "cell_type": "markdown",
   "metadata": {},
   "source": [
    "# Load image into lmdb file  "
   ]
  },
  {
   "cell_type": "code",
   "execution_count": 1,
   "metadata": {
    "collapsed": false
   },
   "outputs": [],
   "source": [
    "import caffe\n",
    "import lmdb\n",
    "import glob\n",
    "import skimage\n",
    "from skimage import io\n",
    "import numpy\n",
    "from skimage.transform import resize\n",
    "import numpy as np\n",
    "from caffe import layers as L\n",
    "from caffe import params as P\n",
    "from pylab import *\n",
    "import pandas as pd\n",
    "%matplotlib inline"
   ]
  },
  {
   "cell_type": "code",
   "execution_count": 26,
   "metadata": {
    "collapsed": false
   },
   "outputs": [
    {
     "name": "stdout",
     "output_type": "stream",
     "text": [
      "234842\n",
      "   photo_id  business_id  label_0  label_1  label_2  label_3  label_4  \\\n",
      "0    204149         3034        0        0        0        1        0   \n",
      "1     52779         2805        0        1        1        1        0   \n",
      "2    278973          485        0        1        1        1        1   \n",
      "\n",
      "   label_5  label_6  label_7  label_8  label_9  \n",
      "0        0        0        0        1        0  \n",
      "1        1        1        1        0        0  \n",
      "2        1        1        1        0        0  \n",
      "204149\n",
      "/home/ubuntu/caffe/yelp/train_photos/train_photos/204149.jpg\n",
      "(500, 373, 3)\n"
     ]
    }
   ],
   "source": [
    "# get the filenames of train image\n",
    "df_trainall = pd.read_csv('/home/ubuntu/caffe/yelp/pic_label_trainall.csv')\n",
    "print len(df_trainall)\n",
    "print df_trainall.ix[:2,]\n",
    "print df_trainall.ix[0,0]\n",
    "filename = '/home/ubuntu/caffe/yelp/train_photos/train_photos/' + str(df.ix[0,0]) + '.jpg'\n",
    "print filename\n",
    "img = io.imread(filename)\n",
    "print img.shape\n",
    "img = resize(img, (80, 80, 3))\n",
    "map_size = img.nbytes*1000000000"
   ]
  },
  {
   "cell_type": "code",
   "execution_count": 20,
   "metadata": {
    "collapsed": false
   },
   "outputs": [
    {
     "name": "stdout",
     "output_type": "stream",
     "text": [
      "234842\n"
     ]
    }
   ],
   "source": [
    "# get the labels of train image\n",
    "label_train_df = pd.read_csv('/home/ubuntu/caffe/yelp/pic_label_trainall.csv', sep = ',' )\n",
    "labels = np.array(label_train_df.ix[:,2])\n",
    "print len(labels)"
   ]
  },
  {
   "cell_type": "code",
   "execution_count": 27,
   "metadata": {
    "collapsed": false
   },
   "outputs": [],
   "source": [
    "# load train image and labels into lmdb\n",
    "env = lmdb.open('/home/ubuntu/caffe/yelp/trainall_0_lmdb', map_size = map_size)\n",
    "with env.begin(write=True) as txn:\n",
    "    # txn is a Transaction object\n",
    "    for i in range(len(df_trainall)):\n",
    "        filename = '/home/ubuntu/caffe/yelp/train_photos/train_photos/' + str(df_trainall.ix[i,0]) + '.jpg'\n",
    "        img = io.imread(filename)\n",
    "        img = resize(img, (80, 80, 3))\n",
    "        x, y, z = img.shape\n",
    "        all_elements = x*y*z\n",
    "        img_re = img.reshape(all_elements)\n",
    "        img_r = img_re[0:all_elements:3]\n",
    "        img_g = img_re[1:all_elements:3]\n",
    "        img_b = img_re[2:all_elements:3]\n",
    "        img_re = numpy.array([img_r, img_g, img_b])\n",
    "        datum = caffe.proto.caffe_pb2.Datum()\n",
    "        datum.channels = img.shape[2]\n",
    "        datum.height = img.shape[0]\n",
    "        datum.width = img.shape[1]\n",
    "        datum.data = img_re.tobytes()\n",
    "        datum.label = int(labels[i])\n",
    "        str_id = '{:08}'.format(i)\n",
    "        txn.put(str_id, datum.SerializeToString())"
   ]
  },
  {
   "cell_type": "code",
   "execution_count": 4,
   "metadata": {
    "collapsed": false
   },
   "outputs": [
    {
     "name": "stdout",
     "output_type": "stream",
     "text": [
      "1920000000\n",
      "15167\n"
     ]
    }
   ],
   "source": [
    "# # get the filenames of test image\n",
    "# image_filenames_test = glob.glob('/home/ubuntu/caffe/yelp/testnew/testnew/*')\n",
    "# filename = image_filenames_test[0]\n",
    "# img = io.imread(filename)\n",
    "# img = resize(img, (80, 80, 3))\n",
    "# map_size = img.nbytes*100000\n",
    "# print map_size\n",
    "# print len(image_filenames_test)"
   ]
  },
  {
   "cell_type": "code",
   "execution_count": 4,
   "metadata": {
    "collapsed": false
   },
   "outputs": [
    {
     "name": "stdout",
     "output_type": "stream",
     "text": [
      "(250, 250, 3)\n"
     ]
    }
   ],
   "source": [
    "df_testsample = pd.read_csv('/home/ubuntu/caffe/yelp/pic/pic_label_subbybus_test.csv')\n",
    "# print len(df_testsample)\n",
    "# print df_testsample.ix[:2,]\n",
    "# print df_testsample.ix[0,0]\n",
    "filename = '/home/ubuntu/caffe/yelp/test_sample/test_sample/' + str(df_testsample.ix[0,0]) + '.jpg'\n",
    "# print filename\n",
    "img = io.imread(filename)\n",
    "print img.shape\n",
    "img = resize(img, (250, 250, 3))\n",
    "map_size = img.nbytes*100000"
   ]
  },
  {
   "cell_type": "code",
   "execution_count": 5,
   "metadata": {
    "collapsed": false
   },
   "outputs": [
    {
     "name": "stdout",
     "output_type": "stream",
     "text": [
      "15167\n"
     ]
    }
   ],
   "source": [
    "# get the labels of test image\n",
    "label_test_df = pd.read_csv('/home/ubuntu/caffe/yelp/pic/pic_label_subbybus_test.csv', sep = ',')\n",
    "labels_test = np.array(label_test_df.ix[:,'label_0'])\n",
    "photos_test = np.array(label_test_df.ix[:,'photo_id'])\n",
    "print len(photos_test)"
   ]
  },
  {
   "cell_type": "code",
   "execution_count": 6,
   "metadata": {
    "collapsed": false
   },
   "outputs": [],
   "source": [
    "# load test image and labels into lmdb\n",
    "env = lmdb.open('/home/ubuntu/caffe/yelp/test_0_lmdb_250size', map_size = map_size)\n",
    "with env.begin(write=True) as txn:\n",
    "    # txn is a Transaction object\n",
    "    for i in range(len(df_testsample)):\n",
    "        filename = '/home/ubuntu/caffe/yelp/test_sample/test_sample/' + str(photos_test[i]) + '.jpg'\n",
    "        img = io.imread(filename)\n",
    "        \n",
    "        img = resize(img, (250, 250, 3))\n",
    "        \n",
    "        x, y, z = img.shape\n",
    "        all_elements = x*y*z\n",
    "        img_re = img.reshape(all_elements)\n",
    "        img_r = img_re[0:all_elements:3]\n",
    "        img_g = img_re[1:all_elements:3]\n",
    "        img_b = img_re[2:all_elements:3]\n",
    "        img_re = numpy.array([img_r, img_g, img_b])\n",
    "        datum = caffe.proto.caffe_pb2.Datum()\n",
    "        datum.channels = img.shape[2]\n",
    "        datum.height = img.shape[0]\n",
    "        datum.width = img.shape[1]\n",
    "        datum.data = img_re.tobytes()\n",
    "        datum.label = int(labels_test[i])\n",
    "        str_id = '{:08}'.format(i)\n",
    "        txn.put(str_id, datum.SerializeToString())"
   ]
  }
 ],
 "metadata": {
  "kernelspec": {
   "display_name": "Python 2",
   "language": "python",
   "name": "python2"
  },
  "language_info": {
   "codemirror_mode": {
    "name": "ipython",
    "version": 2
   },
   "file_extension": ".py",
   "mimetype": "text/x-python",
   "name": "python",
   "nbconvert_exporter": "python",
   "pygments_lexer": "ipython2",
   "version": "2.7.10"
  }
 },
 "nbformat": 4,
 "nbformat_minor": 0
}
