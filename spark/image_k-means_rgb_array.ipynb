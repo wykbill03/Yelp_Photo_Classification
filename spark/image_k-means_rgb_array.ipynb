{
 "cells": [
  {
   "cell_type": "markdown",
   "metadata": {},
   "source": [
    "Cluster images based on pixel rgb arrays"
   ]
  },
  {
   "cell_type": "code",
   "execution_count": 1,
   "metadata": {},
   "outputs": [],
   "source": [
    "from pyspark import SparkContext\n",
    "from pyspark import SparkConf\n",
    "# from pyspark.mllib.feature import HashingTF, IDF\n",
    "# from pyspark.mllib.regression import LabeledPoint\n",
    "from pyspark.mllib.clustering import KMeans, KMeansModel\n",
    "from StringIO import StringIO\n",
    "from PIL import Image\n",
    "import numpy as np\n",
    "import csv\n",
    "import os, tempfile\n",
    "import boto\n",
    "import datetime"
   ]
  },
  {
   "cell_type": "code",
   "execution_count": 1,
   "metadata": {},
   "outputs": [],
   "source": [
    "# AWS S3 credentials:\n",
    "\n",
    "AWS_KEY = \"\"\n",
    "AWS_SECRET = \"\"\n",
    "sc._jsc.hadoopConfiguration().set(\"fs.s3n.awsAccessKeyId\", AWS_KEY)\n",
    "sc._jsc.hadoopConfiguration().set(\"fs.s3n.awsSecretAccessKey\", AWS_SECRET)"
   ]
  },
  {
   "cell_type": "code",
   "execution_count": 3,
   "metadata": {},
   "outputs": [],
   "source": [
    "directory = 's3n://amlyelp/subset/trainnew/'"
   ]
  },
  {
   "cell_type": "code",
   "execution_count": 11,
   "metadata": {},
   "outputs": [],
   "source": [
    "images = sc.binaryFiles(directory)"
   ]
  },
  {
   "cell_type": "code",
   "execution_count": 14,
   "metadata": {},
   "outputs": [],
   "source": [
    "# convert image files to arrays of pixel RGB\n",
    "image_to_array = lambda rawdata: np.asarray(Image.open(StringIO(rawdata)))\n",
    "image_array = images.map(lambda x: (x[0],image_to_array(x[1])))\n",
    "image_array_flatten = image_array.map(lambda x: (x[0],x[1].flatten())).cache()\n",
    "del image_array\n",
    "del images"
   ]
  },
  {
   "cell_type": "code",
   "execution_count": 12,
   "metadata": {},
   "outputs": [],
   "source": [
    "# train Kmeans cluster on image arrays\n",
    "clusters = KMeans.train(image_array_flatten.values(), 50, maxIterations=100)"
   ]
  },
  {
   "cell_type": "code",
   "execution_count": 31,
   "metadata": {},
   "outputs": [],
   "source": [
    "# save Kmeans model\n",
    "clusters.save(sc, 's3n://amlyelp/subset/model/kmeans/'+str(datetime.datetime.now()).replace(' ', '_')+'/')\n",
    "# clusters = KMeansModel.load(sc, 'model/test_kmeans')"
   ]
  },
  {
   "cell_type": "code",
   "execution_count": 32,
   "metadata": {},
   "outputs": [],
   "source": [
    "# predict the image clusters\n",
    "image_cluster = image_array_flatten.map(lambda x: (x[0].split('/')[-1].replace('.jpg', ''),clusters.predict(x[1])))"
   ]
  },
  {
   "cell_type": "code",
   "execution_count": 33,
   "metadata": {},
   "outputs": [],
   "source": [
    "image_cluster_list = image_cluster.collect()"
   ]
  },
  {
   "cell_type": "code",
   "execution_count": 46,
   "metadata": {},
   "outputs": [],
   "source": [
    "# write clusters to temp file\n",
    "tmpf = tempfile.TemporaryFile()\n",
    "writer = csv.writer(tmpf)\n",
    "writer.writerows(image_cluster_list)\n",
    "tmpf.seek(0)"
   ]
  },
  {
   "cell_type": "code",
   "execution_count": 44,
   "metadata": {},
   "outputs": [],
   "source": [
    "from boto.s3.connection import S3Connection\n",
    "from boto.s3.key import Key\n",
    "\n",
    "AWS_KEY = \"\"\n",
    "AWS_SECRET = \"\"\n",
    "\n",
    "conn = S3Connection(AWS_KEY, AWS_SECRET, host='s3.amazonaws.com')\n",
    "pb = conn.get_bucket('amlyelp')\n",
    "\n",
    "k = Key(pb)"
   ]
  },
  {
   "cell_type": "code",
   "execution_count": 47,
   "metadata": {},
   "outputs": [
    {
     "data": {
      "text/plain": [
       "2116"
      ]
     },
     "execution_count": 47,
     "output_type": "execute_result",
     "metadata": {}
    }
   ],
   "source": [
    "# write cluster predictions to S3\n",
    "s3_file = \"image_cluster_%s.csv\" % str(datetime.datetime.now()).replace(' ', '_').replace('.','_')\n",
    "s3_path = \"subset/image_cluster_result\"\n",
    "file_name_to_use_in_s3 = \"%s/%s\"%(s3_path, s3_file)\n",
    "k.name = file_name_to_use_in_s3\n",
    "k.set_contents_from_file(tmpf)"
   ]
  }
 ],
 "metadata": {
  "kernelspec": {
   "display_name": "Python 2",
   "language": "python",
   "name": "python2"
  },
  "language_info": {
   "codemirror_mode": {
    "name": "ipython",
    "version": 2.0
   },
   "file_extension": ".py",
   "mimetype": "text/x-python",
   "name": "python",
   "nbconvert_exporter": "python",
   "pygments_lexer": "ipython2",
   "version": "2.7.10"
  }
 },
 "nbformat": 4,
 "nbformat_minor": 0
}