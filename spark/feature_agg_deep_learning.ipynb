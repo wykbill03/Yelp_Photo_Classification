{
 "cells": [
  {
   "cell_type": "markdown",
   "metadata": {},
   "source": [
    "Aggregate(by average) deep learning feature for each restaurant"
   ]
  },
  {
   "cell_type": "code",
   "execution_count": 8,
   "metadata": {
    "collapsed": true
   },
   "outputs": [],
   "source": [
    "from pyspark import SparkContext\n",
    "from pyspark import SparkConf\n",
    "\n",
    "from pyspark.sql import SQLContext, Row\n",
    "\n",
    "from StringIO import StringIO\n",
    "from PIL import Image\n",
    "import numpy as np\n",
    "import csv\n",
    "import os, tempfile\n",
    "import boto\n",
    "import datetime"
   ]
  },
  {
   "cell_type": "code",
   "execution_count": 2,
   "metadata": {
    "collapsed": false
   },
   "outputs": [],
   "source": [
    "# AWS S3 credentials:\n",
    "\n",
    "AWS_KEY = \"\"\n",
    "AWS_SECRET = \"\"\n",
    "sc._jsc.hadoopConfiguration().set(\"fs.s3n.awsAccessKeyId\", AWS_KEY)\n",
    "sc._jsc.hadoopConfiguration().set(\"fs.s3n.awsSecretAccessKey\", AWS_SECRET)"
   ]
  },
  {
   "cell_type": "code",
   "execution_count": 3,
   "metadata": {
    "collapsed": true
   },
   "outputs": [],
   "source": [
    "# read training image deep learning features\n",
    "features_train = sc.textFile('s3n://amlyelp/fc7features/train_image_fc7features/')"
   ]
  },
  {
   "cell_type": "code",
   "execution_count": 4,
   "metadata": {
    "collapsed": false
   },
   "outputs": [
    {
     "data": {
      "text/plain": [
       "[(u'11598', array([ 0.        ,  0.        ,  0.        , ...,  0.        ,\n",
       "          2.57181787,  0.        ])),\n",
       " (u'295391',\n",
       "  array([ 0.       ,  0.       ,  0.       , ...,  1.5179913,  0.       ,  0.       ]))]"
      ]
     },
     "execution_count": 4,
     "metadata": {},
     "output_type": "execute_result"
    }
   ],
   "source": [
    "pid_features_train=features_train.map(lambda x: tuple(x.split('|'))).mapValues(lambda x: np.array(x.split(','),dtype=float))\n",
    "pid_features_train.take(2)"
   ]
  },
  {
   "cell_type": "code",
   "execution_count": 22,
   "metadata": {
    "collapsed": false
   },
   "outputs": [
    {
     "data": {
      "text/plain": [
       "[(u'204149',\n",
       "  {'labels': array([0, 0, 0, 1, 0, 0, 0, 0, 1]), 'restaurant': u'3034'})]"
      ]
     },
     "execution_count": 22,
     "metadata": {},
     "output_type": "execute_result"
    }
   ],
   "source": [
    "# read training image-restaurant-label map\n",
    "train_label = sc.textFile('s3n://amlyelp/pic_label_trainall.csv')\n",
    "first_line = train_label.take(1)[0]\n",
    "train_label = train_label.filter(lambda x: x!= first_line).map(lambda x: x.split(','))\\\n",
    "                            .map(lambda x: (x[0],{'restaurant':x[1],'labels':np.array(x[2:11],dtype=int)}))\n",
    "train_label.take(1)"
   ]
  },
  {
   "cell_type": "code",
   "execution_count": 14,
   "metadata": {
    "collapsed": false
   },
   "outputs": [
    {
     "name": "stdout",
     "output_type": "stream",
     "text": [
      "234842\n",
      "234842\n"
     ]
    }
   ],
   "source": [
    "# check if number of images match\n",
    "print pid_features_train.count()\n",
    "print train_label.count()"
   ]
  },
  {
   "cell_type": "code",
   "execution_count": 7,
   "metadata": {
    "collapsed": false
   },
   "outputs": [
    {
     "data": {
      "text/plain": [
       "[(u'378466',\n",
       "  ({'labels': array([0, 0, 0, 1, 0, 0, 0, 0, 0]), 'restaurant': u'227'},\n",
       "   array([ 0.,  0.,  0., ...,  0.,  0.,  0.]))),\n",
       " (u'35540',\n",
       "  ({'labels': array([0, 1, 1, 0, 1, 1, 1, 1, 0]), 'restaurant': u'2611'},\n",
       "   array([ 0.        ,  0.        ,  0.        , ...,  5.03832006,\n",
       "           0.        ,  0.        ])))]"
      ]
     },
     "execution_count": 7,
     "metadata": {},
     "output_type": "execute_result"
    }
   ],
   "source": [
    "# join image features with restaurants and labels\n",
    "id_label_feature_train = train_label.leftOuterJoin(pid_features_train)\n",
    "id_label_feature_train.take(2)"
   ]
  },
  {
   "cell_type": "code",
   "execution_count": 9,
   "metadata": {
    "collapsed": false
   },
   "outputs": [
    {
     "data": {
      "text/plain": [
       "[(u'396', array([ 0.,  0.,  0., ...,  0.,  0.,  0.])),\n",
       " (u'3407', array([ 0.,  0.,  0., ...,  0.,  0.,  0.]))]"
      ]
     },
     "execution_count": 9,
     "metadata": {},
     "output_type": "execute_result"
    }
   ],
   "source": [
    "# extract restaurant id and deep learning features, prepare for averaging\n",
    "res_feature_train = id_label_feature_train.map(lambda x:(x[1][0]['restaurant'], x[1][1]))\n",
    "res_feature_train.take(2)"
   ]
  },
  {
   "cell_type": "code",
   "execution_count": 10,
   "metadata": {
    "collapsed": true
   },
   "outputs": [],
   "source": [
    "# average image features for each restaurant\n",
    "sumCount_train = res_feature_train.combineByKey(lambda value: (value, 1),\n",
    "                             lambda x, value: (x[0] + value, x[1] + 1),\n",
    "                             lambda x, y: (x[0] + y[0], x[1] + y[1]))\n",
    "\n",
    "averageByKey_train = sumCount_train.map(lambda (label, (value_sum, count)): (label, value_sum / count))"
   ]
  },
  {
   "cell_type": "code",
   "execution_count": 11,
   "metadata": {
    "collapsed": false
   },
   "outputs": [
    {
     "data": {
      "text/plain": [
       "[(u'2543', array([ 0.17495501,  0.26124298,  0.16659264, ...,  0.05740633,\n",
       "          0.15361293,  0.07678483])),\n",
       " (u'3580', array([ 0.76246166,  0.07764588,  0.09794557, ...,  0.02959634,\n",
       "          0.01696139,  0.04301102]))]"
      ]
     },
     "execution_count": 11,
     "metadata": {},
     "output_type": "execute_result"
    }
   ],
   "source": [
    "averageByKey_train.take(2)"
   ]
  },
  {
   "cell_type": "code",
   "execution_count": null,
   "metadata": {
    "collapsed": true
   },
   "outputs": [],
   "source": [
    "# If taking max of feature instead of averaging\n",
    "# maxByKey_train = res_feature_train.reduceByKey(lambda x1, x2: np.maximum(x1, x2))\n",
    "# maxByKey_train.take(2)"
   ]
  },
  {
   "cell_type": "code",
   "execution_count": 1,
   "metadata": {
    "collapsed": false
   },
   "outputs": [],
   "source": [
    "# convert restaurant and features to string, prepare for writing to file\n",
    "feature_avg_train = averageByKey_train.map(lambda x: ','.join([x[0],','.join(x[1].astype(np.str))]))\n",
    "# feature_avg_train.take(2)"
   ]
  },
  {
   "cell_type": "code",
   "execution_count": 15,
   "metadata": {
    "collapsed": true
   },
   "outputs": [],
   "source": [
    "feature_avg_train_list = feature_avg_train.collect()"
   ]
  },
  {
   "cell_type": "code",
   "execution_count": 16,
   "metadata": {
    "collapsed": false
   },
   "outputs": [
    {
     "data": {
      "text/plain": [
       "2000"
      ]
     },
     "execution_count": 16,
     "metadata": {},
     "output_type": "execute_result"
    }
   ],
   "source": [
    "len(feature_avg_train_list)"
   ]
  },
  {
   "cell_type": "code",
   "execution_count": null,
   "metadata": {
    "collapsed": true
   },
   "outputs": [],
   "source": []
  },
  {
   "cell_type": "code",
   "execution_count": 19,
   "metadata": {
    "collapsed": false
   },
   "outputs": [
    {
     "data": {
      "text/plain": [
       "[(u'306310', array([ 0.,  0.,  0., ...,  0.,  0.,  0.])),\n",
       " (u'414079',\n",
       "  array([ 1.7991451,  0.       ,  0.       , ...,  0.       ,  0.       ,  0.       ]))]"
      ]
     },
     "execution_count": 19,
     "metadata": {},
     "output_type": "execute_result"
    }
   ],
   "source": [
    "# do average feature for test set\n",
    "features_test = sc.textFile('s3n://amlyelp/fc7features/test_image_fc7features/')\n",
    "pid_features_test=features_test.map(lambda x: tuple(x.split('|'))).mapValues(lambda x: np.array(x.split(','),dtype=float))\n",
    "pid_features_test.take(2)"
   ]
  },
  {
   "cell_type": "code",
   "execution_count": 34,
   "metadata": {
    "collapsed": false
   },
   "outputs": [
    {
     "data": {
      "text/plain": [
       "[(u'317818', u'003sg'), (u'30679', u'003sg')]"
      ]
     },
     "execution_count": 34,
     "metadata": {},
     "output_type": "execute_result"
    }
   ],
   "source": [
    "test_label = sc.textFile('s3n://amlyelp/test_photo_to_biz.csv')\n",
    "first_line = test_label.take(1)[0]\n",
    "test_label = test_label.filter(lambda x: x!= first_line).map(lambda x: tuple(x.split(',')))\n",
    "test_label.take(2)"
   ]
  },
  {
   "cell_type": "code",
   "execution_count": 23,
   "metadata": {
    "collapsed": false
   },
   "outputs": [
    {
     "name": "stdout",
     "output_type": "stream",
     "text": [
      "1190226\n",
      "237152\n"
     ]
    }
   ],
   "source": [
    "print test_label.count()\n",
    "print pid_features_test.count()"
   ]
  },
  {
   "cell_type": "code",
   "execution_count": 37,
   "metadata": {
    "collapsed": false
   },
   "outputs": [],
   "source": [
    "pid_res_feature_test = test_label.leftOuterJoin(pid_features_test)\n",
    "# pid_res_feature_test.take(2)"
   ]
  },
  {
   "cell_type": "code",
   "execution_count": 38,
   "metadata": {
    "collapsed": false
   },
   "outputs": [],
   "source": [
    "res_feature_test = pid_res_feature_test.map(lambda x:x[1])\n",
    "# res_feature_test.take(2)"
   ]
  },
  {
   "cell_type": "code",
   "execution_count": 39,
   "metadata": {
    "collapsed": false
   },
   "outputs": [
    {
     "data": {
      "text/plain": [
       "[]"
      ]
     },
     "execution_count": 39,
     "metadata": {},
     "output_type": "execute_result"
    }
   ],
   "source": [
    "res_feature_test.filter(lambda x: x[1] is None).collect()"
   ]
  },
  {
   "cell_type": "code",
   "execution_count": 40,
   "metadata": {
    "collapsed": true
   },
   "outputs": [],
   "source": [
    "sumCount_test = res_feature_test.combineByKey(lambda value: (value, 1),\n",
    "                             lambda x, value: (x[0] + value, x[1] + 1),\n",
    "                             lambda x, y: (x[0] + y[0], x[1] + y[1]))\n",
    "\n",
    "averageByKey_test = sumCount_test.map(lambda (label, (value_sum, count)): (label, value_sum / count))"
   ]
  },
  {
   "cell_type": "code",
   "execution_count": 27,
   "metadata": {
    "collapsed": false
   },
   "outputs": [
    {
     "data": {
      "text/plain": [
       "[(u'8i7dh', array([ 0.07007898,  0.04918911,  0.14299838, ...,  0.38499734,\n",
       "          0.12277267,  0.43560198])),\n",
       " (u'blxg3', array([ 0.16781516,  0.25677318,  0.18571631, ...,  0.27989609,\n",
       "          0.08610374,  0.00900712]))]"
      ]
     },
     "execution_count": 27,
     "metadata": {},
     "output_type": "execute_result"
    }
   ],
   "source": [
    "averageByKey_test.take(2)"
   ]
  },
  {
   "cell_type": "code",
   "execution_count": 2,
   "metadata": {
    "collapsed": false
   },
   "outputs": [],
   "source": [
    "feature_avg_test = averageByKey_test.map(lambda x: ','.join([x[0],','.join(x[1].astype(np.str))]))\n",
    "# feature_avg_test.take(2)"
   ]
  },
  {
   "cell_type": "code",
   "execution_count": 42,
   "metadata": {
    "collapsed": false
   },
   "outputs": [],
   "source": [
    "feature_avg_test_list = feature_avg_test.collect()"
   ]
  },
  {
   "cell_type": "code",
   "execution_count": 43,
   "metadata": {
    "collapsed": false
   },
   "outputs": [
    {
     "data": {
      "text/plain": [
       "10000"
      ]
     },
     "execution_count": 43,
     "metadata": {},
     "output_type": "execute_result"
    }
   ],
   "source": [
    "len(feature_avg_test_list)"
   ]
  },
  {
   "cell_type": "code",
   "execution_count": null,
   "metadata": {
    "collapsed": true
   },
   "outputs": [],
   "source": []
  },
  {
   "cell_type": "code",
   "execution_count": 17,
   "metadata": {
    "collapsed": true
   },
   "outputs": [],
   "source": [
    "from boto.s3.connection import S3Connection\n",
    "from boto.s3.key import Key\n",
    "\n",
    "AWS_KEY = \"\"\n",
    "AWS_SECRET = \"\"\n",
    "\n",
    "conn = S3Connection(AWS_KEY, AWS_SECRET, host='s3.amazonaws.com')\n",
    "pb = conn.get_bucket('amlyelp')\n",
    "\n",
    "k = Key(pb)"
   ]
  },
  {
   "cell_type": "code",
   "execution_count": 18,
   "metadata": {
    "collapsed": false
   },
   "outputs": [
    {
     "data": {
      "text/plain": [
       "119542321"
      ]
     },
     "execution_count": 18,
     "metadata": {},
     "output_type": "execute_result"
    }
   ],
   "source": [
    "# save averaged features\n",
    "tmpf = '\\n'.join(feature_avg_train_list)\n",
    "\n",
    "file_name_to_use_in_s3 = 'fc7features/feature_avg_train.csv'\n",
    "k.name = file_name_to_use_in_s3\n",
    "k.set_contents_from_string(tmpf)"
   ]
  },
  {
   "cell_type": "code",
   "execution_count": 44,
   "metadata": {
    "collapsed": false
   },
   "outputs": [
    {
     "data": {
      "text/plain": [
       "600077602"
      ]
     },
     "execution_count": 44,
     "metadata": {},
     "output_type": "execute_result"
    }
   ],
   "source": [
    "tmpf = '\\n'.join(feature_avg_test_list)\n",
    "\n",
    "file_name_to_use_in_s3 = 'fc7features/feature_avg_test.csv'\n",
    "k.name = file_name_to_use_in_s3\n",
    "k.set_contents_from_string(tmpf)"
   ]
  },
  {
   "cell_type": "code",
   "execution_count": null,
   "metadata": {
    "collapsed": true
   },
   "outputs": [],
   "source": []
  },
  {
   "cell_type": "code",
   "execution_count": null,
   "metadata": {
    "collapsed": true
   },
   "outputs": [],
   "source": []
  },
  {
   "cell_type": "code",
   "execution_count": null,
   "metadata": {
    "collapsed": true
   },
   "outputs": [],
   "source": []
  },
  {
   "cell_type": "code",
   "execution_count": null,
   "metadata": {
    "collapsed": true
   },
   "outputs": [],
   "source": []
  }
 ],
 "metadata": {
  "kernelspec": {
   "display_name": "Python 2",
   "language": "python",
   "name": "python2"
  },
  "language_info": {
   "codemirror_mode": {
    "name": "ipython",
    "version": 2
   },
   "file_extension": ".py",
   "mimetype": "text/x-python",
   "name": "python",
   "nbconvert_exporter": "python",
   "pygments_lexer": "ipython2",
   "version": "2.7.10"
  }
 },
 "nbformat": 4,
 "nbformat_minor": 0
}
