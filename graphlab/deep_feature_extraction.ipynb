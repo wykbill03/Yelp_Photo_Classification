{
 "cells": [
  {
   "cell_type": "markdown",
   "metadata": {},
   "source": [
    "### Extract Deep Convolutional Activation Feature for Yelp Image Classification Challenge"
   ]
  },
  {
   "cell_type": "code",
   "execution_count": 1,
   "metadata": {
    "collapsed": false
   },
   "outputs": [],
   "source": [
    "##only run this when you need to run pyspark on graphlab\n",
    "#!export SPARK_HOME=\"/Users/XXX/spark-1.6.0-bin-hadoop2.6/bin\"\n",
    "#!export PYTHONPATH=$SPARK_HOME/python/:$SPARK_HOME/python/lib/py4j-0.9-src.zip:$PYTHONPATH\n",
    "#!which python"
   ]
  },
  {
   "cell_type": "code",
   "execution_count": 138,
   "metadata": {
    "collapsed": false
   },
   "outputs": [],
   "source": [
    "#import findspark\n",
    "#findspark.init()\n",
    "import graphlab as gl\n",
    "import pandas as pd\n",
    "import numpy as np\n",
    "import glob\n",
    "import random\n",
    "#import pyspark\n",
    "import os\n",
    "import matplotlib.pyplot as plt\n",
    "%matplotlib inline"
   ]
  },
  {
   "cell_type": "markdown",
   "metadata": {},
   "source": [
    "### Data preparation"
   ]
  },
  {
   "cell_type": "markdown",
   "metadata": {},
   "source": [
    "You can run full training set with a GPU instance but I used a spot instance so I did feature extraction in a batch mode"
   ]
  },
  {
   "cell_type": "code",
   "execution_count": 205,
   "metadata": {
    "collapsed": false
   },
   "outputs": [
    {
     "data": {
      "text/plain": [
       "10"
      ]
     },
     "execution_count": 205,
     "metadata": {},
     "output_type": "execute_result"
    }
   ],
   "source": [
    "# divide 230K image files into 10 lists !!!! only run this chunk one time because it is time consuming\n",
    "path = glob.glob('kaggle_yelp/test_photos/*.jpg')\n",
    "lst_file = [file for file in path]\n",
    "\n",
    "def partition(lst):\n",
    "    random.shuffle(lst)\n",
    "    division = len(lst) / float(10)\n",
    "    return [lst[int(round(division * i)): int(round(division * (i + 1)))] for i in range(10) ]\n",
    "\n",
    "lst_image = partition(lst_file)\n",
    "len(lst_image)\n",
    "    "
   ]
  },
  {
   "cell_type": "code",
   "execution_count": 207,
   "metadata": {
    "collapsed": false
   },
   "outputs": [],
   "source": [
    "# copy image file in each of the list to a new folder !!!! only run this one time\n",
    "import shutil\n",
    "root_path = 'kaggle_yelp'\n",
    "\n",
    "def copy_image(root_path):\n",
    "    for i in range(len(lst_image)):\n",
    "        folder = \"test_\" + str(i)\n",
    "        os.mkdir(os.path.join(root_path,folder))\n",
    "        \n",
    "        for pic_file in lst_image[i]:\n",
    "            shutil.copy(pic_file, os.path.join(root_path,folder))\n",
    "        \n",
    "        i += 1\n",
    "    \n",
    "copy_image(root_path)\n"
   ]
  },
  {
   "cell_type": "markdown",
   "metadata": {},
   "source": [
    "### Feature Extraction"
   ]
  },
  {
   "cell_type": "markdown",
   "metadata": {},
   "source": [
    "We used Alexnet which is a pre-trained converlutional neural network trained from ImageNet, we extracted features from the last full connection layer before the classification to represent the features of our image. For more information of using a pre-trained neural network, please refer the paper: DeCAF: A Deep Convolutional Activation Feature for Generic Visual Recognition"
   ]
  },
  {
   "cell_type": "code",
   "execution_count": 139,
   "metadata": {
    "collapsed": false
   },
   "outputs": [
    {
     "data": {
      "text/plain": [
       "\n",
       "### network layers ###\n",
       "layer[0]: ConvolutionLayer\n",
       "  init_random = gaussian\n",
       "  padding = 0\n",
       "  stride = 4\n",
       "  num_channels = 96\n",
       "  num_groups = 1\n",
       "  kernel_size = 11\n",
       "layer[1]: RectifiedLinearLayer\n",
       "layer[2]: MaxPoolingLayer\n",
       "  padding = 0\n",
       "  stride = 2\n",
       "  kernel_size = 3\n",
       "layer[3]: LocalResponseNormalizationLayer\n",
       "  alpha = 0.001\n",
       "  beta = 0.75\n",
       "  knorm = 1\n",
       "  local_size = 5\n",
       "layer[4]: ConvolutionLayer\n",
       "  init_random = gaussian\n",
       "  padding = 2\n",
       "  stride = 1\n",
       "  num_channels = 256\n",
       "  num_groups = 2\n",
       "  kernel_size = 5\n",
       "layer[5]: RectifiedLinearLayer\n",
       "layer[6]: MaxPoolingLayer\n",
       "  padding = 0\n",
       "  stride = 2\n",
       "  kernel_size = 3\n",
       "layer[7]: LocalResponseNormalizationLayer\n",
       "  alpha = 0.001\n",
       "  beta = 0.75\n",
       "  knorm = 1\n",
       "  local_size = 5\n",
       "layer[8]: ConvolutionLayer\n",
       "  init_random = gaussian\n",
       "  padding = 1\n",
       "  stride = 1\n",
       "  num_channels = 384\n",
       "  num_groups = 1\n",
       "  kernel_size = 3\n",
       "layer[9]: RectifiedLinearLayer\n",
       "layer[10]: ConvolutionLayer\n",
       "  init_random = gaussian\n",
       "  padding = 1\n",
       "  stride = 1\n",
       "  num_channels = 384\n",
       "  num_groups = 2\n",
       "  kernel_size = 3\n",
       "layer[11]: RectifiedLinearLayer\n",
       "layer[12]: ConvolutionLayer\n",
       "  init_random = gaussian\n",
       "  padding = 1\n",
       "  stride = 1\n",
       "  init_bias = 1.0\n",
       "  num_channels = 256\n",
       "  num_groups = 2\n",
       "  kernel_size = 3\n",
       "layer[13]: RectifiedLinearLayer\n",
       "layer[14]: MaxPoolingLayer\n",
       "  padding = 0\n",
       "  stride = 2\n",
       "  kernel_size = 3\n",
       "layer[15]: FlattenLayer\n",
       "layer[16]: FullConnectionLayer\n",
       "  init_sigma = 0.005\n",
       "  init_random = gaussian\n",
       "  init_bias = 1.0\n",
       "  num_hidden_units = 4096\n",
       "layer[17]: RectifiedLinearLayer\n",
       "layer[18]: DropoutLayer\n",
       "  threshold = 0.5\n",
       "layer[19]: FullConnectionLayer\n",
       "  init_sigma = 0.005\n",
       "  init_random = gaussian\n",
       "  init_bias = 1.0\n",
       "  num_hidden_units = 4096\n",
       "layer[20]: RectifiedLinearLayer\n",
       "layer[21]: DropoutLayer\n",
       "  threshold = 0.5\n",
       "layer[22]: FullConnectionLayer\n",
       "  init_sigma = 0.01\n",
       "  init_random = gaussian\n",
       "  init_bias = 0\n",
       "  num_hidden_units = 1000\n",
       "layer[23]: SoftmaxLayer\n",
       "### end network layers ###\n",
       "\n",
       "### network parameters ###\n",
       "init_random = gaussian\n",
       "learning_rate = 0.01\n",
       "input_shape = 3,227,227\n",
       "learning_rate_gamma = 0.1\n",
       "learning_rate_schedule = exponential_decay\n",
       "random_mirror = 1\n",
       "learning_rate_step = 100000\n",
       "random_crop = 1\n",
       "init_sigma = 0.01\n",
       "bias_learning_rate = 0.02\n",
       "l2_regularization = 0.0005\n",
       "momentum = 0.9\n",
       "### end network parameters ###"
      ]
     },
     "execution_count": 139,
     "metadata": {},
     "output_type": "execute_result"
    }
   ],
   "source": [
    "gl.deeplearning.get_builtin_neuralnet('imagenet')"
   ]
  },
  {
   "cell_type": "code",
   "execution_count": null,
   "metadata": {
    "collapsed": true
   },
   "outputs": [],
   "source": [
    "# extract deep feature for the trainning set and store them in S3, this was running on EC2 g2.2XLarge instance\n",
    "gl.product_key.set_product_key('***')\n",
    "gl.product_key.get_product_key()\n",
    "gl.aws.set_credentials('***', '**')\n",
    "path = 's3://awesomedata/yelp/'\n",
    "\n",
    "def extract_feature(path):\n",
    "    pic_dir = glob.glob('train_*')\n",
    "    \n",
    "    model = gl.toolkits.feature_engineering.DeepFeatureExtractor(features = 'image',\n",
    "                                                                 model='auto', \n",
    "                                                                 output_column_prefix='features')\n",
    "    i = 0\n",
    "\n",
    "    for folder in pic_dir:\n",
    "        print folder\n",
    "   \n",
    "        image_load = gl.image_analysis.load_images(folder, \"auto\", with_path=True, recursive=True)\n",
    "        image_load['image'] = gl.image_analysis.resize(image_load['image'], 256, 256, 3)\n",
    "    \n",
    "        extract_id = lambda x: int(re.match('.*/([0-9]+).jpg', x).group(1))\n",
    "        train_ids = map(extract_id, image_load['path'])\n",
    "    \n",
    "        image_load['path'] = train_ids\n",
    "        image_load.rename({'path': 'pic_id'})\n",
    "    \n",
    "    \n",
    "        image_load = model.fit_transform(image_load)\n",
    "        image_feature = image_load['pic_id', 'features.image']\n",
    "        image_feature.save(path + 'train_' + str(i) )\n",
    "    \n",
    "        i += 1"
   ]
  },
  {
   "cell_type": "code",
   "execution_count": null,
   "metadata": {
    "collapsed": true
   },
   "outputs": [],
   "source": [
    "# combining all subset of features into one SFrame, reading from S3\n",
    "folder_name = ['train_' + str(i) for i in range(10)]\n",
    "\n",
    "def combine_feature(folder_lst):\n",
    "    traindf = gl.SFrame(path + 'train_0')\n",
    "    \n",
    "    for dir in folder_lst[1:]:\n",
    "        traindf = traindf.append(gl.SFrame(path + dir))\n",
    "    \n",
    "    return traindf\n",
    "\n",
    "train = combine_feature(folder_name)\n"
   ]
  },
  {
   "cell_type": "code",
   "execution_count": 46,
   "metadata": {
    "collapsed": false
   },
   "outputs": [
    {
     "data": {
      "text/plain": [
       "(0, 12)"
      ]
     },
     "execution_count": 46,
     "metadata": {},
     "output_type": "execute_result"
    },
    {
     "data": {
      "image/png": "[encoded data removed]",
      "text/plain": [
       "<matplotlib.figure.Figure at 0x11d951b90>"
      ]
     },
     "metadata": {},
     "output_type": "display_data"
    }
   ],
   "source": [
    "# the plot below shows feature difference bwteen images that are similar\n",
    "plt.figure(figsize=(22,4))\n",
    "da = list(train[train['pic_id'] == 375743]['features.image'][0])\n",
    "db = list(train[train['pic_id'] == 244195]['features.image'][0])\n",
    "diff = [abs(vb-va) for vb,va in zip(db,da)]\n",
    "plt.plot(range(4096), diff, marker='+', color='b')\n",
    "plt.xlim((0, 4096))\n",
    "plt.ylim((0,12))"
   ]
  },
  {
   "cell_type": "markdown",
   "metadata": {},
   "source": [
    "### Assign labels to pictures"
   ]
  },
  {
   "cell_type": "code",
   "execution_count": 2,
   "metadata": {
    "collapsed": false
   },
   "outputs": [],
   "source": [
    "# the following steps are for joining pic_id with labels\n",
    "pic_biz = gl.SFrame('./Kaggle_Yelp/train_photo_to_biz_ids.csv')"
   ]
  },
  {
   "cell_type": "code",
   "execution_count": 3,
   "metadata": {
    "collapsed": false
   },
   "outputs": [],
   "source": [
    "biz_label = gl.SFrame('./Kaggle_Yelp/train.csv')"
   ]
  },
  {
   "cell_type": "code",
   "execution_count": 23,
   "metadata": {
    "collapsed": false
   },
   "outputs": [],
   "source": [
    "pic_biz_label = biz_label.join(pic_biz, on='business_id')"
   ]
  },
  {
   "cell_type": "code",
   "execution_count": 24,
   "metadata": {
    "collapsed": false
   },
   "outputs": [
    {
     "data": {
      "text/html": [
       "<div style=\"max-height:1000px;max-width:1500px;overflow:auto;\"><table frame=\"box\" rules=\"cols\">\n",
       "    <tr>\n",
       "        <th style=\"padding-left: 1em; padding-right: 1em; text-align: center\">business_id</th>\n",
       "        <th style=\"padding-left: 1em; padding-right: 1em; text-align: center\">labels</th>\n",
       "        <th style=\"padding-left: 1em; padding-right: 1em; text-align: center\">photo_id</th>\n",
       "    </tr>\n",
       "    <tr>\n",
       "        <td style=\"padding-left: 1em; padding-right: 1em; text-align: center; vertical-align: top\">3034</td>\n",
       "        <td style=\"padding-left: 1em; padding-right: 1em; text-align: center; vertical-align: top\">3 8</td>\n",
       "        <td style=\"padding-left: 1em; padding-right: 1em; text-align: center; vertical-align: top\">204149</td>\n",
       "    </tr>\n",
       "    <tr>\n",
       "        <td style=\"padding-left: 1em; padding-right: 1em; text-align: center; vertical-align: top\">2805</td>\n",
       "        <td style=\"padding-left: 1em; padding-right: 1em; text-align: center; vertical-align: top\">1 2 3 5 6 7</td>\n",
       "        <td style=\"padding-left: 1em; padding-right: 1em; text-align: center; vertical-align: top\">52779</td>\n",
       "    </tr>\n",
       "    <tr>\n",
       "        <td style=\"padding-left: 1em; padding-right: 1em; text-align: center; vertical-align: top\">485</td>\n",
       "        <td style=\"padding-left: 1em; padding-right: 1em; text-align: center; vertical-align: top\">1 2 3 4 5 6 7</td>\n",
       "        <td style=\"padding-left: 1em; padding-right: 1em; text-align: center; vertical-align: top\">278973</td>\n",
       "    </tr>\n",
       "    <tr>\n",
       "        <td style=\"padding-left: 1em; padding-right: 1em; text-align: center; vertical-align: top\">485</td>\n",
       "        <td style=\"padding-left: 1em; padding-right: 1em; text-align: center; vertical-align: top\">1 2 3 4 5 6 7</td>\n",
       "        <td style=\"padding-left: 1em; padding-right: 1em; text-align: center; vertical-align: top\">195284</td>\n",
       "    </tr>\n",
       "    <tr>\n",
       "        <td style=\"padding-left: 1em; padding-right: 1em; text-align: center; vertical-align: top\">485</td>\n",
       "        <td style=\"padding-left: 1em; padding-right: 1em; text-align: center; vertical-align: top\">1 2 3 4 5 6 7</td>\n",
       "        <td style=\"padding-left: 1em; padding-right: 1em; text-align: center; vertical-align: top\">19992</td>\n",
       "    </tr>\n",
       "    <tr>\n",
       "        <td style=\"padding-left: 1em; padding-right: 1em; text-align: center; vertical-align: top\">485</td>\n",
       "        <td style=\"padding-left: 1em; padding-right: 1em; text-align: center; vertical-align: top\">1 2 3 4 5 6 7</td>\n",
       "        <td style=\"padding-left: 1em; padding-right: 1em; text-align: center; vertical-align: top\">80748</td>\n",
       "    </tr>\n",
       "    <tr>\n",
       "        <td style=\"padding-left: 1em; padding-right: 1em; text-align: center; vertical-align: top\">1783</td>\n",
       "        <td style=\"padding-left: 1em; padding-right: 1em; text-align: center; vertical-align: top\">1 2 3 5 6 7</td>\n",
       "        <td style=\"padding-left: 1em; padding-right: 1em; text-align: center; vertical-align: top\">444996</td>\n",
       "    </tr>\n",
       "    <tr>\n",
       "        <td style=\"padding-left: 1em; padding-right: 1em; text-align: center; vertical-align: top\">35</td>\n",
       "        <td style=\"padding-left: 1em; padding-right: 1em; text-align: center; vertical-align: top\">1 2 5 6 8</td>\n",
       "        <td style=\"padding-left: 1em; padding-right: 1em; text-align: center; vertical-align: top\">200285</td>\n",
       "    </tr>\n",
       "    <tr>\n",
       "        <td style=\"padding-left: 1em; padding-right: 1em; text-align: center; vertical-align: top\">35</td>\n",
       "        <td style=\"padding-left: 1em; padding-right: 1em; text-align: center; vertical-align: top\">1 2 5 6 8</td>\n",
       "        <td style=\"padding-left: 1em; padding-right: 1em; text-align: center; vertical-align: top\">90572</td>\n",
       "    </tr>\n",
       "    <tr>\n",
       "        <td style=\"padding-left: 1em; padding-right: 1em; text-align: center; vertical-align: top\">1313</td>\n",
       "        <td style=\"padding-left: 1em; padding-right: 1em; text-align: center; vertical-align: top\">3 6 8</td>\n",
       "        <td style=\"padding-left: 1em; padding-right: 1em; text-align: center; vertical-align: top\">27565</td>\n",
       "    </tr>\n",
       "</table>\n",
       "[234842 rows x 3 columns]<br/>Note: Only the head of the SFrame is printed.<br/>You can use print_rows(num_rows=m, num_columns=n) to print more rows and columns.\n",
       "</div>"
      ],
      "text/plain": [
       "Columns:\n",
       "\tbusiness_id\tint\n",
       "\tlabels\tstr\n",
       "\tphoto_id\tint\n",
       "\n",
       "Rows: 234842\n",
       "\n",
       "Data:\n",
       "+-------------+---------------+----------+\n",
       "| business_id |     labels    | photo_id |\n",
       "+-------------+---------------+----------+\n",
       "|     3034    |      3 8      |  204149  |\n",
       "|     2805    |  1 2 3 5 6 7  |  52779   |\n",
       "|     485     | 1 2 3 4 5 6 7 |  278973  |\n",
       "|     485     | 1 2 3 4 5 6 7 |  195284  |\n",
       "|     485     | 1 2 3 4 5 6 7 |  19992   |\n",
       "|     485     | 1 2 3 4 5 6 7 |  80748   |\n",
       "|     1783    |  1 2 3 5 6 7  |  444996  |\n",
       "|      35     |   1 2 5 6 8   |  200285  |\n",
       "|      35     |   1 2 5 6 8   |  90572   |\n",
       "|     1313    |     3 6 8     |  27565   |\n",
       "+-------------+---------------+----------+\n",
       "[234842 rows x 3 columns]\n",
       "Note: Only the head of the SFrame is printed.\n",
       "You can use print_rows(num_rows=m, num_columns=n) to print more rows and columns."
      ]
     },
     "execution_count": 24,
     "metadata": {},
     "output_type": "execute_result"
    }
   ],
   "source": [
    "pic_biz_label"
   ]
  },
  {
   "cell_type": "code",
   "execution_count": 25,
   "metadata": {
    "collapsed": false
   },
   "outputs": [
    {
     "data": {
      "text/html": [
       "<div style=\"max-height:1000px;max-width:1500px;overflow:auto;\"><table frame=\"box\" rules=\"cols\">\n",
       "    <tr>\n",
       "        <th style=\"padding-left: 1em; padding-right: 1em; text-align: center\">photo_id</th>\n",
       "        <th style=\"padding-left: 1em; padding-right: 1em; text-align: center\">labels</th>\n",
       "    </tr>\n",
       "    <tr>\n",
       "        <td style=\"padding-left: 1em; padding-right: 1em; text-align: center; vertical-align: top\">204149</td>\n",
       "        <td style=\"padding-left: 1em; padding-right: 1em; text-align: center; vertical-align: top\">3 8</td>\n",
       "    </tr>\n",
       "    <tr>\n",
       "        <td style=\"padding-left: 1em; padding-right: 1em; text-align: center; vertical-align: top\">52779</td>\n",
       "        <td style=\"padding-left: 1em; padding-right: 1em; text-align: center; vertical-align: top\">1 2 3 5 6 7</td>\n",
       "    </tr>\n",
       "    <tr>\n",
       "        <td style=\"padding-left: 1em; padding-right: 1em; text-align: center; vertical-align: top\">278973</td>\n",
       "        <td style=\"padding-left: 1em; padding-right: 1em; text-align: center; vertical-align: top\">1 2 3 4 5 6 7</td>\n",
       "    </tr>\n",
       "    <tr>\n",
       "        <td style=\"padding-left: 1em; padding-right: 1em; text-align: center; vertical-align: top\">195284</td>\n",
       "        <td style=\"padding-left: 1em; padding-right: 1em; text-align: center; vertical-align: top\">1 2 3 4 5 6 7</td>\n",
       "    </tr>\n",
       "    <tr>\n",
       "        <td style=\"padding-left: 1em; padding-right: 1em; text-align: center; vertical-align: top\">19992</td>\n",
       "        <td style=\"padding-left: 1em; padding-right: 1em; text-align: center; vertical-align: top\">1 2 3 4 5 6 7</td>\n",
       "    </tr>\n",
       "    <tr>\n",
       "        <td style=\"padding-left: 1em; padding-right: 1em; text-align: center; vertical-align: top\">80748</td>\n",
       "        <td style=\"padding-left: 1em; padding-right: 1em; text-align: center; vertical-align: top\">1 2 3 4 5 6 7</td>\n",
       "    </tr>\n",
       "    <tr>\n",
       "        <td style=\"padding-left: 1em; padding-right: 1em; text-align: center; vertical-align: top\">444996</td>\n",
       "        <td style=\"padding-left: 1em; padding-right: 1em; text-align: center; vertical-align: top\">1 2 3 5 6 7</td>\n",
       "    </tr>\n",
       "    <tr>\n",
       "        <td style=\"padding-left: 1em; padding-right: 1em; text-align: center; vertical-align: top\">200285</td>\n",
       "        <td style=\"padding-left: 1em; padding-right: 1em; text-align: center; vertical-align: top\">1 2 5 6 8</td>\n",
       "    </tr>\n",
       "    <tr>\n",
       "        <td style=\"padding-left: 1em; padding-right: 1em; text-align: center; vertical-align: top\">90572</td>\n",
       "        <td style=\"padding-left: 1em; padding-right: 1em; text-align: center; vertical-align: top\">1 2 5 6 8</td>\n",
       "    </tr>\n",
       "    <tr>\n",
       "        <td style=\"padding-left: 1em; padding-right: 1em; text-align: center; vertical-align: top\">27565</td>\n",
       "        <td style=\"padding-left: 1em; padding-right: 1em; text-align: center; vertical-align: top\">3 6 8</td>\n",
       "    </tr>\n",
       "</table>\n",
       "[234842 rows x 2 columns]<br/>Note: Only the head of the SFrame is printed.<br/>You can use print_rows(num_rows=m, num_columns=n) to print more rows and columns.\n",
       "</div>"
      ],
      "text/plain": [
       "Columns:\n",
       "\tphoto_id\tint\n",
       "\tlabels\tstr\n",
       "\n",
       "Rows: 234842\n",
       "\n",
       "Data:\n",
       "+----------+---------------+\n",
       "| photo_id |     labels    |\n",
       "+----------+---------------+\n",
       "|  204149  |      3 8      |\n",
       "|  52779   |  1 2 3 5 6 7  |\n",
       "|  278973  | 1 2 3 4 5 6 7 |\n",
       "|  195284  | 1 2 3 4 5 6 7 |\n",
       "|  19992   | 1 2 3 4 5 6 7 |\n",
       "|  80748   | 1 2 3 4 5 6 7 |\n",
       "|  444996  |  1 2 3 5 6 7  |\n",
       "|  200285  |   1 2 5 6 8   |\n",
       "|  90572   |   1 2 5 6 8   |\n",
       "|  27565   |     3 6 8     |\n",
       "+----------+---------------+\n",
       "[234842 rows x 2 columns]\n",
       "Note: Only the head of the SFrame is printed.\n",
       "You can use print_rows(num_rows=m, num_columns=n) to print more rows and columns."
      ]
     },
     "execution_count": 25,
     "metadata": {},
     "output_type": "execute_result"
    }
   ],
   "source": [
    "pic_label = pic_biz_label['photo_id', 'labels']\n",
    "pic_label"
   ]
  },
  {
   "cell_type": "code",
   "execution_count": 26,
   "metadata": {
    "collapsed": false
   },
   "outputs": [],
   "source": [
    "train = pic_label.join(train_df, on={'photo_id':'pic_id'})"
   ]
  },
  {
   "cell_type": "code",
   "execution_count": 27,
   "metadata": {
    "collapsed": false
   },
   "outputs": [
    {
     "data": {
      "text/html": [
       "<div style=\"max-height:1000px;max-width:1500px;overflow:auto;\"><table frame=\"box\" rules=\"cols\">\n",
       "    <tr>\n",
       "        <th style=\"padding-left: 1em; padding-right: 1em; text-align: center\">photo_id</th>\n",
       "        <th style=\"padding-left: 1em; padding-right: 1em; text-align: center\">labels</th>\n",
       "        <th style=\"padding-left: 1em; padding-right: 1em; text-align: center\">features.image</th>\n",
       "    </tr>\n",
       "    <tr>\n",
       "        <td style=\"padding-left: 1em; padding-right: 1em; text-align: center; vertical-align: top\">103689</td>\n",
       "        <td style=\"padding-left: 1em; padding-right: 1em; text-align: center; vertical-align: top\">1 2 3 4 5 6 7</td>\n",
       "        <td style=\"padding-left: 1em; padding-right: 1em; text-align: center; vertical-align: top\">[0.170720815659,<br>0.239150226116, 0.0,  ...</td>\n",
       "    </tr>\n",
       "    <tr>\n",
       "        <td style=\"padding-left: 1em; padding-right: 1em; text-align: center; vertical-align: top\">448995</td>\n",
       "        <td style=\"padding-left: 1em; padding-right: 1em; text-align: center; vertical-align: top\">0 5 8</td>\n",
       "        <td style=\"padding-left: 1em; padding-right: 1em; text-align: center; vertical-align: top\">[0.0, 0.0, 0.0, 0.0,<br>1.94480085373, 0.0, 0.0, ...</td>\n",
       "    </tr>\n",
       "    <tr>\n",
       "        <td style=\"padding-left: 1em; padding-right: 1em; text-align: center; vertical-align: top\">396884</td>\n",
       "        <td style=\"padding-left: 1em; padding-right: 1em; text-align: center; vertical-align: top\">0 3 8</td>\n",
       "        <td style=\"padding-left: 1em; padding-right: 1em; text-align: center; vertical-align: top\">[0.0, 0.0, 0.0, 0.0, 0.0,<br>0.0, 0.0, 0.0, 0.0, 0.0, ...</td>\n",
       "    </tr>\n",
       "    <tr>\n",
       "        <td style=\"padding-left: 1em; padding-right: 1em; text-align: center; vertical-align: top\">210835</td>\n",
       "        <td style=\"padding-left: 1em; padding-right: 1em; text-align: center; vertical-align: top\">1 2 3 4 5 6 7</td>\n",
       "        <td style=\"padding-left: 1em; padding-right: 1em; text-align: center; vertical-align: top\">[0.0, 0.0, 0.0, 0.0, 0.0,<br>0.0, 0.0, 0.0, ...</td>\n",
       "    </tr>\n",
       "    <tr>\n",
       "        <td style=\"padding-left: 1em; padding-right: 1em; text-align: center; vertical-align: top\">429621</td>\n",
       "        <td style=\"padding-left: 1em; padding-right: 1em; text-align: center; vertical-align: top\">5 8</td>\n",
       "        <td style=\"padding-left: 1em; padding-right: 1em; text-align: center; vertical-align: top\">[0.0, 0.0, 0.0, 0.0, 0.0,<br>3.75866699219, 0.0, 0.0, ...</td>\n",
       "    </tr>\n",
       "    <tr>\n",
       "        <td style=\"padding-left: 1em; padding-right: 1em; text-align: center; vertical-align: top\">470306</td>\n",
       "        <td style=\"padding-left: 1em; padding-right: 1em; text-align: center; vertical-align: top\">0 2 6 8</td>\n",
       "        <td style=\"padding-left: 1em; padding-right: 1em; text-align: center; vertical-align: top\">[0.0, 0.0, 0.0, 0.0, 0.0,<br>0.0, 0.0, 0.0, 0.0, 0.0, ...</td>\n",
       "    </tr>\n",
       "    <tr>\n",
       "        <td style=\"padding-left: 1em; padding-right: 1em; text-align: center; vertical-align: top\">414570</td>\n",
       "        <td style=\"padding-left: 1em; padding-right: 1em; text-align: center; vertical-align: top\">1 2 4 5 6 7 8</td>\n",
       "        <td style=\"padding-left: 1em; padding-right: 1em; text-align: center; vertical-align: top\">[0.0, 0.0,<br>0.600430548191, 0.0, ...</td>\n",
       "    </tr>\n",
       "    <tr>\n",
       "        <td style=\"padding-left: 1em; padding-right: 1em; text-align: center; vertical-align: top\">310517</td>\n",
       "        <td style=\"padding-left: 1em; padding-right: 1em; text-align: center; vertical-align: top\">0 1 2 5 6 8</td>\n",
       "        <td style=\"padding-left: 1em; padding-right: 1em; text-align: center; vertical-align: top\">[0.0, 0.0,<br>0.241091310978, 0.0, ...</td>\n",
       "    </tr>\n",
       "    <tr>\n",
       "        <td style=\"padding-left: 1em; padding-right: 1em; text-align: center; vertical-align: top\">79185</td>\n",
       "        <td style=\"padding-left: 1em; padding-right: 1em; text-align: center; vertical-align: top\">1 2 3 4 5 6 7</td>\n",
       "        <td style=\"padding-left: 1em; padding-right: 1em; text-align: center; vertical-align: top\">[0.0, 0.0, 0.0, 0.0, 0.0,<br>0.0, 0.0, 0.0, ...</td>\n",
       "    </tr>\n",
       "    <tr>\n",
       "        <td style=\"padding-left: 1em; padding-right: 1em; text-align: center; vertical-align: top\">441942</td>\n",
       "        <td style=\"padding-left: 1em; padding-right: 1em; text-align: center; vertical-align: top\">2 8</td>\n",
       "        <td style=\"padding-left: 1em; padding-right: 1em; text-align: center; vertical-align: top\">[0.0, 0.0, 0.0, 0.0, 0.0,<br>0.0, 0.0, 0.0, 0.0, 0.0, ...</td>\n",
       "    </tr>\n",
       "</table>\n",
       "[234842 rows x 3 columns]<br/>Note: Only the head of the SFrame is printed.<br/>You can use print_rows(num_rows=m, num_columns=n) to print more rows and columns.\n",
       "</div>"
      ],
      "text/plain": [
       "Columns:\n",
       "\tphoto_id\tint\n",
       "\tlabels\tstr\n",
       "\tfeatures.image\tarray\n",
       "\n",
       "Rows: 234842\n",
       "\n",
       "Data:\n",
       "+----------+---------------+-------------------------------+\n",
       "| photo_id |     labels    |         features.image        |\n",
       "+----------+---------------+-------------------------------+\n",
       "|  103689  | 1 2 3 4 5 6 7 | [0.170720815659, 0.2391502... |\n",
       "|  448995  |     0 5 8     | [0.0, 0.0, 0.0, 0.0, 1.944... |\n",
       "|  396884  |     0 3 8     | [0.0, 0.0, 0.0, 0.0, 0.0, ... |\n",
       "|  210835  | 1 2 3 4 5 6 7 | [0.0, 0.0, 0.0, 0.0, 0.0, ... |\n",
       "|  429621  |      5 8      | [0.0, 0.0, 0.0, 0.0, 0.0, ... |\n",
       "|  470306  |    0 2 6 8    | [0.0, 0.0, 0.0, 0.0, 0.0, ... |\n",
       "|  414570  | 1 2 4 5 6 7 8 | [0.0, 0.0, 0.600430548191,... |\n",
       "|  310517  |  0 1 2 5 6 8  | [0.0, 0.0, 0.241091310978,... |\n",
       "|  79185   | 1 2 3 4 5 6 7 | [0.0, 0.0, 0.0, 0.0, 0.0, ... |\n",
       "|  441942  |      2 8      | [0.0, 0.0, 0.0, 0.0, 0.0, ... |\n",
       "+----------+---------------+-------------------------------+\n",
       "[234842 rows x 3 columns]\n",
       "Note: Only the head of the SFrame is printed.\n",
       "You can use print_rows(num_rows=m, num_columns=n) to print more rows and columns."
      ]
     },
     "execution_count": 27,
     "metadata": {},
     "output_type": "execute_result"
    }
   ],
   "source": [
    "train"
   ]
  },
  {
   "cell_type": "code",
   "execution_count": 28,
   "metadata": {
    "collapsed": false
   },
   "outputs": [],
   "source": [
    "train['labels'] = train['labels'].apply(lambda x: x.split(\" \"))\n",
    "train['photo_id', 'labels'].save('train_pic_label_all.csv', format='csv')"
   ]
  },
  {
   "cell_type": "code",
   "execution_count": 35,
   "metadata": {
    "collapsed": false
   },
   "outputs": [],
   "source": [
    "def map_label(x):\n",
    "    label = dict()\n",
    "    \n",
    "    for item in x:\n",
    "        label[item] = 1\n",
    "    return label\n",
    "\n",
    "train['labels'] = train['labels'].apply(lambda x: map_label(x))\n",
    "train = train.unpack('labels')\n",
    "train.remove_column('labels.')\n",
    "\n",
    "train.rename ({\"photo_id\": \"pic_id\", \n",
    "                 \"features.image\": \"features\", \n",
    "                 \"labels.0\": \"good_for_lunch\", \n",
    "                 \"labels.1\": \"good_for_dinner\",\n",
    "                 \"labels.2\": \"takes_reservations\",\n",
    "                 \"labels.3\": \"outdoor_seating\", \n",
    "                 \"labels.4\": \"restaurant_is_expensive\",\n",
    "                 \"labels.5\": \"has_alcohol\", \n",
    "                 \"labels.6\": \"has_table_service\", \n",
    "                 \"labels.7\": \"ambience_is_classy\", \n",
    "                 \"labels.8\": \"good_for_kids\"})\n",
    "\n",
    "for name in train.column_names()[2:11]:\n",
    "    train = train.fillna(name, 0)"
   ]
  },
  {
   "cell_type": "code",
   "execution_count": 4,
   "metadata": {
    "collapsed": false
   },
   "outputs": [],
   "source": [
    "train.save('traindf')"
   ]
  },
  {
   "cell_type": "markdown",
   "metadata": {},
   "source": [
    "### Build binary classifier on each label, train the classifier on graphlab ec2 cluster"
   ]
  },
  {
   "cell_type": "code",
   "execution_count": 70,
   "metadata": {
    "collapsed": false
   },
   "outputs": [],
   "source": [
    "# load the feature SFrame\n",
    "train = gl.SFrame('traindf')"
   ]
  },
  {
   "cell_type": "code",
   "execution_count": 120,
   "metadata": {
    "collapsed": true
   },
   "outputs": [],
   "source": [
    "ec2config = gl.deploy.Ec2Config()"
   ]
  },
  {
   "cell_type": "code",
   "execution_count": 121,
   "metadata": {
    "collapsed": false
   },
   "outputs": [
    {
     "name": "stderr",
     "output_type": "stream",
     "text": [
      "[INFO] Launching an m3.xlarge instance in the us-west-2b availability zone, with id: i-a689227e. You will be responsible for the cost of this instance.\n",
      "[INFO] 3 additional hosts will be launched by i-a689227e\n",
      "[INFO] Waiting for i-a689227e to start up.\n",
      "[INFO] Deleting keys: []\n"
     ]
    }
   ],
   "source": [
    "ec2 = gl.deploy.ec2_cluster.create(name='yelp',\n",
    "                                   s3_path=path,\n",
    "                                   ec2_config=ec2config,\n",
    "                                   num_hosts=4)"
   ]
  },
  {
   "cell_type": "code",
   "execution_count": 124,
   "metadata": {
    "collapsed": true
   },
   "outputs": [],
   "source": [
    "c = gl.deploy.ec2_cluster.load(path)\n",
    "job = gl.deploy.job.create(get_classifier, environment=c, train = train)"
   ]
  },
  {
   "cell_type": "code",
   "execution_count": null,
   "metadata": {
    "collapsed": true
   },
   "outputs": [],
   "source": []
  }
 ],
 "metadata": {
  "kernelspec": {
   "display_name": "Python 2",
   "language": "python",
   "name": "python2"
  },
  "language_info": {
   "codemirror_mode": {
    "name": "ipython",
    "version": 2
   },
   "file_extension": ".py",
   "mimetype": "text/x-python",
   "name": "python",
   "nbconvert_exporter": "python",
   "pygments_lexer": "ipython2",
   "version": "2.7.10"
  }
 },
 "nbformat": 4,
 "nbformat_minor": 0
}
