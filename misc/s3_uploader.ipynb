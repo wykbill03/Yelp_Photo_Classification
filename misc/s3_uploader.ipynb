{
 "cells": [
  {
   "cell_type": "code",
   "execution_count": 3,
   "metadata": {
    "collapsed": true
   },
   "outputs": [],
   "source": [
    "from boto.s3.connection import S3Connection\n",
    "from boto.s3.key import Key"
   ]
  },
  {
   "cell_type": "code",
   "execution_count": 4,
   "metadata": {
    "collapsed": false
   },
   "outputs": [],
   "source": [
    "ACCESS_KEY =\"\"\n",
    "SECRET_KEY = \"\"\n",
    "\n",
    "conn = S3Connection(ACCESS_KEY, SECRET_KEY)\n",
    "pb = conn.get_bucket('amlyelp', validate=True)\n",
    "\n",
    "k = Key(pb)\n",
    "# key = Key(pb, r'fc7features/test_image_fc7features.txt')"
   ]
  },
  {
   "cell_type": "code",
   "execution_count": 12,
   "metadata": {
    "collapsed": false
   },
   "outputs": [
    {
     "ename": "KeyboardInterrupt",
     "evalue": "",
     "output_type": "error",
     "traceback": [
      "\u001b[1;31m---------------------------------------------------------------------------\u001b[0m",
      "\u001b[1;31mKeyboardInterrupt\u001b[0m                         Traceback (most recent call last)",
      "\u001b[1;32m<ipython-input-12-5b40f1c5865b>\u001b[0m in \u001b[0;36m<module>\u001b[1;34m()\u001b[0m\n\u001b[0;32m      3\u001b[0m     \u001b[0mcache\u001b[0m\u001b[1;33m=\u001b[0m\u001b[1;34m''\u001b[0m\u001b[1;33m\u001b[0m\u001b[0m\n\u001b[0;32m      4\u001b[0m     \u001b[0mchunk\u001b[0m\u001b[1;33m=\u001b[0m\u001b[1;36m5000\u001b[0m\u001b[1;33m\u001b[0m\u001b[0m\n\u001b[1;32m----> 5\u001b[1;33m     \u001b[1;32mfor\u001b[0m \u001b[0mline\u001b[0m \u001b[1;32min\u001b[0m \u001b[0mf\u001b[0m\u001b[1;33m:\u001b[0m\u001b[1;33m\u001b[0m\u001b[0m\n\u001b[0m\u001b[0;32m      6\u001b[0m         \u001b[0mcache\u001b[0m \u001b[1;33m+=\u001b[0m \u001b[0mline\u001b[0m\u001b[1;33m\u001b[0m\u001b[0m\n\u001b[0;32m      7\u001b[0m         \u001b[0mi\u001b[0m\u001b[1;33m+=\u001b[0m\u001b[1;36m1\u001b[0m\u001b[1;33m\u001b[0m\u001b[0m\n",
      "\u001b[1;31mKeyboardInterrupt\u001b[0m: "
     ]
    }
   ],
   "source": [
    "with open(r'/Yelp/test_image_fc7features.txt') as f:\n",
    "    i=0\n",
    "    cache=''\n",
    "    chunk=5000\n",
    "    for line in f:\n",
    "        cache += line\n",
    "        i+=1\n",
    "        if (i % chunk) ==0:\n",
    "            k.name = r'fc7features/test_image_fc7features/%d' % i\n",
    "            k.set_contents_from_string(cache)\n",
    "            print \"uploaded %d\" % i\n",
    "            cache=''\n",
    "    k.name = r'fc7features/test_image_fc7features/%d' % i\n",
    "    k.set_contents_from_string(cache)        \n",
    "#             print cache\n",
    "#             print len(cache.split('\\n'))\n",
    "#             print cache.split('\\n')[-1]\n",
    "#             break"
   ]
  },
  {
   "cell_type": "code",
   "execution_count": 1,
   "metadata": {
    "collapsed": false
   },
   "outputs": [],
   "source": [
    "# k.name = r'fc7features/test_image_fc7features.txt'\n",
    "# k.set_contents_from_filename(r'C:\\data\\Yelp\\test_image_fc7features.txt')"
   ]
  }
 ],
 "metadata": {
  "kernelspec": {
   "display_name": "Python 2",
   "language": "python",
   "name": "python2"
  },
  "language_info": {
   "codemirror_mode": {
    "name": "ipython",
    "version": 2
   },
   "file_extension": ".py",
   "mimetype": "text/x-python",
   "name": "python",
   "nbconvert_exporter": "python",
   "pygments_lexer": "ipython2",
   "version": "2.7.10"
  }
 },
 "nbformat": 4,
 "nbformat_minor": 0
}
