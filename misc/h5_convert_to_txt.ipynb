{
 "cells": [
  {
   "cell_type": "code",
   "execution_count": 14,
   "metadata": {
    "collapsed": true
   },
   "outputs": [],
   "source": [
    "import h5py\n",
    "import numpy as np\n",
    "import re"
   ]
  },
  {
   "cell_type": "code",
   "execution_count": 61,
   "metadata": {
    "collapsed": false
   },
   "outputs": [
    {
     "name": "stdout",
     "output_type": "stream",
     "text": [
      "[u'feature', u'photo_id']\n"
     ]
    }
   ],
   "source": [
    "# file = h5py.File(r'/test_image_fc7features.h5', 'r')\n",
    "# print file.keys()\n",
    "# file.close()"
   ]
  },
  {
   "cell_type": "code",
   "execution_count": 22,
   "metadata": {
    "collapsed": false
   },
   "outputs": [
    {
     "name": "stdout",
     "output_type": "stream",
     "text": [
      "237152 lines\n",
      "written 5000 lines\n",
      "written 10000 lines\n",
      "written 15000 lines\n",
      "written 20000 lines\n",
      "written 25000 lines\n",
      "written 30000 lines\n",
      "written 35000 lines\n",
      "written 40000 lines\n",
      "written 45000 lines\n",
      "written 50000 lines\n",
      "written 55000 lines\n",
      "written 60000 lines\n",
      "written 65000 lines\n",
      "written 70000 lines\n",
      "written 75000 lines\n",
      "written 80000 lines\n",
      "written 85000 lines\n",
      "written 90000 lines\n",
      "written 95000 lines\n",
      "written 100000 lines\n",
      "written 105000 lines\n",
      "written 110000 lines\n",
      "written 115000 lines\n",
      "written 120000 lines\n",
      "written 125000 lines\n",
      "written 130000 lines\n",
      "written 135000 lines\n",
      "written 140000 lines\n",
      "written 145000 lines\n",
      "written 150000 lines\n",
      "written 155000 lines\n",
      "written 160000 lines\n",
      "written 165000 lines\n",
      "written 170000 lines\n",
      "written 175000 lines\n",
      "written 180000 lines\n",
      "written 185000 lines\n",
      "written 190000 lines\n",
      "written 195000 lines\n",
      "written 200000 lines\n",
      "written 205000 lines\n",
      "written 210000 lines\n",
      "written 215000 lines\n",
      "written 220000 lines\n",
      "written 225000 lines\n",
      "written 230000 lines\n",
      "written 235000 lines\n",
      "written 237152 lines\n"
     ]
    }
   ],
   "source": [
    "with h5py.File(r'/train_image_fc7features.h5' 'r') as file:\n",
    "    with open(r'/train_image_fc7features.txt', 'w') as fw:\n",
    "        print len(file['photo_id']),'lines'\n",
    "        for i in range(len(file['photo_id'])):\n",
    "            id_str = file['photo_id'][i]\n",
    "    #         print file['feature'][i].shape\n",
    "            feature_str = ','.join(file['feature'][i].astype(np.str))\n",
    "            fw.write(id_str+'|'+feature_str+'\\n')\n",
    "            if (i+1)%5000==0:\n",
    "                print 'written',i+1,'lines'\n",
    "        print 'written',i+1,'lines'"
   ]
  }
 ],
 "metadata": {
  "kernelspec": {
   "display_name": "Python 2",
   "language": "python",
   "name": "python2"
  },
  "language_info": {
   "codemirror_mode": {
    "name": "ipython",
    "version": 2
   },
   "file_extension": ".py",
   "mimetype": "text/x-python",
   "name": "python",
   "nbconvert_exporter": "python",
   "pygments_lexer": "ipython2",
   "version": "2.7.10"
  }
 },
 "nbformat": 4,
 "nbformat_minor": 0
}
