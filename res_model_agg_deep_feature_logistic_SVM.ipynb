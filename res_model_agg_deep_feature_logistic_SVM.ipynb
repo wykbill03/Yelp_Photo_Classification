{
 "cells": [
  {
   "cell_type": "markdown",
   "metadata": {},
   "source": [
    "Build logistic regression model using aggregated deep learning features  \n",
    "Deep learning feature are extracted from each image with pretrained AlexNet"
   ]
  },
  {
   "cell_type": "code",
   "execution_count": 29,
   "metadata": {
    "collapsed": true
   },
   "outputs": [],
   "source": [
    "import pandas as pd\n",
    "import numpy as np\n",
    "from sklearn.grid_search import GridSearchCV\n",
    "from sklearn.linear_model import LogisticRegression, LogisticRegressionCV\n",
    "from sklearn.metrics import f1_score\n",
    "from sklearn.svm import SVC"
   ]
  },
  {
   "cell_type": "code",
   "execution_count": 31,
   "metadata": {
    "collapsed": false
   },
   "outputs": [],
   "source": [
    "# read aggregated restaurant level deep learning features\n",
    "res_feature_train = pd.read_csv(r'/res_deep_avg/feature_avg_train.csv',header=None)"
   ]
  },
  {
   "cell_type": "code",
   "execution_count": 32,
   "metadata": {
    "collapsed": false
   },
   "outputs": [
    {
     "data": {
      "text/html": [
       "<div>\n",
       "<table border=\"1\" class=\"dataframe\">\n",
       "  <thead>\n",
       "    <tr style=\"text-align: right;\">\n",
       "      <th></th>\n",
       "      <th>restaurant</th>\n",
       "      <th>1</th>\n",
       "      <th>2</th>\n",
       "      <th>3</th>\n",
       "      <th>4</th>\n",
       "      <th>5</th>\n",
       "      <th>6</th>\n",
       "      <th>7</th>\n",
       "      <th>8</th>\n",
       "      <th>9</th>\n",
       "      <th>...</th>\n",
       "      <th>4087</th>\n",
       "      <th>4088</th>\n",
       "      <th>4089</th>\n",
       "      <th>4090</th>\n",
       "      <th>4091</th>\n",
       "      <th>4092</th>\n",
       "      <th>4093</th>\n",
       "      <th>4094</th>\n",
       "      <th>4095</th>\n",
       "      <th>4096</th>\n",
       "    </tr>\n",
       "  </thead>\n",
       "  <tbody>\n",
       "    <tr>\n",
       "      <th>0</th>\n",
       "      <td>2543</td>\n",
       "      <td>3.102137</td>\n",
       "      <td>4.487439</td>\n",
       "      <td>4.306456</td>\n",
       "      <td>3.356702</td>\n",
       "      <td>10.010436</td>\n",
       "      <td>10.902914</td>\n",
       "      <td>2.709549</td>\n",
       "      <td>2.561266</td>\n",
       "      <td>1.810990</td>\n",
       "      <td>...</td>\n",
       "      <td>6.122845</td>\n",
       "      <td>5.998630</td>\n",
       "      <td>7.808895</td>\n",
       "      <td>7.701561</td>\n",
       "      <td>9.571619</td>\n",
       "      <td>0.778068</td>\n",
       "      <td>5.207161</td>\n",
       "      <td>2.388407</td>\n",
       "      <td>2.398979</td>\n",
       "      <td>1.816032</td>\n",
       "    </tr>\n",
       "    <tr>\n",
       "      <th>1</th>\n",
       "      <td>3580</td>\n",
       "      <td>5.287529</td>\n",
       "      <td>4.185751</td>\n",
       "      <td>3.645740</td>\n",
       "      <td>6.329757</td>\n",
       "      <td>5.535403</td>\n",
       "      <td>3.977552</td>\n",
       "      <td>6.698079</td>\n",
       "      <td>7.391171</td>\n",
       "      <td>3.274138</td>\n",
       "      <td>...</td>\n",
       "      <td>4.463264</td>\n",
       "      <td>5.905305</td>\n",
       "      <td>9.519002</td>\n",
       "      <td>6.447963</td>\n",
       "      <td>5.724946</td>\n",
       "      <td>4.363743</td>\n",
       "      <td>3.568336</td>\n",
       "      <td>2.306060</td>\n",
       "      <td>1.239113</td>\n",
       "      <td>2.156794</td>\n",
       "    </tr>\n",
       "    <tr>\n",
       "      <th>2</th>\n",
       "      <td>3232</td>\n",
       "      <td>4.284318</td>\n",
       "      <td>5.195933</td>\n",
       "      <td>4.735827</td>\n",
       "      <td>5.612554</td>\n",
       "      <td>7.924834</td>\n",
       "      <td>6.714575</td>\n",
       "      <td>10.962032</td>\n",
       "      <td>6.058934</td>\n",
       "      <td>4.670422</td>\n",
       "      <td>...</td>\n",
       "      <td>5.934104</td>\n",
       "      <td>8.936571</td>\n",
       "      <td>13.937132</td>\n",
       "      <td>13.483907</td>\n",
       "      <td>9.842915</td>\n",
       "      <td>7.410868</td>\n",
       "      <td>4.746403</td>\n",
       "      <td>5.002751</td>\n",
       "      <td>8.546763</td>\n",
       "      <td>5.607031</td>\n",
       "    </tr>\n",
       "  </tbody>\n",
       "</table>\n",
       "<p>3 rows × 4097 columns</p>\n",
       "</div>"
      ],
      "text/plain": [
       "   restaurant         1         2         3         4          5          6  \\\n",
       "0        2543  3.102137  4.487439  4.306456  3.356702  10.010436  10.902914   \n",
       "1        3580  5.287529  4.185751  3.645740  6.329757   5.535403   3.977552   \n",
       "2        3232  4.284318  5.195933  4.735827  5.612554   7.924834   6.714575   \n",
       "\n",
       "           7         8         9    ...         4087      4088       4089  \\\n",
       "0   2.709549  2.561266  1.810990    ...     6.122845  5.998630   7.808895   \n",
       "1   6.698079  7.391171  3.274138    ...     4.463264  5.905305   9.519002   \n",
       "2  10.962032  6.058934  4.670422    ...     5.934104  8.936571  13.937132   \n",
       "\n",
       "        4090      4091      4092      4093      4094      4095      4096  \n",
       "0   7.701561  9.571619  0.778068  5.207161  2.388407  2.398979  1.816032  \n",
       "1   6.447963  5.724946  4.363743  3.568336  2.306060  1.239113  2.156794  \n",
       "2  13.483907  9.842915  7.410868  4.746403  5.002751  8.546763  5.607031  \n",
       "\n",
       "[3 rows x 4097 columns]"
      ]
     },
     "execution_count": 32,
     "metadata": {},
     "output_type": "execute_result"
    }
   ],
   "source": [
    "res_feature_train.rename(columns={0:'restaurant'}, inplace=True)\n",
    "res_feature_train[:3]"
   ]
  },
  {
   "cell_type": "code",
   "execution_count": 33,
   "metadata": {
    "collapsed": false
   },
   "outputs": [
    {
     "data": {
      "text/html": [
       "<div>\n",
       "<table border=\"1\" class=\"dataframe\">\n",
       "  <thead>\n",
       "    <tr style=\"text-align: right;\">\n",
       "      <th></th>\n",
       "      <th>restaurant</th>\n",
       "      <th>label_0</th>\n",
       "      <th>label_1</th>\n",
       "      <th>label_2</th>\n",
       "      <th>label_3</th>\n",
       "      <th>label_4</th>\n",
       "      <th>label_5</th>\n",
       "      <th>label_6</th>\n",
       "      <th>label_7</th>\n",
       "      <th>label_8</th>\n",
       "    </tr>\n",
       "  </thead>\n",
       "  <tbody>\n",
       "    <tr>\n",
       "      <th>0</th>\n",
       "      <td>1000</td>\n",
       "      <td>0</td>\n",
       "      <td>1</td>\n",
       "      <td>1</td>\n",
       "      <td>1</td>\n",
       "      <td>1</td>\n",
       "      <td>1</td>\n",
       "      <td>1</td>\n",
       "      <td>1</td>\n",
       "      <td>0</td>\n",
       "    </tr>\n",
       "    <tr>\n",
       "      <th>1</th>\n",
       "      <td>1001</td>\n",
       "      <td>1</td>\n",
       "      <td>1</td>\n",
       "      <td>0</td>\n",
       "      <td>0</td>\n",
       "      <td>0</td>\n",
       "      <td>0</td>\n",
       "      <td>1</td>\n",
       "      <td>0</td>\n",
       "      <td>1</td>\n",
       "    </tr>\n",
       "    <tr>\n",
       "      <th>2</th>\n",
       "      <td>100</td>\n",
       "      <td>0</td>\n",
       "      <td>1</td>\n",
       "      <td>1</td>\n",
       "      <td>0</td>\n",
       "      <td>1</td>\n",
       "      <td>1</td>\n",
       "      <td>1</td>\n",
       "      <td>1</td>\n",
       "      <td>0</td>\n",
       "    </tr>\n",
       "  </tbody>\n",
       "</table>\n",
       "</div>"
      ],
      "text/plain": [
       "   restaurant  label_0  label_1  label_2  label_3  label_4  label_5  label_6  \\\n",
       "0        1000        0        1        1        1        1        1        1   \n",
       "1        1001        1        1        0        0        0        0        1   \n",
       "2         100        0        1        1        0        1        1        1   \n",
       "\n",
       "   label_7  label_8  \n",
       "0        1        0  \n",
       "1        0        1  \n",
       "2        1        0  "
      ]
     },
     "execution_count": 33,
     "metadata": {},
     "output_type": "execute_result"
    }
   ],
   "source": [
    "res_label=pd.read_csv(r'/res_label_train.csv')\n",
    "res_label[:3]"
   ]
  },
  {
   "cell_type": "code",
   "execution_count": 34,
   "metadata": {
    "collapsed": false
   },
   "outputs": [
    {
     "data": {
      "text/html": [
       "<div>\n",
       "<table border=\"1\" class=\"dataframe\">\n",
       "  <thead>\n",
       "    <tr style=\"text-align: right;\">\n",
       "      <th></th>\n",
       "      <th>restaurant</th>\n",
       "      <th>1</th>\n",
       "      <th>2</th>\n",
       "      <th>3</th>\n",
       "      <th>4</th>\n",
       "      <th>5</th>\n",
       "      <th>6</th>\n",
       "      <th>7</th>\n",
       "      <th>8</th>\n",
       "      <th>9</th>\n",
       "      <th>...</th>\n",
       "      <th>4096</th>\n",
       "      <th>label_0</th>\n",
       "      <th>label_1</th>\n",
       "      <th>label_2</th>\n",
       "      <th>label_3</th>\n",
       "      <th>label_4</th>\n",
       "      <th>label_5</th>\n",
       "      <th>label_6</th>\n",
       "      <th>label_7</th>\n",
       "      <th>label_8</th>\n",
       "    </tr>\n",
       "  </thead>\n",
       "  <tbody>\n",
       "    <tr>\n",
       "      <th>0</th>\n",
       "      <td>2543</td>\n",
       "      <td>3.102137</td>\n",
       "      <td>4.487439</td>\n",
       "      <td>4.306456</td>\n",
       "      <td>3.356702</td>\n",
       "      <td>10.010436</td>\n",
       "      <td>10.902914</td>\n",
       "      <td>2.709549</td>\n",
       "      <td>2.561266</td>\n",
       "      <td>1.810990</td>\n",
       "      <td>...</td>\n",
       "      <td>1.816032</td>\n",
       "      <td>1</td>\n",
       "      <td>1</td>\n",
       "      <td>1</td>\n",
       "      <td>1</td>\n",
       "      <td>0</td>\n",
       "      <td>1</td>\n",
       "      <td>1</td>\n",
       "      <td>1</td>\n",
       "      <td>1</td>\n",
       "    </tr>\n",
       "    <tr>\n",
       "      <th>1</th>\n",
       "      <td>3580</td>\n",
       "      <td>5.287529</td>\n",
       "      <td>4.185751</td>\n",
       "      <td>3.645740</td>\n",
       "      <td>6.329757</td>\n",
       "      <td>5.535403</td>\n",
       "      <td>3.977552</td>\n",
       "      <td>6.698079</td>\n",
       "      <td>7.391171</td>\n",
       "      <td>3.274138</td>\n",
       "      <td>...</td>\n",
       "      <td>2.156794</td>\n",
       "      <td>0</td>\n",
       "      <td>0</td>\n",
       "      <td>1</td>\n",
       "      <td>0</td>\n",
       "      <td>0</td>\n",
       "      <td>1</td>\n",
       "      <td>0</td>\n",
       "      <td>1</td>\n",
       "      <td>0</td>\n",
       "    </tr>\n",
       "    <tr>\n",
       "      <th>2</th>\n",
       "      <td>3232</td>\n",
       "      <td>4.284318</td>\n",
       "      <td>5.195933</td>\n",
       "      <td>4.735827</td>\n",
       "      <td>5.612554</td>\n",
       "      <td>7.924834</td>\n",
       "      <td>6.714575</td>\n",
       "      <td>10.962032</td>\n",
       "      <td>6.058934</td>\n",
       "      <td>4.670422</td>\n",
       "      <td>...</td>\n",
       "      <td>5.607031</td>\n",
       "      <td>0</td>\n",
       "      <td>1</td>\n",
       "      <td>1</td>\n",
       "      <td>0</td>\n",
       "      <td>1</td>\n",
       "      <td>1</td>\n",
       "      <td>1</td>\n",
       "      <td>1</td>\n",
       "      <td>0</td>\n",
       "    </tr>\n",
       "  </tbody>\n",
       "</table>\n",
       "<p>3 rows × 4106 columns</p>\n",
       "</div>"
      ],
      "text/plain": [
       "   restaurant         1         2         3         4          5          6  \\\n",
       "0        2543  3.102137  4.487439  4.306456  3.356702  10.010436  10.902914   \n",
       "1        3580  5.287529  4.185751  3.645740  6.329757   5.535403   3.977552   \n",
       "2        3232  4.284318  5.195933  4.735827  5.612554   7.924834   6.714575   \n",
       "\n",
       "           7         8         9   ...         4096  label_0  label_1  \\\n",
       "0   2.709549  2.561266  1.810990   ...     1.816032        1        1   \n",
       "1   6.698079  7.391171  3.274138   ...     2.156794        0        0   \n",
       "2  10.962032  6.058934  4.670422   ...     5.607031        0        1   \n",
       "\n",
       "   label_2  label_3  label_4  label_5  label_6  label_7  label_8  \n",
       "0        1        1        0        1        1        1        1  \n",
       "1        1        0        0        1        0        1        0  \n",
       "2        1        0        1        1        1        1        0  \n",
       "\n",
       "[3 rows x 4106 columns]"
      ]
     },
     "execution_count": 34,
     "metadata": {},
     "output_type": "execute_result"
    }
   ],
   "source": [
    "# merge feature and label\n",
    "res_df=res_feature_train.merge(res_label,on='restaurant')\n",
    "res_df[:3]"
   ]
  },
  {
   "cell_type": "code",
   "execution_count": 35,
   "metadata": {
    "collapsed": false
   },
   "outputs": [],
   "source": [
    "train_x = res_df.iloc[:,range(1,4097)]"
   ]
  },
  {
   "cell_type": "code",
   "execution_count": null,
   "metadata": {
    "collapsed": true
   },
   "outputs": [],
   "source": []
  },
  {
   "cell_type": "code",
   "execution_count": 79,
   "metadata": {
    "collapsed": false
   },
   "outputs": [],
   "source": [
    "logit_model = LogisticRegression(penalty='l2')\n",
    "\n",
    "param_grid = {'C': [0.001, 0.01, 0.1, 1, 10, 100, 1000]}\n",
    "clf = GridSearchCV(estimator=LogisticRegression(penalty='l2'),\n",
    "        param_grid=param_grid,\n",
    "        scoring='f1',\n",
    "        cv=10,\n",
    "        verbose=51)"
   ]
  },
  {
   "cell_type": "code",
   "execution_count": 52,
   "metadata": {
    "collapsed": false
   },
   "outputs": [
    {
     "name": "stdout",
     "output_type": "stream",
     "text": [
      "Fitting 10 folds for each of 7 candidates, totalling 70 fits\n",
      "[CV] C=0.001 .........................................................\n",
      "[CV] ................................ C=0.001, score=0.710744 -   1.1s\n",
      "[Parallel(n_jobs=1)]: Done   1 tasks       | elapsed:    1.1s\n",
      "[CV] C=0.001 .........................................................\n",
      "[CV] ................................ C=0.001, score=0.571429 -   1.0s\n",
      "[Parallel(n_jobs=1)]: Done   2 tasks       | elapsed:    2.2s\n",
      "[CV] C=0.001 .........................................................\n",
      "[CV] ................................ C=0.001, score=0.614173 -   1.0s\n",
      "[Parallel(n_jobs=1)]: Done   3 tasks       | elapsed:    3.4s\n",
      "[CV] C=0.001 .........................................................\n",
      "[CV] ................................ C=0.001, score=0.603448 -   1.0s\n",
      "[Parallel(n_jobs=1)]: Done   4 tasks       | elapsed:    4.5s\n",
      "[CV] C=0.001 .........................................................\n",
      "[CV] ................................ C=0.001, score=0.637931 -   1.0s\n",
      "[Parallel(n_jobs=1)]: Done   5 tasks       | elapsed:    5.6s\n",
      "[CV] C=0.001 .........................................................\n",
      "[CV] ................................ C=0.001, score=0.635514 -   1.1s\n",
      "[Parallel(n_jobs=1)]: Done   6 tasks       | elapsed:    6.8s\n",
      "[CV] C=0.001 .........................................................\n",
      "[CV] ................................ C=0.001, score=0.677686 -   1.0s\n",
      "[Parallel(n_jobs=1)]: Done   7 tasks       | elapsed:    7.9s\n",
      "[CV] C=0.001 .........................................................\n",
      "[CV] ................................ C=0.001, score=0.677966 -   1.0s\n",
      "[Parallel(n_jobs=1)]: Done   8 tasks       | elapsed:    9.1s\n",
      "[CV] C=0.001 .........................................................\n",
      "[CV] ................................ C=0.001, score=0.616667 -   1.0s\n",
      "[Parallel(n_jobs=1)]: Done   9 tasks       | elapsed:   10.2s\n",
      "[CV] C=0.001 .........................................................\n",
      "[CV] ................................ C=0.001, score=0.672566 -   1.0s\n",
      "[Parallel(n_jobs=1)]: Done  10 tasks       | elapsed:   11.3s\n",
      "[CV] C=0.01 ..........................................................\n",
      "[CV] ................................. C=0.01, score=0.704918 -   1.7s\n",
      "[Parallel(n_jobs=1)]: Done  11 tasks       | elapsed:   13.2s\n",
      "[CV] C=0.01 ..........................................................\n",
      "[CV] ................................. C=0.01, score=0.656000 -   1.9s\n",
      "[Parallel(n_jobs=1)]: Done  12 tasks       | elapsed:   15.2s\n",
      "[CV] C=0.01 ..........................................................\n",
      "[CV] ................................. C=0.01, score=0.671533 -   1.8s\n",
      "[Parallel(n_jobs=1)]: Done  13 tasks       | elapsed:   17.1s\n",
      "[CV] C=0.01 ..........................................................\n",
      "[CV] ................................. C=0.01, score=0.650000 -   1.7s\n",
      "[Parallel(n_jobs=1)]: Done  14 tasks       | elapsed:   18.9s\n",
      "[CV] C=0.01 ..........................................................\n",
      "[CV] ................................. C=0.01, score=0.624000 -   1.7s\n",
      "[Parallel(n_jobs=1)]: Done  15 tasks       | elapsed:   20.8s\n",
      "[CV] C=0.01 ..........................................................\n",
      "[CV] ................................. C=0.01, score=0.694915 -   2.1s\n",
      "[Parallel(n_jobs=1)]: Done  16 tasks       | elapsed:   23.0s\n",
      "[CV] C=0.01 ..........................................................\n",
      "[CV] ................................. C=0.01, score=0.688000 -   1.9s\n",
      "[Parallel(n_jobs=1)]: Done  17 tasks       | elapsed:   25.0s\n",
      "[CV] C=0.01 ..........................................................\n",
      "[CV] ................................. C=0.01, score=0.704918 -   1.9s\n",
      "[Parallel(n_jobs=1)]: Done  18 tasks       | elapsed:   27.0s\n",
      "[CV] C=0.01 ..........................................................\n",
      "[CV] ................................. C=0.01, score=0.677419 -   2.3s\n",
      "[Parallel(n_jobs=1)]: Done  19 tasks       | elapsed:   29.5s\n",
      "[CV] C=0.01 ..........................................................\n",
      "[CV] ................................. C=0.01, score=0.666667 -   1.8s\n",
      "[Parallel(n_jobs=1)]: Done  20 tasks       | elapsed:   31.4s\n",
      "[CV] C=0.1 ...........................................................\n",
      "[CV] .................................. C=0.1, score=0.671875 -   4.2s\n",
      "[Parallel(n_jobs=1)]: Done  21 tasks       | elapsed:   35.7s\n",
      "[CV] C=0.1 ...........................................................\n",
      "[CV] .................................. C=0.1, score=0.682171 -   5.2s\n",
      "[Parallel(n_jobs=1)]: Done  22 tasks       | elapsed:   41.0s\n",
      "[CV] C=0.1 ...........................................................\n",
      "[CV] .................................. C=0.1, score=0.705036 -   3.3s\n",
      "[Parallel(n_jobs=1)]: Done  23 tasks       | elapsed:   44.4s\n",
      "[CV] C=0.1 ...........................................................\n",
      "[CV] .................................. C=0.1, score=0.655462 -   3.9s\n",
      "[Parallel(n_jobs=1)]: Done  24 tasks       | elapsed:   48.5s\n",
      "[CV] C=0.1 ...........................................................\n",
      "[CV] .................................. C=0.1, score=0.651163 -   3.7s\n",
      "[Parallel(n_jobs=1)]: Done  25 tasks       | elapsed:   52.3s\n",
      "[CV] C=0.1 ...........................................................\n",
      "[CV] .................................. C=0.1, score=0.634146 -   4.2s\n",
      "[Parallel(n_jobs=1)]: Done  26 tasks       | elapsed:   56.6s\n",
      "[CV] C=0.1 ...........................................................\n",
      "[CV] .................................. C=0.1, score=0.698413 -   3.9s\n",
      "[Parallel(n_jobs=1)]: Done  27 tasks       | elapsed:  1.0min\n",
      "[CV] C=0.1 ...........................................................\n",
      "[CV] .................................. C=0.1, score=0.722689 -   5.6s\n",
      "[Parallel(n_jobs=1)]: Done  28 tasks       | elapsed:  1.1min\n",
      "[CV] C=0.1 ...........................................................\n",
      "[CV] .................................. C=0.1, score=0.650407 -   4.3s\n",
      "[Parallel(n_jobs=1)]: Done  29 tasks       | elapsed:  1.2min\n",
      "[CV] C=0.1 ...........................................................\n",
      "[CV] .................................. C=0.1, score=0.671875 -   5.0s\n",
      "[Parallel(n_jobs=1)]: Done  30 tasks       | elapsed:  1.3min\n",
      "[CV] C=1 .............................................................\n",
      "[CV] .................................... C=1, score=0.641221 -   6.4s\n",
      "[Parallel(n_jobs=1)]: Done  31 tasks       | elapsed:  1.4min\n",
      "[CV] C=1 .............................................................\n",
      "[CV] .................................... C=1, score=0.645669 -   6.7s\n",
      "[Parallel(n_jobs=1)]: Done  32 tasks       | elapsed:  1.5min\n",
      "[CV] C=1 .............................................................\n",
      "[CV] .................................... C=1, score=0.676259 -   6.8s\n",
      "[Parallel(n_jobs=1)]: Done  33 tasks       | elapsed:  1.6min\n",
      "[CV] C=1 .............................................................\n",
      "[CV] .................................... C=1, score=0.650000 -   6.9s\n",
      "[Parallel(n_jobs=1)]: Done  34 tasks       | elapsed:  1.7min\n",
      "[CV] C=1 .............................................................\n",
      "[CV] .................................... C=1, score=0.666667 -   5.8s\n",
      "[Parallel(n_jobs=1)]: Done  35 tasks       | elapsed:  1.8min\n",
      "[CV] C=1 .............................................................\n",
      "[CV] .................................... C=1, score=0.629921 -   7.0s\n",
      "[Parallel(n_jobs=1)]: Done  36 tasks       | elapsed:  1.9min\n",
      "[CV] C=1 .............................................................\n",
      "[CV] .................................... C=1, score=0.650794 -   6.0s\n",
      "[Parallel(n_jobs=1)]: Done  37 tasks       | elapsed:  2.0min\n",
      "[CV] C=1 .............................................................\n",
      "[CV] .................................... C=1, score=0.700000 -   6.2s\n",
      "[Parallel(n_jobs=1)]: Done  38 tasks       | elapsed:  2.1min\n",
      "[CV] C=1 .............................................................\n",
      "[CV] .................................... C=1, score=0.629921 -   6.2s\n",
      "[Parallel(n_jobs=1)]: Done  39 tasks       | elapsed:  2.2min\n",
      "[CV] C=1 .............................................................\n",
      "[CV] .................................... C=1, score=0.631579 -   8.3s\n",
      "[Parallel(n_jobs=1)]: Done  40 tasks       | elapsed:  2.4min\n",
      "[CV] C=10 ............................................................\n",
      "[CV] ................................... C=10, score=0.651852 -   7.3s\n",
      "[Parallel(n_jobs=1)]: Done  41 tasks       | elapsed:  2.5min\n",
      "[CV] C=10 ............................................................\n",
      "[CV] ................................... C=10, score=0.609375 -   8.9s\n",
      "[Parallel(n_jobs=1)]: Done  42 tasks       | elapsed:  2.7min\n",
      "[CV] C=10 ............................................................\n",
      "[CV] ................................... C=10, score=0.652174 -   7.5s\n",
      "[Parallel(n_jobs=1)]: Done  43 tasks       | elapsed:  2.8min\n",
      "[CV] C=10 ............................................................\n",
      "[CV] ................................... C=10, score=0.639344 -   8.0s\n",
      "[Parallel(n_jobs=1)]: Done  44 tasks       | elapsed:  2.9min\n",
      "[CV] C=10 ............................................................\n",
      "[CV] ................................... C=10, score=0.656716 -   7.7s\n",
      "[Parallel(n_jobs=1)]: Done  45 tasks       | elapsed:  3.1min\n",
      "[CV] C=10 ............................................................\n",
      "[CV] ................................... C=10, score=0.608000 -  10.5s\n",
      "[Parallel(n_jobs=1)]: Done  46 tasks       | elapsed:  3.2min\n",
      "[CV] C=10 ............................................................\n",
      "[CV] ................................... C=10, score=0.635659 -   8.3s\n",
      "[Parallel(n_jobs=1)]: Done  47 tasks       | elapsed:  3.4min\n",
      "[CV] C=10 ............................................................\n",
      "[CV] ................................... C=10, score=0.689076 -   8.2s\n",
      "[Parallel(n_jobs=1)]: Done  48 tasks       | elapsed:  3.5min\n",
      "[CV] C=10 ............................................................\n",
      "[CV] ................................... C=10, score=0.615385 -   8.0s\n",
      "[Parallel(n_jobs=1)]: Done  49 tasks       | elapsed:  3.6min\n",
      "[CV] C=10 ............................................................\n",
      "[CV] ................................... C=10, score=0.641221 -   8.2s\n",
      "[Parallel(n_jobs=1)]: Done  50 tasks       | elapsed:  3.8min\n",
      "[CV] C=100 ...........................................................\n",
      "[CV] .................................. C=100, score=0.637681 -   7.8s\n",
      "[Parallel(n_jobs=1)]: Done  51 tasks       | elapsed:  3.9min\n",
      "[CV] C=100 ...........................................................\n",
      "[CV] .................................. C=100, score=0.625954 -   7.6s\n",
      "[Parallel(n_jobs=1)]: Done  52 tasks       | elapsed:  4.0min\n",
      "[CV] C=100 ...........................................................\n",
      "[CV] .................................. C=100, score=0.633094 -   8.4s\n",
      "[Parallel(n_jobs=1)]: Done  53 tasks       | elapsed:  4.2min\n",
      "[CV] C=100 ...........................................................\n",
      "[CV] .................................. C=100, score=0.639344 -  10.2s\n",
      "[Parallel(n_jobs=1)]: Done  54 tasks       | elapsed:  4.4min\n",
      "[CV] C=100 ...........................................................\n",
      "[CV] .................................. C=100, score=0.651852 -   9.6s\n",
      "[Parallel(n_jobs=1)]: Done  55 tasks       | elapsed:  4.5min\n",
      "[CV] C=100 ...........................................................\n",
      "[CV] .................................. C=100, score=0.601626 -  12.8s\n",
      "[Parallel(n_jobs=1)]: Done  56 tasks       | elapsed:  4.7min\n",
      "[CV] C=100 ...........................................................\n",
      "[CV] .................................. C=100, score=0.661538 -  10.7s\n",
      "[Parallel(n_jobs=1)]: Done  57 tasks       | elapsed:  4.9min\n",
      "[CV] C=100 ...........................................................\n",
      "[CV] .................................. C=100, score=0.694915 -  10.0s\n",
      "[Parallel(n_jobs=1)]: Done  58 tasks       | elapsed:  5.1min\n",
      "[CV] C=100 ...........................................................\n",
      "[CV] .................................. C=100, score=0.625954 -   9.5s\n",
      "[Parallel(n_jobs=1)]: Done  59 tasks       | elapsed:  5.2min\n",
      "[CV] C=100 ...........................................................\n",
      "[CV] .................................. C=100, score=0.646617 -  10.2s\n",
      "[Parallel(n_jobs=1)]: Done  60 tasks       | elapsed:  5.4min\n",
      "[CV] C=1000 ..........................................................\n",
      "[CV] ................................. C=1000, score=0.642336 -  11.1s\n",
      "[Parallel(n_jobs=1)]: Done  61 tasks       | elapsed:  5.6min\n",
      "[CV] C=1000 ..........................................................\n",
      "[CV] ................................. C=1000, score=0.630769 -   9.4s\n",
      "[Parallel(n_jobs=1)]: Done  62 tasks       | elapsed:  5.8min\n",
      "[CV] C=1000 ..........................................................\n",
      "[CV] ................................. C=1000, score=0.628571 -   9.3s\n",
      "[Parallel(n_jobs=1)]: Done  63 tasks       | elapsed:  5.9min\n",
      "[CV] C=1000 ..........................................................\n",
      "[CV] ................................. C=1000, score=0.634146 -  10.2s\n",
      "[Parallel(n_jobs=1)]: Done  64 tasks       | elapsed:  6.1min\n",
      "[CV] C=1000 ..........................................................\n",
      "[CV] ................................. C=1000, score=0.656716 -   9.4s\n",
      "[Parallel(n_jobs=1)]: Done  65 tasks       | elapsed:  6.2min\n",
      "[CV] C=1000 ..........................................................\n",
      "[CV] ................................. C=1000, score=0.601626 -  12.2s\n",
      "[Parallel(n_jobs=1)]: Done  66 tasks       | elapsed:  6.5min\n",
      "[CV] C=1000 ..........................................................\n",
      "[CV] ................................. C=1000, score=0.656489 -   9.7s\n",
      "[Parallel(n_jobs=1)]: Done  67 tasks       | elapsed:  6.6min\n",
      "[CV] C=1000 ..........................................................\n",
      "[CV] ................................. C=1000, score=0.705882 -  10.4s\n",
      "[Parallel(n_jobs=1)]: Done  68 tasks       | elapsed:  6.8min\n",
      "[CV] C=1000 ..........................................................\n",
      "[CV] ................................. C=1000, score=0.615385 -  10.2s\n",
      "[Parallel(n_jobs=1)]: Done  69 tasks       | elapsed:  7.0min\n",
      "[CV] C=1000 ..........................................................\n",
      "[CV] ................................. C=1000, score=0.646617 -  10.6s\n",
      "[Parallel(n_jobs=1)]: Done  70 tasks       | elapsed:  7.1min\n",
      "[Parallel(n_jobs=1)]: Done  70 out of  70 | elapsed:  7.1min finished\n"
     ]
    },
    {
     "data": {
      "text/plain": [
       "GridSearchCV(cv=10, error_score='raise',\n",
       "       estimator=LogisticRegression(C=1.0, class_weight=None, dual=False, fit_intercept=True,\n",
       "          intercept_scaling=1, max_iter=100, multi_class='ovr', n_jobs=1,\n",
       "          penalty='l2', random_state=None, solver='liblinear', tol=0.0001,\n",
       "          verbose=0, warm_start=False),\n",
       "       fit_params={}, iid=True, n_jobs=1,\n",
       "       param_grid={'C': [0.001, 0.01, 0.1, 1, 10, 100, 1000]},\n",
       "       pre_dispatch='2*n_jobs', refit=True, scoring='f1', verbose=51)"
      ]
     },
     "execution_count": 52,
     "metadata": {},
     "output_type": "execute_result"
    }
   ],
   "source": [
    "# grid search regularization parameter \n",
    "label_id=0\n",
    "\n",
    "train_y=res_df['label_%d'%label_id]\n",
    "\n",
    "clf.fit(train_x,train_y)"
   ]
  },
  {
   "cell_type": "code",
   "execution_count": 53,
   "metadata": {
    "collapsed": false
   },
   "outputs": [
    {
     "data": {
      "text/plain": [
       "{'C': 0.1}"
      ]
     },
     "execution_count": 53,
     "metadata": {},
     "output_type": "execute_result"
    }
   ],
   "source": [
    "clf.best_params_"
   ]
  },
  {
   "cell_type": "code",
   "execution_count": 54,
   "metadata": {
    "collapsed": false
   },
   "outputs": [
    {
     "data": {
      "text/plain": [
       "[mean: 0.64174, std: 0.04021, params: {'C': 0.001},\n",
       " mean: 0.67381, std: 0.02453, params: {'C': 0.01},\n",
       " mean: 0.67431, std: 0.02649, params: {'C': 0.1},\n",
       " mean: 0.65220, std: 0.02159, params: {'C': 1},\n",
       " mean: 0.63987, std: 0.02359, params: {'C': 10},\n",
       " mean: 0.64181, std: 0.02356, params: {'C': 100},\n",
       " mean: 0.64181, std: 0.02690, params: {'C': 1000}]"
      ]
     },
     "execution_count": 54,
     "metadata": {},
     "output_type": "execute_result"
    }
   ],
   "source": [
    "clf.grid_scores_"
   ]
  },
  {
   "cell_type": "code",
   "execution_count": 58,
   "metadata": {
    "collapsed": false
   },
   "outputs": [
    {
     "name": "stdout",
     "output_type": "stream",
     "text": [
      "{'C': 0.05}\n",
      "[mean: 0.67381, std: 0.02453, params: {'C': 0.01}, mean: 0.68038, std: 0.02311, params: {'C': 0.05}, mean: 0.67431, std: 0.02649, params: {'C': 0.1}, mean: 0.66404, std: 0.01499, params: {'C': 0.5}, mean: 0.65220, std: 0.02159, params: {'C': 1}]\n"
     ]
    }
   ],
   "source": [
    "print clf.best_params_\n",
    "print clf.grid_scores_"
   ]
  },
  {
   "cell_type": "code",
   "execution_count": 36,
   "metadata": {
    "collapsed": true
   },
   "outputs": [],
   "source": [
    "logit_model = LogisticRegression(penalty='l2')\n",
    "\n",
    "param_grid = {'C': [0.01, 0.05, 0.1, 0.5, 1]}\n",
    "clf = GridSearchCV(estimator=LogisticRegression(penalty='l2'),\n",
    "        param_grid=param_grid,\n",
    "        scoring='f1',\n",
    "        cv=10)"
   ]
  },
  {
   "cell_type": "code",
   "execution_count": 1,
   "metadata": {
    "collapsed": false,
    "scrolled": true
   },
   "outputs": [],
   "source": [
    "# grid search regularization parameter for all \n",
    "for label_id in range(9):\n",
    "    train_y=res_df['label_%d'%label_id]\n",
    "    clf.fit(train_x,train_y)\n",
    "    print label_id, clf.best_params_, clf.best_score_"
   ]
  },
  {
   "cell_type": "code",
   "execution_count": null,
   "metadata": {
    "collapsed": true
   },
   "outputs": [],
   "source": []
  },
  {
   "cell_type": "code",
   "execution_count": 30,
   "metadata": {
    "collapsed": false
   },
   "outputs": [
    {
     "name": "stdout",
     "output_type": "stream",
     "text": [
      "5 {'C': 10} 0.895478850972\n",
      "6 {'C': 15} 0.9421782506\n",
      "7 {'C': 15} 0.777447640937\n",
      "8 {'C': 10} 0.895570024626\n"
     ]
    }
   ],
   "source": [
    "svm_model = SVC()\n",
    "\n",
    "param_grid = {'C': [5,10,15,20]}\n",
    "clf = GridSearchCV(estimator=svm_model,\n",
    "        param_grid=param_grid,\n",
    "        scoring='f1',\n",
    "        cv=5)\n",
    "\n",
    "for label_id in range(5,9):\n",
    "    train_y=res_df['label_%d'%label_id]\n",
    "    clf.fit(train_x,train_y)\n",
    "    print label_id, clf.best_params_, clf.best_score_"
   ]
  },
  {
   "cell_type": "code",
   "execution_count": null,
   "metadata": {
    "collapsed": true
   },
   "outputs": [],
   "source": []
  },
  {
   "cell_type": "markdown",
   "metadata": {
    "collapsed": true
   },
   "source": [
    "grid scores  \n",
    "logistic:  \n",
    "0 {'C': 0.01} 0.691231952593  \n",
    "1 {'C': 0.01} 0.836146927697  \n",
    "2 {'C': 0.01} 0.881455959262  \n",
    "3 {'C': 0.05} 0.676540232023  \n",
    "4 {'C': 0.05} 0.804412156732  \n",
    "5 {'C': 0.01} 0.895222627512  \n",
    "6 {'C': 0.01} 0.942190358071  \n",
    "7 {'C': 0.1} 0.764079570558  \n",
    "8 {'C': 0.01} 0.895877965623  \n",
    "  \n",
    "SVM:  \n",
    "0 {'C': 10} 0.700756701769  \n",
    "1 {'C': 10} 0.833505743338  \n",
    "2 {'C': 10} 0.877418129961  \n",
    "3 {'C': 10} 0.685908697984  \n",
    "4 {'C': 10} 0.797564315132  \n",
    "5 {'C': 10} 0.895478850972  \n",
    "6 {'C': 10} 0.94097531048  \n",
    "7 {'C': 10} 0.770340699241  \n",
    "8 {'C': 10} 0.895570024626  "
   ]
  },
  {
   "cell_type": "code",
   "execution_count": 9,
   "metadata": {
    "collapsed": false
   },
   "outputs": [
    {
     "data": {
      "text/html": [
       "<div>\n",
       "<table border=\"1\" class=\"dataframe\">\n",
       "  <thead>\n",
       "    <tr style=\"text-align: right;\">\n",
       "      <th></th>\n",
       "      <th>restaurant</th>\n",
       "      <th>1</th>\n",
       "      <th>2</th>\n",
       "      <th>3</th>\n",
       "      <th>4</th>\n",
       "      <th>5</th>\n",
       "      <th>6</th>\n",
       "      <th>7</th>\n",
       "      <th>8</th>\n",
       "      <th>9</th>\n",
       "      <th>...</th>\n",
       "      <th>4087</th>\n",
       "      <th>4088</th>\n",
       "      <th>4089</th>\n",
       "      <th>4090</th>\n",
       "      <th>4091</th>\n",
       "      <th>4092</th>\n",
       "      <th>4093</th>\n",
       "      <th>4094</th>\n",
       "      <th>4095</th>\n",
       "      <th>4096</th>\n",
       "    </tr>\n",
       "  </thead>\n",
       "  <tbody>\n",
       "    <tr>\n",
       "      <th>0</th>\n",
       "      <td>8i7dh</td>\n",
       "      <td>0.070079</td>\n",
       "      <td>0.049189</td>\n",
       "      <td>0.142998</td>\n",
       "      <td>0.643171</td>\n",
       "      <td>0.763074</td>\n",
       "      <td>1.105472</td>\n",
       "      <td>0.290251</td>\n",
       "      <td>0.397025</td>\n",
       "      <td>0.319553</td>\n",
       "      <td>...</td>\n",
       "      <td>0.763321</td>\n",
       "      <td>0.588190</td>\n",
       "      <td>1.425873</td>\n",
       "      <td>2.337215</td>\n",
       "      <td>1.057303</td>\n",
       "      <td>0.333964</td>\n",
       "      <td>0.266503</td>\n",
       "      <td>0.384997</td>\n",
       "      <td>0.122773</td>\n",
       "      <td>0.435602</td>\n",
       "    </tr>\n",
       "    <tr>\n",
       "      <th>1</th>\n",
       "      <td>blxg3</td>\n",
       "      <td>0.167815</td>\n",
       "      <td>0.256773</td>\n",
       "      <td>0.185716</td>\n",
       "      <td>0.245970</td>\n",
       "      <td>0.780929</td>\n",
       "      <td>0.562616</td>\n",
       "      <td>0.244036</td>\n",
       "      <td>0.177635</td>\n",
       "      <td>0.142654</td>\n",
       "      <td>...</td>\n",
       "      <td>0.584998</td>\n",
       "      <td>0.546046</td>\n",
       "      <td>0.625016</td>\n",
       "      <td>1.988779</td>\n",
       "      <td>0.874456</td>\n",
       "      <td>0.208558</td>\n",
       "      <td>0.269952</td>\n",
       "      <td>0.279896</td>\n",
       "      <td>0.086104</td>\n",
       "      <td>0.009007</td>\n",
       "    </tr>\n",
       "    <tr>\n",
       "      <th>2</th>\n",
       "      <td>wzvzs</td>\n",
       "      <td>0.172079</td>\n",
       "      <td>0.229586</td>\n",
       "      <td>0.142795</td>\n",
       "      <td>0.396277</td>\n",
       "      <td>0.818319</td>\n",
       "      <td>0.697299</td>\n",
       "      <td>0.363702</td>\n",
       "      <td>0.255878</td>\n",
       "      <td>0.246695</td>\n",
       "      <td>...</td>\n",
       "      <td>0.689928</td>\n",
       "      <td>0.370871</td>\n",
       "      <td>0.734514</td>\n",
       "      <td>1.825779</td>\n",
       "      <td>1.087935</td>\n",
       "      <td>0.166965</td>\n",
       "      <td>0.265202</td>\n",
       "      <td>0.174693</td>\n",
       "      <td>0.188443</td>\n",
       "      <td>0.143127</td>\n",
       "    </tr>\n",
       "  </tbody>\n",
       "</table>\n",
       "<p>3 rows × 4097 columns</p>\n",
       "</div>"
      ],
      "text/plain": [
       "  restaurant         1         2         3         4         5         6  \\\n",
       "0      8i7dh  0.070079  0.049189  0.142998  0.643171  0.763074  1.105472   \n",
       "1      blxg3  0.167815  0.256773  0.185716  0.245970  0.780929  0.562616   \n",
       "2      wzvzs  0.172079  0.229586  0.142795  0.396277  0.818319  0.697299   \n",
       "\n",
       "          7         8         9    ...         4087      4088      4089  \\\n",
       "0  0.290251  0.397025  0.319553    ...     0.763321  0.588190  1.425873   \n",
       "1  0.244036  0.177635  0.142654    ...     0.584998  0.546046  0.625016   \n",
       "2  0.363702  0.255878  0.246695    ...     0.689928  0.370871  0.734514   \n",
       "\n",
       "       4090      4091      4092      4093      4094      4095      4096  \n",
       "0  2.337215  1.057303  0.333964  0.266503  0.384997  0.122773  0.435602  \n",
       "1  1.988779  0.874456  0.208558  0.269952  0.279896  0.086104  0.009007  \n",
       "2  1.825779  1.087935  0.166965  0.265202  0.174693  0.188443  0.143127  \n",
       "\n",
       "[3 rows x 4097 columns]"
      ]
     },
     "execution_count": 9,
     "metadata": {},
     "output_type": "execute_result"
    }
   ],
   "source": [
    "# read deep learning features of test set\n",
    "res_feature_test = pd.read_csv(r'/res_deep_avg/feature_avg_test.csv',header=None)\n",
    "res_feature_test.rename(columns={0:'restaurant'}, inplace=True)\n",
    "res_feature_test[:3]"
   ]
  },
  {
   "cell_type": "code",
   "execution_count": 10,
   "metadata": {
    "collapsed": false
   },
   "outputs": [
    {
     "data": {
      "text/html": [
       "<div>\n",
       "<table border=\"1\" class=\"dataframe\">\n",
       "  <thead>\n",
       "    <tr style=\"text-align: right;\">\n",
       "      <th></th>\n",
       "      <th>1</th>\n",
       "      <th>2</th>\n",
       "      <th>3</th>\n",
       "      <th>4</th>\n",
       "      <th>5</th>\n",
       "      <th>6</th>\n",
       "      <th>7</th>\n",
       "      <th>8</th>\n",
       "      <th>9</th>\n",
       "      <th>10</th>\n",
       "      <th>...</th>\n",
       "      <th>4087</th>\n",
       "      <th>4088</th>\n",
       "      <th>4089</th>\n",
       "      <th>4090</th>\n",
       "      <th>4091</th>\n",
       "      <th>4092</th>\n",
       "      <th>4093</th>\n",
       "      <th>4094</th>\n",
       "      <th>4095</th>\n",
       "      <th>4096</th>\n",
       "    </tr>\n",
       "  </thead>\n",
       "  <tbody>\n",
       "    <tr>\n",
       "      <th>0</th>\n",
       "      <td>0.070079</td>\n",
       "      <td>0.049189</td>\n",
       "      <td>0.142998</td>\n",
       "      <td>0.643171</td>\n",
       "      <td>0.763074</td>\n",
       "      <td>1.105472</td>\n",
       "      <td>0.290251</td>\n",
       "      <td>0.397025</td>\n",
       "      <td>0.319553</td>\n",
       "      <td>0.388232</td>\n",
       "      <td>...</td>\n",
       "      <td>0.763321</td>\n",
       "      <td>0.588190</td>\n",
       "      <td>1.425873</td>\n",
       "      <td>2.337215</td>\n",
       "      <td>1.057303</td>\n",
       "      <td>0.333964</td>\n",
       "      <td>0.266503</td>\n",
       "      <td>0.384997</td>\n",
       "      <td>0.122773</td>\n",
       "      <td>0.435602</td>\n",
       "    </tr>\n",
       "    <tr>\n",
       "      <th>1</th>\n",
       "      <td>0.167815</td>\n",
       "      <td>0.256773</td>\n",
       "      <td>0.185716</td>\n",
       "      <td>0.245970</td>\n",
       "      <td>0.780929</td>\n",
       "      <td>0.562616</td>\n",
       "      <td>0.244036</td>\n",
       "      <td>0.177635</td>\n",
       "      <td>0.142654</td>\n",
       "      <td>0.351615</td>\n",
       "      <td>...</td>\n",
       "      <td>0.584998</td>\n",
       "      <td>0.546046</td>\n",
       "      <td>0.625016</td>\n",
       "      <td>1.988779</td>\n",
       "      <td>0.874456</td>\n",
       "      <td>0.208558</td>\n",
       "      <td>0.269952</td>\n",
       "      <td>0.279896</td>\n",
       "      <td>0.086104</td>\n",
       "      <td>0.009007</td>\n",
       "    </tr>\n",
       "    <tr>\n",
       "      <th>2</th>\n",
       "      <td>0.172079</td>\n",
       "      <td>0.229586</td>\n",
       "      <td>0.142795</td>\n",
       "      <td>0.396277</td>\n",
       "      <td>0.818319</td>\n",
       "      <td>0.697299</td>\n",
       "      <td>0.363702</td>\n",
       "      <td>0.255878</td>\n",
       "      <td>0.246695</td>\n",
       "      <td>0.429182</td>\n",
       "      <td>...</td>\n",
       "      <td>0.689928</td>\n",
       "      <td>0.370871</td>\n",
       "      <td>0.734514</td>\n",
       "      <td>1.825779</td>\n",
       "      <td>1.087935</td>\n",
       "      <td>0.166965</td>\n",
       "      <td>0.265202</td>\n",
       "      <td>0.174693</td>\n",
       "      <td>0.188443</td>\n",
       "      <td>0.143127</td>\n",
       "    </tr>\n",
       "  </tbody>\n",
       "</table>\n",
       "<p>3 rows × 4096 columns</p>\n",
       "</div>"
      ],
      "text/plain": [
       "       1         2         3         4         5         6         7     \\\n",
       "0  0.070079  0.049189  0.142998  0.643171  0.763074  1.105472  0.290251   \n",
       "1  0.167815  0.256773  0.185716  0.245970  0.780929  0.562616  0.244036   \n",
       "2  0.172079  0.229586  0.142795  0.396277  0.818319  0.697299  0.363702   \n",
       "\n",
       "       8         9         10      ...         4087      4088      4089  \\\n",
       "0  0.397025  0.319553  0.388232    ...     0.763321  0.588190  1.425873   \n",
       "1  0.177635  0.142654  0.351615    ...     0.584998  0.546046  0.625016   \n",
       "2  0.255878  0.246695  0.429182    ...     0.689928  0.370871  0.734514   \n",
       "\n",
       "       4090      4091      4092      4093      4094      4095      4096  \n",
       "0  2.337215  1.057303  0.333964  0.266503  0.384997  0.122773  0.435602  \n",
       "1  1.988779  0.874456  0.208558  0.269952  0.279896  0.086104  0.009007  \n",
       "2  1.825779  1.087935  0.166965  0.265202  0.174693  0.188443  0.143127  \n",
       "\n",
       "[3 rows x 4096 columns]"
      ]
     },
     "execution_count": 10,
     "metadata": {},
     "output_type": "execute_result"
    }
   ],
   "source": [
    "test_x=res_feature_test.iloc[:,range(1,4097)]\n",
    "test_x[:3]"
   ]
  },
  {
   "cell_type": "code",
   "execution_count": 11,
   "metadata": {
    "collapsed": false
   },
   "outputs": [
    {
     "data": {
      "text/plain": [
       "LogisticRegression(C=0.01, class_weight=None, dual=False, fit_intercept=True,\n",
       "          intercept_scaling=1, max_iter=100, multi_class='ovr', n_jobs=1,\n",
       "          penalty='l2', random_state=None, solver='liblinear', tol=0.0001,\n",
       "          verbose=0, warm_start=False)"
      ]
     },
     "execution_count": 11,
     "metadata": {},
     "output_type": "execute_result"
    }
   ],
   "source": [
    "# build logistic regression model for each label and make prediction on test set\n",
    "C_list=[0.01,0.01,0.01,0.05,0.05,0.01,0.01,0.1,0.01]\n",
    "\n",
    "label_id=0\n",
    "logit_model = LogisticRegression(penalty='l2',C=C_list[label_id])\n",
    "\n",
    "train_y=res_df['label_%d'%label_id]\n",
    "logit_model.fit(train_x,train_y)\n",
    "\n",
    "pred[label_id] = logit_model.predict(test_x).astype(np.str)"
   ]
  },
  {
   "cell_type": "code",
   "execution_count": 17,
   "metadata": {
    "collapsed": true
   },
   "outputs": [],
   "source": [
    "output=res_feature_test[[\"restaurant\"]].copy()"
   ]
  },
  {
   "cell_type": "code",
   "execution_count": 19,
   "metadata": {
    "collapsed": false
   },
   "outputs": [],
   "source": [
    "C_list=[0.01,0.01,0.01,0.05,0.05,0.01,0.01,0.1,0.01]\n",
    "for label_id in range(9):\n",
    "    logit_model = LogisticRegression(penalty='l2',C=C_list[label_id])\n",
    "\n",
    "    train_y=res_df['label_%d'%label_id]\n",
    "    logit_model.fit(train_x,train_y)\n",
    "    y = logit_model.predict(test_x)\n",
    "    pred_y = pd.DataFrame(y)\n",
    "    pred_y.columns = ['label_%d' % label_id]\n",
    "    output = output.join(pred_y)"
   ]
  },
  {
   "cell_type": "code",
   "execution_count": 26,
   "metadata": {
    "collapsed": false
   },
   "outputs": [
    {
     "data": {
      "text/plain": [
       "'8i7dh'"
      ]
     },
     "execution_count": 26,
     "metadata": {},
     "output_type": "execute_result"
    }
   ],
   "source": [
    "output.iloc[ind,0]"
   ]
  },
  {
   "cell_type": "code",
   "execution_count": 27,
   "metadata": {
    "collapsed": false
   },
   "outputs": [],
   "source": [
    "# write to submission file\n",
    "with open(r'/res_deep_avg/mean_submission.csv','w') as fw:\n",
    "    fw.write('business_id,labels\\n')\n",
    "    for ind in output.index:\n",
    "        pred = list(output.iloc[ind,1:])\n",
    "        id=output.iloc[ind,0]\n",
    "        label = [str(i) for i in range(9) if pred[i]!=0]\n",
    "        line = id+','+' '.join(label)+'\\n'\n",
    "        fw.write(line)"
   ]
  }
 ],
 "metadata": {
  "kernelspec": {
   "display_name": "Python 2",
   "language": "python",
   "name": "python2"
  },
  "language_info": {
   "codemirror_mode": {
    "name": "ipython",
    "version": 2
   },
   "file_extension": ".py",
   "mimetype": "text/x-python",
   "name": "python",
   "nbconvert_exporter": "python",
   "pygments_lexer": "ipython2",
   "version": "2.7.10"
  }
 },
 "nbformat": 4,
 "nbformat_minor": 0
}
