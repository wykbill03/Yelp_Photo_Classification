{
 "cells": [
  {
   "cell_type": "markdown",
   "metadata": {},
   "source": [
    "Combine photo-label map and photo-restaurant map"
   ]
  },
  {
   "cell_type": "code",
   "execution_count": 1,
   "metadata": {
    "collapsed": true
   },
   "outputs": [],
   "source": [
    "import os\n",
    "import re\n",
    "import time\n",
    "import random\n",
    "from glob import glob\n",
    "import pandas as pd"
   ]
  },
  {
   "cell_type": "code",
   "execution_count": 2,
   "metadata": {
    "collapsed": true
   },
   "outputs": [],
   "source": [
    "path = \"/data/trainnew\"\n",
    "image_filenames = glob('{}/*.jpg'.format(path))"
   ]
  },
  {
   "cell_type": "code",
   "execution_count": 6,
   "metadata": {
    "collapsed": false
   },
   "outputs": [
    {
     "data": {
      "text/plain": [
       "10"
      ]
     },
     "execution_count": 6,
     "metadata": {},
     "output_type": "execute_result"
    }
   ],
   "source": [
    "int(image_filenames[0].split(\"/\")[-1].split('.jpg')[0])"
   ]
  },
  {
   "cell_type": "code",
   "execution_count": 7,
   "metadata": {
    "collapsed": true
   },
   "outputs": [],
   "source": [
    "train_list = [ int(x.split(\"/\")[-1].split('.jpg')[0]) for x in image_filenames]"
   ]
  },
  {
   "cell_type": "code",
   "execution_count": 10,
   "metadata": {
    "collapsed": false
   },
   "outputs": [
    {
     "data": {
      "text/plain": [
       "[5, 10, 14, 20, 24]"
      ]
     },
     "execution_count": 10,
     "metadata": {},
     "output_type": "execute_result"
    }
   ],
   "source": [
    "train_list.sort()\n",
    "train_list[0:5]"
   ]
  },
  {
   "cell_type": "code",
   "execution_count": 22,
   "metadata": {
    "collapsed": false
   },
   "outputs": [
    {
     "name": "stdout",
     "output_type": "stream",
     "text": [
      "   photo_id  business_id\n",
      "0    204149         3034\n",
      "1     52779         2805\n",
      "2    278973          485\n",
      "3    195284          485\n",
      "4     19992          485\n"
     ]
    }
   ],
   "source": [
    "train_pic_biz = pd.read_csv('/data/train_photo_to_biz_ids.csv')\n",
    "train_biz_label = pd.read_csv('/data/train.csv')\n",
    "train_biz_label = train_biz_label.dropna()\n",
    "print train_pic_biz[0:5]"
   ]
  },
  {
   "cell_type": "code",
   "execution_count": 24,
   "metadata": {
    "collapsed": false
   },
   "outputs": [
    {
     "name": "stdout",
     "output_type": "stream",
     "text": [
      "   photo_id\n",
      "0         5\n",
      "1        10\n",
      "2        14\n",
      "3        20\n",
      "4        24\n"
     ]
    }
   ],
   "source": [
    "photo_id_list_df = pd.DataFrame(train_list, columns=[\"photo_id\"])\n",
    "print bus_id_list_df[0:5]"
   ]
  },
  {
   "cell_type": "code",
   "execution_count": 30,
   "metadata": {
    "collapsed": false
   },
   "outputs": [],
   "source": [
    "train_biz_labelnew = pd.merge(photo_id_list_df, train_pic_biz, on='photo_id', how='inner')\n",
    "train_biz_labelnew[0:5]\n",
    "pic_label = pd.merge(train_biz_labelnew, train_biz_label, on='business_id', how='left')"
   ]
  },
  {
   "cell_type": "code",
   "execution_count": 31,
   "metadata": {
    "collapsed": false
   },
   "outputs": [],
   "source": [
    "pic_label= pic_label.dropna()"
   ]
  },
  {
   "cell_type": "code",
   "execution_count": 32,
   "metadata": {
    "collapsed": false
   },
   "outputs": [
    {
     "data": {
      "text/html": [
       "<div>\n",
       "<table border=\"1\" class=\"dataframe\">\n",
       "  <thead>\n",
       "    <tr style=\"text-align: right;\">\n",
       "      <th></th>\n",
       "      <th>photo_id</th>\n",
       "      <th>business_id</th>\n",
       "      <th>labels</th>\n",
       "    </tr>\n",
       "  </thead>\n",
       "  <tbody>\n",
       "    <tr>\n",
       "      <th>0</th>\n",
       "      <td>5</td>\n",
       "      <td>3305</td>\n",
       "      <td>3 6</td>\n",
       "    </tr>\n",
       "    <tr>\n",
       "      <th>1</th>\n",
       "      <td>10</td>\n",
       "      <td>242</td>\n",
       "      <td>0 2 5 6 8</td>\n",
       "    </tr>\n",
       "    <tr>\n",
       "      <th>2</th>\n",
       "      <td>14</td>\n",
       "      <td>1202</td>\n",
       "      <td>1 2 4 5 6 7 8</td>\n",
       "    </tr>\n",
       "    <tr>\n",
       "      <th>3</th>\n",
       "      <td>20</td>\n",
       "      <td>3799</td>\n",
       "      <td>0 2 3 5 6 7</td>\n",
       "    </tr>\n",
       "    <tr>\n",
       "      <th>4</th>\n",
       "      <td>24</td>\n",
       "      <td>276</td>\n",
       "      <td>0 5 6 8</td>\n",
       "    </tr>\n",
       "  </tbody>\n",
       "</table>\n",
       "</div>"
      ],
      "text/plain": [
       "   photo_id  business_id         labels\n",
       "0         5         3305            3 6\n",
       "1        10          242      0 2 5 6 8\n",
       "2        14         1202  1 2 4 5 6 7 8\n",
       "3        20         3799    0 2 3 5 6 7\n",
       "4        24          276        0 5 6 8"
      ]
     },
     "execution_count": 32,
     "metadata": {},
     "output_type": "execute_result"
    }
   ],
   "source": [
    "pic_label[0:5]"
   ]
  },
  {
   "cell_type": "code",
   "execution_count": 34,
   "metadata": {
    "collapsed": false
   },
   "outputs": [
    {
     "data": {
      "text/plain": [
       "61718"
      ]
     },
     "execution_count": 34,
     "metadata": {},
     "output_type": "execute_result"
    }
   ],
   "source": [
    "pic_label = pic_label.sort_values(['photo_id'])\n",
    "len(pic_label)"
   ]
  },
  {
   "cell_type": "code",
   "execution_count": 35,
   "metadata": {
    "collapsed": true
   },
   "outputs": [],
   "source": [
    "def get_label(labels, level):\n",
    "    y_label_1 = [0]*len(labels)\n",
    "    for i in range(len(labels)):\n",
    "        try:\n",
    "            y_label_1[i] = int(level in labels[i])\n",
    "        except:\n",
    "            pass\n",
    "    return y_label_1"
   ]
  },
  {
   "cell_type": "code",
   "execution_count": 36,
   "metadata": {
    "collapsed": false
   },
   "outputs": [
    {
     "name": "stdout",
     "output_type": "stream",
     "text": [
      "   label_0  label_1  label_2  label_3  label_4  label_5  label_6  label_7  \\\n",
      "0        0        0        0        1        0        0        1        0   \n",
      "1        1        0        1        0        0        1        1        0   \n",
      "2        0        1        1        0        1        1        1        1   \n",
      "3        1        0        1        1        0        1        1        1   \n",
      "4        1        0        0        0        0        1        1        0   \n",
      "\n",
      "   label_8  \n",
      "0        0  \n",
      "1        1  \n",
      "2        1  \n",
      "3        0  \n",
      "4        1  \n"
     ]
    }
   ],
   "source": [
    "y_label_0 = get_label(pic_label['labels'].tolist(), '0')\n",
    "y_label_1 = get_label(pic_label['labels'].tolist(), '1')\n",
    "y_label_2 = get_label(pic_label['labels'].tolist(), '2')\n",
    "y_label_3 = get_label(pic_label['labels'].tolist(), '3')\n",
    "y_label_4 = get_label(pic_label['labels'].tolist(), '4')\n",
    "y_label_5 = get_label(pic_label['labels'].tolist(), '5')\n",
    "y_label_6 = get_label(pic_label['labels'].tolist(), '6')\n",
    "y_label_7 = get_label(pic_label['labels'].tolist(), '7')\n",
    "y_label_8 = get_label(pic_label['labels'].tolist(), '8')\n",
    "\n",
    "label_list = pd.DataFrame({'label_0' : y_label_0,'label_1' : y_label_1,'label_2' : y_label_2,'label_3' : y_label_3,\n",
    "                                'label_4' : y_label_4,'label_5' : y_label_5,'label_6' : y_label_6,'label_7' : y_label_7,\n",
    "                                'label_8' : y_label_8})\n",
    "print label_list[0:5]"
   ]
  },
  {
   "cell_type": "code",
   "execution_count": 37,
   "metadata": {
    "collapsed": true
   },
   "outputs": [],
   "source": [
    "pic_label.index = range(len(pic_label))"
   ]
  },
  {
   "cell_type": "code",
   "execution_count": 38,
   "metadata": {
    "collapsed": true
   },
   "outputs": [],
   "source": [
    "result =  pic_label.join(label_list)"
   ]
  },
  {
   "cell_type": "code",
   "execution_count": 39,
   "metadata": {
    "collapsed": false
   },
   "outputs": [
    {
     "data": {
      "text/html": [
       "<div>\n",
       "<table border=\"1\" class=\"dataframe\">\n",
       "  <thead>\n",
       "    <tr style=\"text-align: right;\">\n",
       "      <th></th>\n",
       "      <th>photo_id</th>\n",
       "      <th>business_id</th>\n",
       "      <th>labels</th>\n",
       "      <th>label_0</th>\n",
       "      <th>label_1</th>\n",
       "      <th>label_2</th>\n",
       "      <th>label_3</th>\n",
       "      <th>label_4</th>\n",
       "      <th>label_5</th>\n",
       "      <th>label_6</th>\n",
       "      <th>label_7</th>\n",
       "      <th>label_8</th>\n",
       "    </tr>\n",
       "  </thead>\n",
       "  <tbody>\n",
       "    <tr>\n",
       "      <th>0</th>\n",
       "      <td>5</td>\n",
       "      <td>3305</td>\n",
       "      <td>3 6</td>\n",
       "      <td>0</td>\n",
       "      <td>0</td>\n",
       "      <td>0</td>\n",
       "      <td>1</td>\n",
       "      <td>0</td>\n",
       "      <td>0</td>\n",
       "      <td>1</td>\n",
       "      <td>0</td>\n",
       "      <td>0</td>\n",
       "    </tr>\n",
       "    <tr>\n",
       "      <th>1</th>\n",
       "      <td>10</td>\n",
       "      <td>242</td>\n",
       "      <td>0 2 5 6 8</td>\n",
       "      <td>1</td>\n",
       "      <td>0</td>\n",
       "      <td>1</td>\n",
       "      <td>0</td>\n",
       "      <td>0</td>\n",
       "      <td>1</td>\n",
       "      <td>1</td>\n",
       "      <td>0</td>\n",
       "      <td>1</td>\n",
       "    </tr>\n",
       "    <tr>\n",
       "      <th>2</th>\n",
       "      <td>14</td>\n",
       "      <td>1202</td>\n",
       "      <td>1 2 4 5 6 7 8</td>\n",
       "      <td>0</td>\n",
       "      <td>1</td>\n",
       "      <td>1</td>\n",
       "      <td>0</td>\n",
       "      <td>1</td>\n",
       "      <td>1</td>\n",
       "      <td>1</td>\n",
       "      <td>1</td>\n",
       "      <td>1</td>\n",
       "    </tr>\n",
       "    <tr>\n",
       "      <th>3</th>\n",
       "      <td>20</td>\n",
       "      <td>3799</td>\n",
       "      <td>0 2 3 5 6 7</td>\n",
       "      <td>1</td>\n",
       "      <td>0</td>\n",
       "      <td>1</td>\n",
       "      <td>1</td>\n",
       "      <td>0</td>\n",
       "      <td>1</td>\n",
       "      <td>1</td>\n",
       "      <td>1</td>\n",
       "      <td>0</td>\n",
       "    </tr>\n",
       "    <tr>\n",
       "      <th>4</th>\n",
       "      <td>24</td>\n",
       "      <td>276</td>\n",
       "      <td>0 5 6 8</td>\n",
       "      <td>1</td>\n",
       "      <td>0</td>\n",
       "      <td>0</td>\n",
       "      <td>0</td>\n",
       "      <td>0</td>\n",
       "      <td>1</td>\n",
       "      <td>1</td>\n",
       "      <td>0</td>\n",
       "      <td>1</td>\n",
       "    </tr>\n",
       "  </tbody>\n",
       "</table>\n",
       "</div>"
      ],
      "text/plain": [
       "   photo_id  business_id         labels  label_0  label_1  label_2  label_3  \\\n",
       "0         5         3305            3 6        0        0        0        1   \n",
       "1        10          242      0 2 5 6 8        1        0        1        0   \n",
       "2        14         1202  1 2 4 5 6 7 8        0        1        1        0   \n",
       "3        20         3799    0 2 3 5 6 7        1        0        1        1   \n",
       "4        24          276        0 5 6 8        1        0        0        0   \n",
       "\n",
       "   label_4  label_5  label_6  label_7  label_8  \n",
       "0        0        0        1        0        0  \n",
       "1        0        1        1        0        1  \n",
       "2        1        1        1        1        1  \n",
       "3        0        1        1        1        0  \n",
       "4        0        1        1        0        1  "
      ]
     },
     "execution_count": 39,
     "metadata": {},
     "output_type": "execute_result"
    }
   ],
   "source": [
    "result[0:5]"
   ]
  },
  {
   "cell_type": "code",
   "execution_count": 41,
   "metadata": {
    "collapsed": false
   },
   "outputs": [],
   "source": [
    "result.drop(['labels'],inplace=True,axis=1)"
   ]
  },
  {
   "cell_type": "code",
   "execution_count": 42,
   "metadata": {
    "collapsed": true
   },
   "outputs": [],
   "source": [
    "result.to_csv('pic_label_subbybus_train.csv',index=False)"
   ]
  }
 ],
 "metadata": {
  "kernelspec": {
   "display_name": "Python 2",
   "language": "python",
   "name": "python2"
  },
  "language_info": {
   "codemirror_mode": {
    "name": "ipython",
    "version": 2
   },
   "file_extension": ".py",
   "mimetype": "text/x-python",
   "name": "python",
   "nbconvert_exporter": "python",
   "pygments_lexer": "ipython2",
   "version": "2.7.10"
  }
 },
 "nbformat": 4,
 "nbformat_minor": 0
}
