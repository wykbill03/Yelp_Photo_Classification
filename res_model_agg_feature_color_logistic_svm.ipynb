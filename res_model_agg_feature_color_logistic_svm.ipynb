{
 "cells": [
  {
   "cell_type": "markdown",
   "metadata": {},
   "source": [
    "Aggregate image color features to restaurants and build restaurant level models"
   ]
  },
  {
   "cell_type": "code",
   "execution_count": 123,
   "metadata": {
    "collapsed": true
   },
   "outputs": [],
   "source": [
    "import pandas as pd\n",
    "import numpy as np"
   ]
  },
  {
   "cell_type": "code",
   "execution_count": 124,
   "metadata": {
    "collapsed": true
   },
   "outputs": [],
   "source": [
    "color_dir = '/color/F3_all_train.npy'\n",
    "bus_dir = '/pic_label_subbybus_train.csv'\n",
    "color_test = '/color/F3_testnew.npy'\n",
    "bus_test_dir = '/pic_label_subbybus_test.csv'"
   ]
  },
  {
   "cell_type": "code",
   "execution_count": 125,
   "metadata": {
    "collapsed": false
   },
   "outputs": [],
   "source": [
    "color = np.load(color_dir)\n",
    "color_test = np.load(color_test)\n",
    "bus_info = pd.read_csv(bus_dir, header = 0)\n",
    "colordf = pd.DataFrame(color)\n",
    "bus_info_test = pd.read_csv(bus_test_dir, header = 0)\n",
    "color_testdf = pd.DataFrame(color_test)"
   ]
  },
  {
   "cell_type": "code",
   "execution_count": 126,
   "metadata": {
    "collapsed": false
   },
   "outputs": [
    {
     "name": "stdout",
     "output_type": "stream",
     "text": [
      "   photo_id  business_id\n",
      "0        80         1114\n",
      "1        95         3065\n",
      "2       130         2687\n",
      "3       143         3979\n",
      "4       296         1114\n"
     ]
    }
   ],
   "source": [
    "bus_photoid = bus_info[['photo_id','business_id']]\n",
    "bus_test_photoid = bus_info_test[['photo_id','business_id']]\n",
    "print bus_test_photoid[0:5]"
   ]
  },
  {
   "cell_type": "code",
   "execution_count": 127,
   "metadata": {
    "collapsed": false
   },
   "outputs": [],
   "source": [
    "color_withid = colordf.join(bus_photoid)\n",
    "color_withid_test = color_testdf.join(bus_test_photoid)"
   ]
  },
  {
   "cell_type": "markdown",
   "metadata": {},
   "source": [
    "method 1: color_count/number_photo"
   ]
  },
  {
   "cell_type": "code",
   "execution_count": 128,
   "metadata": {
    "collapsed": false
   },
   "outputs": [
    {
     "name": "stdout",
     "output_type": "stream",
     "text": [
      "   0  1  2  3  4  5  6  7  8  9     ...       8992  8993  8994  8995  8996  \\\n",
      "0  1  0  0  1  1  1  1  1  1  1     ...          0     0     1     0     0   \n",
      "1  0  0  0  0  0  0  0  0  0  0     ...          0     0     1     1     0   \n",
      "2  0  0  0  0  0  0  0  0  0  0     ...          0     0     0     0     0   \n",
      "3  1  1  1  1  0  0  1  1  1  0     ...          0     0     1     0     0   \n",
      "4  0  1  1  0  0  0  0  1  1  0     ...          0     0     0     0     0   \n",
      "\n",
      "   8997  8998  8999  photo_id  business_id  \n",
      "0     0     0     0         1         3305  \n",
      "1     0     0     0         1          242  \n",
      "2     0     0     0         1         1202  \n",
      "3     0     0     0         1         3799  \n",
      "4     0     0     0         1          276  \n",
      "\n",
      "[5 rows x 9002 columns]\n"
     ]
    }
   ],
   "source": [
    "color_withid[['photo_id']] =1\n",
    "color_withid_test[['photo_id']] =1\n",
    "print color_withid[0:5]"
   ]
  },
  {
   "cell_type": "code",
   "execution_count": 129,
   "metadata": {
    "collapsed": false
   },
   "outputs": [],
   "source": [
    "sumdf_train= color_withid.groupby(['business_id']).sum().reset_index()\n",
    "\n",
    "sumdf_test = color_withid_test.groupby(['business_id']).sum().reset_index()"
   ]
  },
  {
   "cell_type": "code",
   "execution_count": 130,
   "metadata": {
    "collapsed": false
   },
   "outputs": [
    {
     "name": "stdout",
     "output_type": "stream",
     "text": [
      "   business_id   0   1   2   3   4   5   6   7   8    ...     8991  8992  \\\n",
      "0            7  10   8  11  11  10   9   8   8   9    ...        3     2   \n",
      "1            8   9  12  10  11  13  10   7  13  15    ...        0     0   \n",
      "2           23  20  28  35  31  39  35  32  40  43    ...        9     9   \n",
      "3           28   8   3   4   3   0   1   8   5   4    ...        1     0   \n",
      "\n",
      "   8993  8994  8995  8996  8997  8998  8999  photo_id  \n",
      "0     1     2     4     4     3     2     1        21  \n",
      "1     0     4     1     0     0     0     0        34  \n",
      "2     3    32    10     7     7     7     4        90  \n",
      "3     0     6     3     0     0     0     0        16  \n",
      "\n",
      "[4 rows x 9002 columns]\n"
     ]
    }
   ],
   "source": [
    "print sumdf_train[0:4]"
   ]
  },
  {
   "cell_type": "code",
   "execution_count": 131,
   "metadata": {
    "collapsed": false
   },
   "outputs": [],
   "source": [
    "for i in range(9000):\n",
    "    sumdf_train[i] = sumdf_train.apply(lambda row: row[i]*1.0/row['photo_id'], axis=1)\n",
    "    sumdf_test[i] = sumdf_test.apply(lambda row: row[i]*1.0/row['photo_id'], axis=1)"
   ]
  },
  {
   "cell_type": "code",
   "execution_count": 111,
   "metadata": {
    "collapsed": false
   },
   "outputs": [
    {
     "name": "stdout",
     "output_type": "stream",
     "text": [
      "   business_id         0         1         2         3         4         5  \\\n",
      "0            7  0.904762  0.476190  0.761905  0.904762  0.904762  0.904762   \n",
      "1            8  0.617647  0.588235  0.588235  0.617647  0.794118  0.794118   \n",
      "2           23  0.833333  0.744444  0.855556  0.855556  0.888889  0.955556   \n",
      "\n",
      "          6         7         8    ...          990       991       992  \\\n",
      "0  0.904762  0.857143  0.857143    ...     0.571429  0.761905  0.571429   \n",
      "1  0.882353  0.852941  0.852941    ...     0.617647  0.500000  0.441176   \n",
      "2  0.977778  0.966667  0.966667    ...     0.588889  0.577778  0.477778   \n",
      "\n",
      "        993       994       995       996       997       998       999  \n",
      "0  0.619048  0.571429  0.571429  0.476190  0.333333  0.285714  0.095238  \n",
      "1  0.323529  0.205882  0.176471  0.029412  0.029412  0.000000  0.000000  \n",
      "2  0.377778  0.333333  0.244444  0.222222  0.211111  0.144444  0.088889  \n",
      "\n",
      "[3 rows x 1001 columns]\n"
     ]
    }
   ],
   "source": [
    "sumdf_train.drop(['photo_id'],inplace=True,axis=1)\n",
    "sumdf_test.drop(['photo_id'],inplace=True,axis=1)\n",
    "print sumdf_train[0:3]"
   ]
  },
  {
   "cell_type": "code",
   "execution_count": 112,
   "metadata": {
    "collapsed": false
   },
   "outputs": [
    {
     "name": "stderr",
     "output_type": "stream",
     "text": [
      "/Users/s92wang/anaconda/lib/python2.7/site-packages/ipykernel/__main__.py:1: FutureWarning: the take_last=True keyword is deprecated, use keep='last' instead\n",
      "  if __name__ == '__main__':\n",
      "/Users/s92wang/anaconda/lib/python2.7/site-packages/ipykernel/__main__.py:1: FutureWarning: the 'cols' keyword is deprecated, use 'subset' instead\n",
      "  if __name__ == '__main__':\n",
      "/Users/s92wang/anaconda/lib/python2.7/site-packages/ipykernel/__main__.py:2: FutureWarning: the take_last=True keyword is deprecated, use keep='last' instead\n",
      "  from ipykernel import kernelapp as app\n",
      "/Users/s92wang/anaconda/lib/python2.7/site-packages/ipykernel/__main__.py:2: FutureWarning: the 'cols' keyword is deprecated, use 'subset' instead\n",
      "  from ipykernel import kernelapp as app\n"
     ]
    }
   ],
   "source": [
    "bus_id = bus_info.drop_duplicates(cols='business_id', take_last=True)\n",
    "bus_id_test = bus_info_test.drop_duplicates(cols='business_id', take_last=True)\n",
    "#bus_id.to_csv('bus_label_train.csv',index=False)\n",
    "#bus_id_test.to_csv('bus_label_test.csv',index=False)"
   ]
  },
  {
   "cell_type": "code",
   "execution_count": 113,
   "metadata": {
    "collapsed": false
   },
   "outputs": [],
   "source": [
    "total_train = pd.merge(sumdf_train,bus_id,on='business_id', how='left')\n",
    "total_test = pd.merge(sumdf_test,bus_id_test,on='business_id', how='left')"
   ]
  },
  {
   "cell_type": "code",
   "execution_count": 114,
   "metadata": {
    "collapsed": false
   },
   "outputs": [
    {
     "name": "stdout",
     "output_type": "stream",
     "text": [
      "   business_id         0         1         2         3         4         5  \\\n",
      "0           18  0.250000  0.375000  0.500000  0.625000  0.875000  0.750000   \n",
      "1           38  0.403101  0.457364  0.519380  0.612403  0.705426  0.689922   \n",
      "2           96  0.584615  0.523077  0.615385  0.569231  0.569231  0.615385   \n",
      "3          112  0.365591  0.365591  0.440860  0.494624  0.505376  0.537634   \n",
      "4          221  0.206349  0.126984  0.190476  0.248677  0.264550  0.296296   \n",
      "\n",
      "          6         7         8   ...     photo_id  label_0  label_1  label_2  \\\n",
      "0  0.500000  0.375000  0.125000   ...       373017        0        1        1   \n",
      "1  0.720930  0.697674  0.348837   ...       470463        0        0        0   \n",
      "2  0.584615  0.584615  0.569231   ...       460707        1        0        0   \n",
      "3  0.473118  0.419355  0.311828   ...       470754        0        1        1   \n",
      "4  0.259259  0.232804  0.174603   ...       466859        0        1        1   \n",
      "\n",
      "   label_3  label_4  label_5  label_6  label_7  label_8  \n",
      "0        1        1        1        1        1        0  \n",
      "1        0        0        1        1        0        1  \n",
      "2        1        0        1        1        0        1  \n",
      "3        0        1        1        1        1        0  \n",
      "4        0        1        1        1        1        0  \n",
      "\n",
      "[5 rows x 5771 columns]\n"
     ]
    }
   ],
   "source": [
    "print total_test[0:5]"
   ]
  },
  {
   "cell_type": "code",
   "execution_count": 115,
   "metadata": {
    "collapsed": false
   },
   "outputs": [],
   "source": [
    "train_x = total_train.iloc[:,1:5761]\n",
    "test_x = total_test.iloc[:,1:5761]\n"
   ]
  },
  {
   "cell_type": "code",
   "execution_count": 116,
   "metadata": {
    "collapsed": true
   },
   "outputs": [],
   "source": [
    "from sklearn import linear_model\n",
    "from sklearn import metrics"
   ]
  },
  {
   "cell_type": "code",
   "execution_count": 117,
   "metadata": {
    "collapsed": false
   },
   "outputs": [
    {
     "name": "stdout",
     "output_type": "stream",
     "text": [
      "   business_id\n",
      "0           18\n",
      "1           38\n",
      "2           96\n",
      "3          112\n",
      "4          221\n"
     ]
    }
   ],
   "source": [
    "prediction = pd.DataFrame(total_test['business_id'])\n",
    "print prediction[0:5]"
   ]
  },
  {
   "cell_type": "code",
   "execution_count": 118,
   "metadata": {
    "collapsed": false
   },
   "outputs": [
    {
     "name": "stdout",
     "output_type": "stream",
     "text": [
      "label_0 0.757575757576 0.647058823529\n",
      "label_1 0.767676767677 0.792792792793\n",
      "label_2 0.79797979798 0.818181818182\n",
      "label_3 0.545454545455 0.545454545455\n",
      "label_4 0.808080808081 0.716417910448\n",
      "label_5 0.717171717172 0.791044776119\n",
      "label_6 0.808080808081 0.867132867133\n",
      "label_7 0.858585858586 0.810810810811\n"
     ]
    }
   ],
   "source": [
    "for i in range(8):\n",
    "    train_y = total_train['label_%d' % i]\n",
    "    test_y = total_test['label_%d' % i]\n",
    "    logreg = linear_model.LogisticRegression()\n",
    "    logreg.fit(train_x, train_y)\n",
    "    pred_y = logreg.predict(test_x)\n",
    "    pred_y_pd = pd.DataFrame(pred_y, columns = ['label_%d' % i])\n",
    "    prediction = prediction.join(pred_y_pd)\n",
    "    accuracy = metrics.accuracy_score(pred_y, test_y)\n",
    "    f1 = metrics.f1_score(pred_y, test_y)\n",
    "    print 'label_%d' % i, accuracy,f1\n",
    "    "
   ]
  },
  {
   "cell_type": "code",
   "execution_count": 119,
   "metadata": {
    "collapsed": false
   },
   "outputs": [
    {
     "name": "stdout",
     "output_type": "stream",
     "text": [
      "   business_id  label_0  label_1  label_2  label_3  label_4  label_5  label_6  \\\n",
      "0           18        1        0        0        0        0        0        0   \n",
      "1           38        1        0        0        1        0        1        1   \n",
      "2           96        0        1        1        1        1        1        1   \n",
      "3          112        0        1        1        0        1        1        1   \n",
      "4          221        0        1        1        1        1        1        1   \n",
      "\n",
      "   label_7  \n",
      "0        0  \n",
      "1        0  \n",
      "2        0  \n",
      "3        1  \n",
      "4        1  \n"
     ]
    }
   ],
   "source": [
    "print prediction[0:5]"
   ]
  },
  {
   "cell_type": "code",
   "execution_count": 120,
   "metadata": {
    "collapsed": true
   },
   "outputs": [],
   "source": [
    "# score function\n",
    "def mlb_f1(y_true, y_pred):\n",
    "    y_true = set(y_true)\n",
    "    y_pred = set(y_pred)\n",
    "    tp = len(y_true & y_pred)\n",
    "    fp = len(y_pred-y_true)\n",
    "    fn = len(y_true-y_pred)\n",
    "    if tp == 0 and fp == 0:\n",
    "        return 0.0\n",
    "    else:\n",
    "        p = float(tp)/(tp+fp)\n",
    "        r = float(tp)/(tp+fn)\n",
    "        return 2*p*r/(p+r) if tp!=0 else 0.\n",
    "def mean_f1(y_true, y_pred):\n",
    "    score_list = map(lambda x: mlb_f1(x[0],x[1]), zip(y_true, y_pred))\n",
    "    return sum(score_list)/len(score_list)"
   ]
  },
  {
   "cell_type": "code",
   "execution_count": 121,
   "metadata": {
    "collapsed": false
   },
   "outputs": [
    {
     "name": "stdout",
     "output_type": "stream",
     "text": [
      "[[1, 2, 3, 4, 5, 6, 7], [5, 6, 8], [0, 3, 5, 6, 8], [1, 2, 4, 5, 6, 7], [1, 2, 4, 5, 6, 7]]\n",
      "[[0], [0, 3, 5, 6], [1, 2, 3, 4, 5, 6], [1, 2, 4, 5, 6, 7], [1, 2, 3, 4, 5, 6, 7]]\n",
      "   business_id  label_0  label_1  label_2  label_3  label_4  label_5  label_6  \\\n",
      "0           18        1        0        0        0        0        0        0   \n",
      "1           38        1        0        0        1        0        1        1   \n",
      "2           96        0        1        1        1        1        1        1   \n",
      "3          112        0        1        1        0        1        1        1   \n",
      "4          221        0        1        1        1        1        1        1   \n",
      "\n",
      "   label_7  \n",
      "0        0  \n",
      "1        0  \n",
      "2        0  \n",
      "3        1  \n",
      "4        1  \n"
     ]
    }
   ],
   "source": [
    "y_pred = [[i for i in range(len(arr)) if arr[i]!=0] for arr in np.array(prediction.iloc[:,1:])]\n",
    "true_bus = total_test.loc[:, 'label_0':'label_8']\n",
    "y_true = [[i for i in range(len(arr)) if arr[i]!=0] for arr in np.array(true_bus)]\n",
    "print y_true[0:5]\n",
    "print y_pred[0:5]\n",
    "print prediction[0:5]"
   ]
  },
  {
   "cell_type": "code",
   "execution_count": 122,
   "metadata": {
    "collapsed": false
   },
   "outputs": [
    {
     "data": {
      "text/plain": [
       "0.6221605554938885"
      ]
     },
     "execution_count": 122,
     "metadata": {},
     "output_type": "execute_result"
    }
   ],
   "source": [
    "mean_f1(y_true, y_pred)"
   ]
  },
  {
   "cell_type": "code",
   "execution_count": null,
   "metadata": {
    "collapsed": true
   },
   "outputs": [],
   "source": []
  }
 ],
 "metadata": {
  "kernelspec": {
   "display_name": "Python 2",
   "language": "python",
   "name": "python2"
  },
  "language_info": {
   "codemirror_mode": {
    "name": "ipython",
    "version": 2
   },
   "file_extension": ".py",
   "mimetype": "text/x-python",
   "name": "python",
   "nbconvert_exporter": "python",
   "pygments_lexer": "ipython2",
   "version": "2.7.10"
  }
 },
 "nbformat": 4,
 "nbformat_minor": 0
}
