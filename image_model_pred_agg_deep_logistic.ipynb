{
 "cells": [
  {
   "cell_type": "markdown",
   "metadata": {},
   "source": [
    "Aggregate image level deep learning feature logistic model result to restaurants"
   ]
  },
  {
   "cell_type": "code",
   "execution_count": 1,
   "metadata": {
    "collapsed": true
   },
   "outputs": [],
   "source": [
    "import pandas as pd\n",
    "import numpy as np"
   ]
  },
  {
   "cell_type": "code",
   "execution_count": 2,
   "metadata": {
    "collapsed": false
   },
   "outputs": [],
   "source": [
    "prefix=r'/Yelp/deep_logistic_result/'"
   ]
  },
  {
   "cell_type": "code",
   "execution_count": 26,
   "metadata": {
    "collapsed": false
   },
   "outputs": [],
   "source": [
    "# read prediction probability for all labels and images\n",
    "numlabel=9\n",
    "\n",
    "label=0\n",
    "file=prefix+\"prob_%d.csv\" % label\n",
    "df=pd.read_csv(file,header=None)\n",
    "df.columns=['photo_id','%d' % label]\n",
    "\n",
    "for label in range(1,numlabel):\n",
    "    file=prefix+\"prob_%d.csv\" % label\n",
    "    cache=pd.read_csv(file,header=None)\n",
    "    cache.columns=['photo_id','%d' % label]\n",
    "    df=df.merge(cache,on='photo_id')"
   ]
  },
  {
   "cell_type": "code",
   "execution_count": 27,
   "metadata": {
    "collapsed": false
   },
   "outputs": [
    {
     "data": {
      "text/html": [
       "<div>\n",
       "<table border=\"1\" class=\"dataframe\">\n",
       "  <thead>\n",
       "    <tr style=\"text-align: right;\">\n",
       "      <th></th>\n",
       "      <th>photo_id</th>\n",
       "      <th>0</th>\n",
       "      <th>1</th>\n",
       "      <th>2</th>\n",
       "      <th>3</th>\n",
       "      <th>4</th>\n",
       "      <th>5</th>\n",
       "      <th>6</th>\n",
       "      <th>7</th>\n",
       "      <th>8</th>\n",
       "    </tr>\n",
       "  </thead>\n",
       "  <tbody>\n",
       "    <tr>\n",
       "      <th>0</th>\n",
       "      <td>306310</td>\n",
       "      <td>0.144380</td>\n",
       "      <td>0.738446</td>\n",
       "      <td>0.832474</td>\n",
       "      <td>0.350373</td>\n",
       "      <td>0.557770</td>\n",
       "      <td>0.881926</td>\n",
       "      <td>0.822641</td>\n",
       "      <td>0.443390</td>\n",
       "      <td>0.305312</td>\n",
       "    </tr>\n",
       "    <tr>\n",
       "      <th>1</th>\n",
       "      <td>414079</td>\n",
       "      <td>0.751620</td>\n",
       "      <td>0.207867</td>\n",
       "      <td>0.129508</td>\n",
       "      <td>0.457979</td>\n",
       "      <td>0.084926</td>\n",
       "      <td>0.335735</td>\n",
       "      <td>0.177415</td>\n",
       "      <td>0.177768</td>\n",
       "      <td>0.605128</td>\n",
       "    </tr>\n",
       "    <tr>\n",
       "      <th>2</th>\n",
       "      <td>235737</td>\n",
       "      <td>0.046159</td>\n",
       "      <td>0.928014</td>\n",
       "      <td>0.941867</td>\n",
       "      <td>0.350682</td>\n",
       "      <td>0.892192</td>\n",
       "      <td>0.961724</td>\n",
       "      <td>0.983470</td>\n",
       "      <td>0.752173</td>\n",
       "      <td>0.095722</td>\n",
       "    </tr>\n",
       "  </tbody>\n",
       "</table>\n",
       "</div>"
      ],
      "text/plain": [
       "   photo_id         0         1         2         3         4         5  \\\n",
       "0    306310  0.144380  0.738446  0.832474  0.350373  0.557770  0.881926   \n",
       "1    414079  0.751620  0.207867  0.129508  0.457979  0.084926  0.335735   \n",
       "2    235737  0.046159  0.928014  0.941867  0.350682  0.892192  0.961724   \n",
       "\n",
       "          6         7         8  \n",
       "0  0.822641  0.443390  0.305312  \n",
       "1  0.177415  0.177768  0.605128  \n",
       "2  0.983470  0.752173  0.095722  "
      ]
     },
     "execution_count": 27,
     "metadata": {},
     "output_type": "execute_result"
    }
   ],
   "source": [
    "df[:3]"
   ]
  },
  {
   "cell_type": "code",
   "execution_count": 24,
   "metadata": {
    "collapsed": false
   },
   "outputs": [
    {
     "data": {
      "text/html": [
       "<div>\n",
       "<table border=\"1\" class=\"dataframe\">\n",
       "  <thead>\n",
       "    <tr style=\"text-align: right;\">\n",
       "      <th></th>\n",
       "      <th>photo_id</th>\n",
       "      <th>business_id</th>\n",
       "    </tr>\n",
       "  </thead>\n",
       "  <tbody>\n",
       "    <tr>\n",
       "      <th>0</th>\n",
       "      <td>317818</td>\n",
       "      <td>003sg</td>\n",
       "    </tr>\n",
       "    <tr>\n",
       "      <th>1</th>\n",
       "      <td>30679</td>\n",
       "      <td>003sg</td>\n",
       "    </tr>\n",
       "    <tr>\n",
       "      <th>2</th>\n",
       "      <td>455084</td>\n",
       "      <td>003sg</td>\n",
       "    </tr>\n",
       "  </tbody>\n",
       "</table>\n",
       "</div>"
      ],
      "text/plain": [
       "   photo_id business_id\n",
       "0    317818       003sg\n",
       "1     30679       003sg\n",
       "2    455084       003sg"
      ]
     },
     "execution_count": 24,
     "metadata": {},
     "output_type": "execute_result"
    }
   ],
   "source": [
    "file=r'/Yelp/test_photo_to_biz.csv'\n",
    "p_biz_df = pd.read_csv(file)\n",
    "p_biz_df[:3]"
   ]
  },
  {
   "cell_type": "code",
   "execution_count": 28,
   "metadata": {
    "collapsed": false
   },
   "outputs": [
    {
     "data": {
      "text/html": [
       "<div>\n",
       "<table border=\"1\" class=\"dataframe\">\n",
       "  <thead>\n",
       "    <tr style=\"text-align: right;\">\n",
       "      <th></th>\n",
       "      <th>photo_id</th>\n",
       "      <th>0</th>\n",
       "      <th>1</th>\n",
       "      <th>2</th>\n",
       "      <th>3</th>\n",
       "      <th>4</th>\n",
       "      <th>5</th>\n",
       "      <th>6</th>\n",
       "      <th>7</th>\n",
       "      <th>8</th>\n",
       "      <th>business_id</th>\n",
       "    </tr>\n",
       "  </thead>\n",
       "  <tbody>\n",
       "    <tr>\n",
       "      <th>0</th>\n",
       "      <td>306310</td>\n",
       "      <td>0.14438</td>\n",
       "      <td>0.738446</td>\n",
       "      <td>0.832474</td>\n",
       "      <td>0.350373</td>\n",
       "      <td>0.55777</td>\n",
       "      <td>0.881926</td>\n",
       "      <td>0.822641</td>\n",
       "      <td>0.44339</td>\n",
       "      <td>0.305312</td>\n",
       "      <td>06cko</td>\n",
       "    </tr>\n",
       "    <tr>\n",
       "      <th>1</th>\n",
       "      <td>306310</td>\n",
       "      <td>0.14438</td>\n",
       "      <td>0.738446</td>\n",
       "      <td>0.832474</td>\n",
       "      <td>0.350373</td>\n",
       "      <td>0.55777</td>\n",
       "      <td>0.881926</td>\n",
       "      <td>0.822641</td>\n",
       "      <td>0.44339</td>\n",
       "      <td>0.305312</td>\n",
       "      <td>424fd</td>\n",
       "    </tr>\n",
       "    <tr>\n",
       "      <th>2</th>\n",
       "      <td>306310</td>\n",
       "      <td>0.14438</td>\n",
       "      <td>0.738446</td>\n",
       "      <td>0.832474</td>\n",
       "      <td>0.350373</td>\n",
       "      <td>0.55777</td>\n",
       "      <td>0.881926</td>\n",
       "      <td>0.822641</td>\n",
       "      <td>0.44339</td>\n",
       "      <td>0.305312</td>\n",
       "      <td>cuof8</td>\n",
       "    </tr>\n",
       "  </tbody>\n",
       "</table>\n",
       "</div>"
      ],
      "text/plain": [
       "   photo_id        0         1         2         3        4         5  \\\n",
       "0    306310  0.14438  0.738446  0.832474  0.350373  0.55777  0.881926   \n",
       "1    306310  0.14438  0.738446  0.832474  0.350373  0.55777  0.881926   \n",
       "2    306310  0.14438  0.738446  0.832474  0.350373  0.55777  0.881926   \n",
       "\n",
       "          6        7         8 business_id  \n",
       "0  0.822641  0.44339  0.305312       06cko  \n",
       "1  0.822641  0.44339  0.305312       424fd  \n",
       "2  0.822641  0.44339  0.305312       cuof8  "
      ]
     },
     "execution_count": 28,
     "metadata": {},
     "output_type": "execute_result"
    }
   ],
   "source": [
    "# join image-restaurant map and prediction probabilities\n",
    "df=df.merge(p_biz_df,on='photo_id')\n",
    "df[:3]"
   ]
  },
  {
   "cell_type": "code",
   "execution_count": 39,
   "metadata": {
    "collapsed": false
   },
   "outputs": [
    {
     "data": {
      "text/html": [
       "<div>\n",
       "<table border=\"1\" class=\"dataframe\">\n",
       "  <thead>\n",
       "    <tr style=\"text-align: right;\">\n",
       "      <th></th>\n",
       "      <th>0</th>\n",
       "      <th>1</th>\n",
       "      <th>2</th>\n",
       "      <th>3</th>\n",
       "      <th>4</th>\n",
       "      <th>5</th>\n",
       "      <th>6</th>\n",
       "      <th>7</th>\n",
       "      <th>8</th>\n",
       "    </tr>\n",
       "    <tr>\n",
       "      <th>business_id</th>\n",
       "      <th></th>\n",
       "      <th></th>\n",
       "      <th></th>\n",
       "      <th></th>\n",
       "      <th></th>\n",
       "      <th></th>\n",
       "      <th></th>\n",
       "      <th></th>\n",
       "      <th></th>\n",
       "    </tr>\n",
       "  </thead>\n",
       "  <tbody>\n",
       "    <tr>\n",
       "      <th>003sg</th>\n",
       "      <td>0.235450</td>\n",
       "      <td>0.598205</td>\n",
       "      <td>0.649850</td>\n",
       "      <td>0.512190</td>\n",
       "      <td>0.437117</td>\n",
       "      <td>0.725627</td>\n",
       "      <td>0.767255</td>\n",
       "      <td>0.388143</td>\n",
       "      <td>0.500284</td>\n",
       "    </tr>\n",
       "    <tr>\n",
       "      <th>00er5</th>\n",
       "      <td>0.232496</td>\n",
       "      <td>0.575878</td>\n",
       "      <td>0.625513</td>\n",
       "      <td>0.504930</td>\n",
       "      <td>0.387588</td>\n",
       "      <td>0.727191</td>\n",
       "      <td>0.766431</td>\n",
       "      <td>0.346793</td>\n",
       "      <td>0.543016</td>\n",
       "    </tr>\n",
       "    <tr>\n",
       "      <th>00kad</th>\n",
       "      <td>0.237391</td>\n",
       "      <td>0.557425</td>\n",
       "      <td>0.599383</td>\n",
       "      <td>0.493128</td>\n",
       "      <td>0.382931</td>\n",
       "      <td>0.706564</td>\n",
       "      <td>0.730700</td>\n",
       "      <td>0.353629</td>\n",
       "      <td>0.527460</td>\n",
       "    </tr>\n",
       "  </tbody>\n",
       "</table>\n",
       "</div>"
      ],
      "text/plain": [
       "                    0         1         2         3         4         5  \\\n",
       "business_id                                                               \n",
       "003sg        0.235450  0.598205  0.649850  0.512190  0.437117  0.725627   \n",
       "00er5        0.232496  0.575878  0.625513  0.504930  0.387588  0.727191   \n",
       "00kad        0.237391  0.557425  0.599383  0.493128  0.382931  0.706564   \n",
       "\n",
       "                    6         7         8  \n",
       "business_id                                \n",
       "003sg        0.767255  0.388143  0.500284  \n",
       "00er5        0.766431  0.346793  0.543016  \n",
       "00kad        0.730700  0.353629  0.527460  "
      ]
     },
     "execution_count": 39,
     "metadata": {},
     "output_type": "execute_result"
    }
   ],
   "source": [
    "# average prediction probability for each restaurant\n",
    "mean_prob=df.groupby(['business_id'])[np.arange(9).astype(np.str)].mean()\n",
    "mean_prob[:3]"
   ]
  },
  {
   "cell_type": "code",
   "execution_count": 40,
   "metadata": {
    "collapsed": false
   },
   "outputs": [
    {
     "data": {
      "text/html": [
       "<div>\n",
       "<table border=\"1\" class=\"dataframe\">\n",
       "  <thead>\n",
       "    <tr style=\"text-align: right;\">\n",
       "      <th></th>\n",
       "      <th>0</th>\n",
       "      <th>1</th>\n",
       "      <th>2</th>\n",
       "      <th>3</th>\n",
       "      <th>4</th>\n",
       "      <th>5</th>\n",
       "      <th>6</th>\n",
       "      <th>7</th>\n",
       "      <th>8</th>\n",
       "    </tr>\n",
       "    <tr>\n",
       "      <th>business_id</th>\n",
       "      <th></th>\n",
       "      <th></th>\n",
       "      <th></th>\n",
       "      <th></th>\n",
       "      <th></th>\n",
       "      <th></th>\n",
       "      <th></th>\n",
       "      <th></th>\n",
       "      <th></th>\n",
       "    </tr>\n",
       "  </thead>\n",
       "  <tbody>\n",
       "    <tr>\n",
       "      <th>003sg</th>\n",
       "      <td>0</td>\n",
       "      <td>1</td>\n",
       "      <td>1</td>\n",
       "      <td>1</td>\n",
       "      <td>0</td>\n",
       "      <td>1</td>\n",
       "      <td>1</td>\n",
       "      <td>0</td>\n",
       "      <td>1</td>\n",
       "    </tr>\n",
       "    <tr>\n",
       "      <th>00er5</th>\n",
       "      <td>0</td>\n",
       "      <td>1</td>\n",
       "      <td>1</td>\n",
       "      <td>1</td>\n",
       "      <td>0</td>\n",
       "      <td>1</td>\n",
       "      <td>1</td>\n",
       "      <td>0</td>\n",
       "      <td>1</td>\n",
       "    </tr>\n",
       "    <tr>\n",
       "      <th>00kad</th>\n",
       "      <td>0</td>\n",
       "      <td>1</td>\n",
       "      <td>1</td>\n",
       "      <td>0</td>\n",
       "      <td>0</td>\n",
       "      <td>1</td>\n",
       "      <td>1</td>\n",
       "      <td>0</td>\n",
       "      <td>1</td>\n",
       "    </tr>\n",
       "  </tbody>\n",
       "</table>\n",
       "</div>"
      ],
      "text/plain": [
       "             0  1  2  3  4  5  6  7  8\n",
       "business_id                           \n",
       "003sg        0  1  1  1  0  1  1  0  1\n",
       "00er5        0  1  1  1  0  1  1  0  1\n",
       "00kad        0  1  1  0  0  1  1  0  1"
      ]
     },
     "execution_count": 40,
     "metadata": {},
     "output_type": "execute_result"
    }
   ],
   "source": [
    "# make prediction based on averaged probability\n",
    "mean_pred = mean_prob.round()\n",
    "mean_pred[:3]"
   ]
  },
  {
   "cell_type": "code",
   "execution_count": 41,
   "metadata": {
    "collapsed": false
   },
   "outputs": [],
   "source": [
    "mean_pred.to_csv(r'/Yelp/deep_logistic_result/mean_pred.csv',float_format='%d')"
   ]
  },
  {
   "cell_type": "code",
   "execution_count": 42,
   "metadata": {
    "collapsed": false
   },
   "outputs": [
    {
     "data": {
      "text/html": [
       "<div>\n",
       "<table border=\"1\" class=\"dataframe\">\n",
       "  <thead>\n",
       "    <tr style=\"text-align: right;\">\n",
       "      <th></th>\n",
       "      <th>0</th>\n",
       "      <th>1</th>\n",
       "      <th>2</th>\n",
       "      <th>3</th>\n",
       "      <th>4</th>\n",
       "      <th>5</th>\n",
       "      <th>6</th>\n",
       "      <th>7</th>\n",
       "      <th>8</th>\n",
       "    </tr>\n",
       "    <tr>\n",
       "      <th>business_id</th>\n",
       "      <th></th>\n",
       "      <th></th>\n",
       "      <th></th>\n",
       "      <th></th>\n",
       "      <th></th>\n",
       "      <th></th>\n",
       "      <th></th>\n",
       "      <th></th>\n",
       "      <th></th>\n",
       "    </tr>\n",
       "  </thead>\n",
       "  <tbody>\n",
       "    <tr>\n",
       "      <th>003sg</th>\n",
       "      <td>0.868324</td>\n",
       "      <td>0.995414</td>\n",
       "      <td>0.997553</td>\n",
       "      <td>0.886170</td>\n",
       "      <td>0.979756</td>\n",
       "      <td>0.999827</td>\n",
       "      <td>0.999522</td>\n",
       "      <td>0.919687</td>\n",
       "      <td>0.972309</td>\n",
       "    </tr>\n",
       "    <tr>\n",
       "      <th>00er5</th>\n",
       "      <td>0.772381</td>\n",
       "      <td>0.982432</td>\n",
       "      <td>0.991015</td>\n",
       "      <td>0.925846</td>\n",
       "      <td>0.961846</td>\n",
       "      <td>0.997650</td>\n",
       "      <td>0.998591</td>\n",
       "      <td>0.892391</td>\n",
       "      <td>0.987068</td>\n",
       "    </tr>\n",
       "    <tr>\n",
       "      <th>00kad</th>\n",
       "      <td>0.829464</td>\n",
       "      <td>0.967085</td>\n",
       "      <td>0.971796</td>\n",
       "      <td>0.897030</td>\n",
       "      <td>0.937014</td>\n",
       "      <td>0.994925</td>\n",
       "      <td>0.994631</td>\n",
       "      <td>0.862890</td>\n",
       "      <td>0.990153</td>\n",
       "    </tr>\n",
       "  </tbody>\n",
       "</table>\n",
       "</div>"
      ],
      "text/plain": [
       "                    0         1         2         3         4         5  \\\n",
       "business_id                                                               \n",
       "003sg        0.868324  0.995414  0.997553  0.886170  0.979756  0.999827   \n",
       "00er5        0.772381  0.982432  0.991015  0.925846  0.961846  0.997650   \n",
       "00kad        0.829464  0.967085  0.971796  0.897030  0.937014  0.994925   \n",
       "\n",
       "                    6         7         8  \n",
       "business_id                                \n",
       "003sg        0.999522  0.919687  0.972309  \n",
       "00er5        0.998591  0.892391  0.987068  \n",
       "00kad        0.994631  0.862890  0.990153  "
      ]
     },
     "execution_count": 42,
     "metadata": {},
     "output_type": "execute_result"
    }
   ],
   "source": [
    "# take max prediction probability for each restaurant\n",
    "max_prob=df.groupby(['business_id'])[np.arange(9).astype(np.str)].max()\n",
    "max_prob[:3]"
   ]
  },
  {
   "cell_type": "code",
   "execution_count": 43,
   "metadata": {
    "collapsed": false
   },
   "outputs": [
    {
     "data": {
      "text/html": [
       "<div>\n",
       "<table border=\"1\" class=\"dataframe\">\n",
       "  <thead>\n",
       "    <tr style=\"text-align: right;\">\n",
       "      <th></th>\n",
       "      <th>0</th>\n",
       "      <th>1</th>\n",
       "      <th>2</th>\n",
       "      <th>3</th>\n",
       "      <th>4</th>\n",
       "      <th>5</th>\n",
       "      <th>6</th>\n",
       "      <th>7</th>\n",
       "      <th>8</th>\n",
       "    </tr>\n",
       "    <tr>\n",
       "      <th>business_id</th>\n",
       "      <th></th>\n",
       "      <th></th>\n",
       "      <th></th>\n",
       "      <th></th>\n",
       "      <th></th>\n",
       "      <th></th>\n",
       "      <th></th>\n",
       "      <th></th>\n",
       "      <th></th>\n",
       "    </tr>\n",
       "  </thead>\n",
       "  <tbody>\n",
       "    <tr>\n",
       "      <th>003sg</th>\n",
       "      <td>1</td>\n",
       "      <td>1</td>\n",
       "      <td>1</td>\n",
       "      <td>1</td>\n",
       "      <td>1</td>\n",
       "      <td>1</td>\n",
       "      <td>1</td>\n",
       "      <td>1</td>\n",
       "      <td>1</td>\n",
       "    </tr>\n",
       "    <tr>\n",
       "      <th>00er5</th>\n",
       "      <td>1</td>\n",
       "      <td>1</td>\n",
       "      <td>1</td>\n",
       "      <td>1</td>\n",
       "      <td>1</td>\n",
       "      <td>1</td>\n",
       "      <td>1</td>\n",
       "      <td>1</td>\n",
       "      <td>1</td>\n",
       "    </tr>\n",
       "    <tr>\n",
       "      <th>00kad</th>\n",
       "      <td>1</td>\n",
       "      <td>1</td>\n",
       "      <td>1</td>\n",
       "      <td>1</td>\n",
       "      <td>1</td>\n",
       "      <td>1</td>\n",
       "      <td>1</td>\n",
       "      <td>1</td>\n",
       "      <td>1</td>\n",
       "    </tr>\n",
       "  </tbody>\n",
       "</table>\n",
       "</div>"
      ],
      "text/plain": [
       "             0  1  2  3  4  5  6  7  8\n",
       "business_id                           \n",
       "003sg        1  1  1  1  1  1  1  1  1\n",
       "00er5        1  1  1  1  1  1  1  1  1\n",
       "00kad        1  1  1  1  1  1  1  1  1"
      ]
     },
     "execution_count": 43,
     "metadata": {},
     "output_type": "execute_result"
    }
   ],
   "source": [
    "max_pred = max_prob.round()\n",
    "max_pred[:3]"
   ]
  },
  {
   "cell_type": "code",
   "execution_count": 44,
   "metadata": {
    "collapsed": true
   },
   "outputs": [],
   "source": [
    "max_pred.to_csv(r'/Yelp/deep_logistic_result/max_pred.csv',float_format='%d')"
   ]
  },
  {
   "cell_type": "code",
   "execution_count": 45,
   "metadata": {
    "collapsed": true
   },
   "outputs": [],
   "source": [
    "mix_pred = mean_pred.copy()"
   ]
  },
  {
   "cell_type": "code",
   "execution_count": 58,
   "metadata": {
    "collapsed": false
   },
   "outputs": [],
   "source": [
    "# use max probabilty for label 3 and 7 instead of average\n",
    "mix_pred['3'] = max_pred['3']\n",
    "mix_pred['7'] = max_pred['7']"
   ]
  },
  {
   "cell_type": "code",
   "execution_count": 47,
   "metadata": {
    "collapsed": true
   },
   "outputs": [],
   "source": [
    "mix_pred.to_csv(r'/Yelp/deep_logistic_result/mix_pred.csv',float_format='%d')"
   ]
  },
  {
   "cell_type": "code",
   "execution_count": 48,
   "metadata": {
    "collapsed": false
   },
   "outputs": [
    {
     "data": {
      "text/html": [
       "<div>\n",
       "<table border=\"1\" class=\"dataframe\">\n",
       "  <thead>\n",
       "    <tr style=\"text-align: right;\">\n",
       "      <th></th>\n",
       "      <th>0</th>\n",
       "      <th>1</th>\n",
       "      <th>2</th>\n",
       "      <th>3</th>\n",
       "      <th>4</th>\n",
       "      <th>5</th>\n",
       "      <th>6</th>\n",
       "      <th>7</th>\n",
       "      <th>8</th>\n",
       "    </tr>\n",
       "    <tr>\n",
       "      <th>business_id</th>\n",
       "      <th></th>\n",
       "      <th></th>\n",
       "      <th></th>\n",
       "      <th></th>\n",
       "      <th></th>\n",
       "      <th></th>\n",
       "      <th></th>\n",
       "      <th></th>\n",
       "      <th></th>\n",
       "    </tr>\n",
       "  </thead>\n",
       "  <tbody>\n",
       "    <tr>\n",
       "      <th>003sg</th>\n",
       "      <td>0</td>\n",
       "      <td>1</td>\n",
       "      <td>1</td>\n",
       "      <td>1</td>\n",
       "      <td>0</td>\n",
       "      <td>1</td>\n",
       "      <td>1</td>\n",
       "      <td>0</td>\n",
       "      <td>1</td>\n",
       "    </tr>\n",
       "    <tr>\n",
       "      <th>00er5</th>\n",
       "      <td>0</td>\n",
       "      <td>1</td>\n",
       "      <td>1</td>\n",
       "      <td>1</td>\n",
       "      <td>0</td>\n",
       "      <td>1</td>\n",
       "      <td>1</td>\n",
       "      <td>0</td>\n",
       "      <td>1</td>\n",
       "    </tr>\n",
       "    <tr>\n",
       "      <th>00kad</th>\n",
       "      <td>0</td>\n",
       "      <td>1</td>\n",
       "      <td>1</td>\n",
       "      <td>1</td>\n",
       "      <td>0</td>\n",
       "      <td>1</td>\n",
       "      <td>1</td>\n",
       "      <td>0</td>\n",
       "      <td>1</td>\n",
       "    </tr>\n",
       "  </tbody>\n",
       "</table>\n",
       "</div>"
      ],
      "text/plain": [
       "             0  1  2  3  4  5  6  7  8\n",
       "business_id                           \n",
       "003sg        0  1  1  1  0  1  1  0  1\n",
       "00er5        0  1  1  1  0  1  1  0  1\n",
       "00kad        0  1  1  1  0  1  1  0  1"
      ]
     },
     "execution_count": 48,
     "metadata": {},
     "output_type": "execute_result"
    }
   ],
   "source": [
    "mix_pred[:3]"
   ]
  },
  {
   "cell_type": "code",
   "execution_count": 60,
   "metadata": {
    "collapsed": false
   },
   "outputs": [
    {
     "data": {
      "text/plain": [
       "9760"
      ]
     },
     "execution_count": 60,
     "metadata": {},
     "output_type": "execute_result"
    }
   ],
   "source": [
    "# sum(mix_pred['7']==1)\n",
    "# sum(mean_pred['7']==1)"
   ]
  },
  {
   "cell_type": "code",
   "execution_count": 50,
   "metadata": {
    "collapsed": false
   },
   "outputs": [],
   "source": [
    "with open(r'/Yelp/deep_logistic_result/mean_submission.csv','w') as fw:\n",
    "    fw.write('business_id,labels\\n')\n",
    "    for ind in mean_pred.index:\n",
    "        pred = list(mean_pred.loc[ind,:].astype(int))\n",
    "        label = [str(i) for i in range(9) if pred[i]!=0]\n",
    "        line = ind+','+' '.join(label)+'\\n'\n",
    "        fw.write(line)"
   ]
  },
  {
   "cell_type": "code",
   "execution_count": 59,
   "metadata": {
    "collapsed": true
   },
   "outputs": [],
   "source": [
    "with open(r'/Yelp/deep_logistic_result/mix_submission.csv','w') as fw:\n",
    "    fw.write('business_id,labels\\n')\n",
    "    for ind in mix_pred.index:\n",
    "        pred = list(mean_pred.loc[ind,:].astype(int))\n",
    "        label = [str(i) for i in range(9) if pred[i]!=0]\n",
    "        line = ind+','+' '.join(label)+'\\n'\n",
    "        fw.write(line)"
   ]
  }
 ],
 "metadata": {
  "kernelspec": {
   "display_name": "Python 2",
   "language": "python",
   "name": "python2"
  },
  "language_info": {
   "codemirror_mode": {
    "name": "ipython",
    "version": 2
   },
   "file_extension": ".py",
   "mimetype": "text/x-python",
   "name": "python",
   "nbconvert_exporter": "python",
   "pygments_lexer": "ipython2",
   "version": "2.7.10"
  }
 },
 "nbformat": 4,
 "nbformat_minor": 0
}
