{
 "cells": [
  {
   "cell_type": "markdown",
   "metadata": {},
   "source": [
    "Aggregate image level probability to restaurants and show score"
   ]
  },
  {
   "cell_type": "code",
   "execution_count": 1355,
   "metadata": {
    "collapsed": true
   },
   "outputs": [],
   "source": [
    "directory = '/result/cnn.csv'\n",
    "bus_dir  = '/pic_label_subbybus_test.csv'\n",
    "feature2 = '/result/colorf2log.csv'"
   ]
  },
  {
   "cell_type": "code",
   "execution_count": 1356,
   "metadata": {
    "collapsed": true
   },
   "outputs": [],
   "source": [
    "import pandas as pd\n",
    "import numpy as np"
   ]
  },
  {
   "cell_type": "code",
   "execution_count": 1357,
   "metadata": {
    "collapsed": false
   },
   "outputs": [],
   "source": [
    "bus_info = pd.read_csv(bus_dir, header = 0)\n",
    "prob = pd.read_csv(directory, header = 0)\n",
    "prob.columns = ['photo_id', 'label0', 'label1', 'label2', 'label3', \n",
    "                'label4', 'label5', 'label6', 'label7', 'label8']\n",
    "prob2 = pd.read_csv(feature2, header = 0)\n",
    "prob2.columns = ['photo_id', 'label2_0', 'label2_1', 'label2_2', \n",
    "                 'label2_3', 'label2_4', 'label2_5', 'label2_6', 'label2_7', 'label2_8']\n"
   ]
  },
  {
   "cell_type": "code",
   "execution_count": 1193,
   "metadata": {
    "collapsed": true
   },
   "outputs": [],
   "source": [
    "######feature combine#####"
   ]
  },
  {
   "cell_type": "code",
   "execution_count": 1194,
   "metadata": {
    "collapsed": true
   },
   "outputs": [],
   "source": [
    "proball = pd.merge(prob, prob2, on = 'photo_id', how = 'left')"
   ]
  },
  {
   "cell_type": "code",
   "execution_count": 1040,
   "metadata": {
    "collapsed": false
   },
   "outputs": [],
   "source": [
    "proball['label0'] = 0.5*proball['label0'] + 0.5*proball['label2_0']\n",
    "proball['label1'] = 0.5*proball['label1'] + 0.5*proball['label2_1']\n",
    "proball['label2'] = 0.5*proball['label2'] + 0.5*proball['label2_2']\n",
    "proball['label3'] = 0.5*proball['label3'] + 0.5*proball['label2_3']\n",
    "proball['label4'] = 0.5*proball['label4'] + 0.5*proball['label2_4']\n",
    "proball['label5'] = 0.5*proball['label5'] + 0.5*proball['label2_5']\n",
    "proball['label6'] = 0.5*proball['label6'] + 0.5*proball['label2_6']\n",
    "proball['label7'] = 0.5*proball['label7'] + 0.5*proball['label2_7']\n",
    "proball['label8'] = 0.5*proball['label8'] + 0.5*proball['label2_8']"
   ]
  },
  {
   "cell_type": "code",
   "execution_count": 1041,
   "metadata": {
    "collapsed": false
   },
   "outputs": [],
   "source": [
    "prob = proball.loc[:, 'photo_id':'label8']"
   ]
  },
  {
   "cell_type": "code",
   "execution_count": 1013,
   "metadata": {
    "collapsed": true
   },
   "outputs": [],
   "source": [
    "#######################"
   ]
  },
  {
   "cell_type": "code",
   "execution_count": 1358,
   "metadata": {
    "collapsed": false
   },
   "outputs": [],
   "source": [
    "prob_only = prob.copy()\n",
    "prob_only = prob_only.loc[:, 'label0':'label8']\n",
    "prob_only[prob_only<0.5] = 0\n",
    "prob_only[prob_only>0.5] = 1"
   ]
  },
  {
   "cell_type": "code",
   "execution_count": 1359,
   "metadata": {
    "collapsed": false
   },
   "outputs": [],
   "source": [
    "sum_all = pd.DataFrame(prob['photo_id']).join(prob_only)"
   ]
  },
  {
   "cell_type": "code",
   "execution_count": 1360,
   "metadata": {
    "collapsed": false
   },
   "outputs": [
    {
     "data": {
      "text/html": [
       "<div>\n",
       "<table border=\"1\" class=\"dataframe\">\n",
       "  <thead>\n",
       "    <tr style=\"text-align: right;\">\n",
       "      <th></th>\n",
       "      <th>photo_id</th>\n",
       "      <th>label0</th>\n",
       "      <th>label1</th>\n",
       "      <th>label2</th>\n",
       "      <th>label3</th>\n",
       "      <th>label4</th>\n",
       "      <th>label5</th>\n",
       "      <th>label6</th>\n",
       "      <th>label7</th>\n",
       "      <th>label8</th>\n",
       "    </tr>\n",
       "  </thead>\n",
       "  <tbody>\n",
       "    <tr>\n",
       "      <th>0</th>\n",
       "      <td>80</td>\n",
       "      <td>0</td>\n",
       "      <td>0</td>\n",
       "      <td>0</td>\n",
       "      <td>0</td>\n",
       "      <td>0</td>\n",
       "      <td>0</td>\n",
       "      <td>0</td>\n",
       "      <td>0</td>\n",
       "      <td>0</td>\n",
       "    </tr>\n",
       "    <tr>\n",
       "      <th>1</th>\n",
       "      <td>95</td>\n",
       "      <td>0</td>\n",
       "      <td>1</td>\n",
       "      <td>1</td>\n",
       "      <td>0</td>\n",
       "      <td>0</td>\n",
       "      <td>1</td>\n",
       "      <td>1</td>\n",
       "      <td>0</td>\n",
       "      <td>1</td>\n",
       "    </tr>\n",
       "    <tr>\n",
       "      <th>2</th>\n",
       "      <td>130</td>\n",
       "      <td>0</td>\n",
       "      <td>1</td>\n",
       "      <td>1</td>\n",
       "      <td>0</td>\n",
       "      <td>0</td>\n",
       "      <td>1</td>\n",
       "      <td>1</td>\n",
       "      <td>0</td>\n",
       "      <td>1</td>\n",
       "    </tr>\n",
       "    <tr>\n",
       "      <th>3</th>\n",
       "      <td>143</td>\n",
       "      <td>0</td>\n",
       "      <td>1</td>\n",
       "      <td>1</td>\n",
       "      <td>0</td>\n",
       "      <td>0</td>\n",
       "      <td>1</td>\n",
       "      <td>1</td>\n",
       "      <td>0</td>\n",
       "      <td>1</td>\n",
       "    </tr>\n",
       "    <tr>\n",
       "      <th>4</th>\n",
       "      <td>296</td>\n",
       "      <td>0</td>\n",
       "      <td>1</td>\n",
       "      <td>1</td>\n",
       "      <td>0</td>\n",
       "      <td>0</td>\n",
       "      <td>1</td>\n",
       "      <td>1</td>\n",
       "      <td>0</td>\n",
       "      <td>1</td>\n",
       "    </tr>\n",
       "  </tbody>\n",
       "</table>\n",
       "</div>"
      ],
      "text/plain": [
       "   photo_id  label0  label1  label2  label3  label4  label5  label6  label7  \\\n",
       "0        80       0       0       0       0       0       0       0       0   \n",
       "1        95       0       1       1       0       0       1       1       0   \n",
       "2       130       0       1       1       0       0       1       1       0   \n",
       "3       143       0       1       1       0       0       1       1       0   \n",
       "4       296       0       1       1       0       0       1       1       0   \n",
       "\n",
       "   label8  \n",
       "0       0  \n",
       "1       1  \n",
       "2       1  \n",
       "3       1  \n",
       "4       1  "
      ]
     },
     "execution_count": 1360,
     "metadata": {},
     "output_type": "execute_result"
    }
   ],
   "source": [
    "sum_all[0:5]"
   ]
  },
  {
   "cell_type": "code",
   "execution_count": 1361,
   "metadata": {
    "collapsed": false
   },
   "outputs": [],
   "source": [
    "mergeall = pd.merge(prob,bus_info,on='photo_id', how='left')\n",
    "mergeall[['photo_id']] =1\n",
    "merge_sum = pd.merge(sum_all,bus_info,on='photo_id', how='left')"
   ]
  },
  {
   "cell_type": "code",
   "execution_count": 1362,
   "metadata": {
    "collapsed": false
   },
   "outputs": [
    {
     "data": {
      "text/html": [
       "<div>\n",
       "<table border=\"1\" class=\"dataframe\">\n",
       "  <thead>\n",
       "    <tr style=\"text-align: right;\">\n",
       "      <th></th>\n",
       "      <th>photo_id</th>\n",
       "      <th>label0</th>\n",
       "      <th>label1</th>\n",
       "      <th>label2</th>\n",
       "      <th>label3</th>\n",
       "      <th>label4</th>\n",
       "      <th>label5</th>\n",
       "      <th>label6</th>\n",
       "      <th>label7</th>\n",
       "      <th>label8</th>\n",
       "      <th>business_id</th>\n",
       "      <th>label_0</th>\n",
       "      <th>label_1</th>\n",
       "      <th>label_2</th>\n",
       "      <th>label_3</th>\n",
       "      <th>label_4</th>\n",
       "      <th>label_5</th>\n",
       "      <th>label_6</th>\n",
       "      <th>label_7</th>\n",
       "      <th>label_8</th>\n",
       "    </tr>\n",
       "  </thead>\n",
       "  <tbody>\n",
       "    <tr>\n",
       "      <th>0</th>\n",
       "      <td>1</td>\n",
       "      <td>0</td>\n",
       "      <td>0</td>\n",
       "      <td>0</td>\n",
       "      <td>0</td>\n",
       "      <td>0</td>\n",
       "      <td>0</td>\n",
       "      <td>0</td>\n",
       "      <td>0</td>\n",
       "      <td>0</td>\n",
       "      <td>1114</td>\n",
       "      <td>0</td>\n",
       "      <td>1</td>\n",
       "      <td>1</td>\n",
       "      <td>0</td>\n",
       "      <td>1</td>\n",
       "      <td>1</td>\n",
       "      <td>1</td>\n",
       "      <td>1</td>\n",
       "      <td>0</td>\n",
       "    </tr>\n",
       "    <tr>\n",
       "      <th>1</th>\n",
       "      <td>1</td>\n",
       "      <td>0</td>\n",
       "      <td>1</td>\n",
       "      <td>1</td>\n",
       "      <td>0</td>\n",
       "      <td>0</td>\n",
       "      <td>1</td>\n",
       "      <td>1</td>\n",
       "      <td>0</td>\n",
       "      <td>1</td>\n",
       "      <td>3065</td>\n",
       "      <td>0</td>\n",
       "      <td>1</td>\n",
       "      <td>1</td>\n",
       "      <td>0</td>\n",
       "      <td>1</td>\n",
       "      <td>1</td>\n",
       "      <td>1</td>\n",
       "      <td>1</td>\n",
       "      <td>0</td>\n",
       "    </tr>\n",
       "    <tr>\n",
       "      <th>2</th>\n",
       "      <td>1</td>\n",
       "      <td>0</td>\n",
       "      <td>1</td>\n",
       "      <td>1</td>\n",
       "      <td>0</td>\n",
       "      <td>0</td>\n",
       "      <td>1</td>\n",
       "      <td>1</td>\n",
       "      <td>0</td>\n",
       "      <td>1</td>\n",
       "      <td>2687</td>\n",
       "      <td>0</td>\n",
       "      <td>1</td>\n",
       "      <td>1</td>\n",
       "      <td>0</td>\n",
       "      <td>0</td>\n",
       "      <td>1</td>\n",
       "      <td>1</td>\n",
       "      <td>1</td>\n",
       "      <td>0</td>\n",
       "    </tr>\n",
       "    <tr>\n",
       "      <th>3</th>\n",
       "      <td>1</td>\n",
       "      <td>0</td>\n",
       "      <td>1</td>\n",
       "      <td>1</td>\n",
       "      <td>0</td>\n",
       "      <td>0</td>\n",
       "      <td>1</td>\n",
       "      <td>1</td>\n",
       "      <td>0</td>\n",
       "      <td>1</td>\n",
       "      <td>3979</td>\n",
       "      <td>0</td>\n",
       "      <td>1</td>\n",
       "      <td>1</td>\n",
       "      <td>1</td>\n",
       "      <td>0</td>\n",
       "      <td>1</td>\n",
       "      <td>1</td>\n",
       "      <td>1</td>\n",
       "      <td>0</td>\n",
       "    </tr>\n",
       "    <tr>\n",
       "      <th>4</th>\n",
       "      <td>1</td>\n",
       "      <td>0</td>\n",
       "      <td>1</td>\n",
       "      <td>1</td>\n",
       "      <td>0</td>\n",
       "      <td>0</td>\n",
       "      <td>1</td>\n",
       "      <td>1</td>\n",
       "      <td>0</td>\n",
       "      <td>1</td>\n",
       "      <td>1114</td>\n",
       "      <td>0</td>\n",
       "      <td>1</td>\n",
       "      <td>1</td>\n",
       "      <td>0</td>\n",
       "      <td>1</td>\n",
       "      <td>1</td>\n",
       "      <td>1</td>\n",
       "      <td>1</td>\n",
       "      <td>0</td>\n",
       "    </tr>\n",
       "    <tr>\n",
       "      <th>5</th>\n",
       "      <td>1</td>\n",
       "      <td>0</td>\n",
       "      <td>1</td>\n",
       "      <td>1</td>\n",
       "      <td>0</td>\n",
       "      <td>0</td>\n",
       "      <td>1</td>\n",
       "      <td>1</td>\n",
       "      <td>0</td>\n",
       "      <td>1</td>\n",
       "      <td>1160</td>\n",
       "      <td>1</td>\n",
       "      <td>1</td>\n",
       "      <td>1</td>\n",
       "      <td>0</td>\n",
       "      <td>0</td>\n",
       "      <td>1</td>\n",
       "      <td>1</td>\n",
       "      <td>0</td>\n",
       "      <td>1</td>\n",
       "    </tr>\n",
       "    <tr>\n",
       "      <th>6</th>\n",
       "      <td>1</td>\n",
       "      <td>0</td>\n",
       "      <td>1</td>\n",
       "      <td>1</td>\n",
       "      <td>0</td>\n",
       "      <td>0</td>\n",
       "      <td>1</td>\n",
       "      <td>1</td>\n",
       "      <td>0</td>\n",
       "      <td>1</td>\n",
       "      <td>1931</td>\n",
       "      <td>0</td>\n",
       "      <td>0</td>\n",
       "      <td>1</td>\n",
       "      <td>0</td>\n",
       "      <td>0</td>\n",
       "      <td>0</td>\n",
       "      <td>1</td>\n",
       "      <td>0</td>\n",
       "      <td>0</td>\n",
       "    </tr>\n",
       "    <tr>\n",
       "      <th>7</th>\n",
       "      <td>1</td>\n",
       "      <td>0</td>\n",
       "      <td>1</td>\n",
       "      <td>1</td>\n",
       "      <td>0</td>\n",
       "      <td>0</td>\n",
       "      <td>1</td>\n",
       "      <td>1</td>\n",
       "      <td>0</td>\n",
       "      <td>1</td>\n",
       "      <td>2688</td>\n",
       "      <td>0</td>\n",
       "      <td>1</td>\n",
       "      <td>1</td>\n",
       "      <td>1</td>\n",
       "      <td>0</td>\n",
       "      <td>1</td>\n",
       "      <td>1</td>\n",
       "      <td>1</td>\n",
       "      <td>0</td>\n",
       "    </tr>\n",
       "    <tr>\n",
       "      <th>8</th>\n",
       "      <td>1</td>\n",
       "      <td>0</td>\n",
       "      <td>1</td>\n",
       "      <td>1</td>\n",
       "      <td>0</td>\n",
       "      <td>0</td>\n",
       "      <td>1</td>\n",
       "      <td>1</td>\n",
       "      <td>0</td>\n",
       "      <td>1</td>\n",
       "      <td>1114</td>\n",
       "      <td>0</td>\n",
       "      <td>1</td>\n",
       "      <td>1</td>\n",
       "      <td>0</td>\n",
       "      <td>1</td>\n",
       "      <td>1</td>\n",
       "      <td>1</td>\n",
       "      <td>1</td>\n",
       "      <td>0</td>\n",
       "    </tr>\n",
       "    <tr>\n",
       "      <th>9</th>\n",
       "      <td>1</td>\n",
       "      <td>0</td>\n",
       "      <td>1</td>\n",
       "      <td>1</td>\n",
       "      <td>0</td>\n",
       "      <td>0</td>\n",
       "      <td>1</td>\n",
       "      <td>1</td>\n",
       "      <td>0</td>\n",
       "      <td>1</td>\n",
       "      <td>2315</td>\n",
       "      <td>0</td>\n",
       "      <td>1</td>\n",
       "      <td>1</td>\n",
       "      <td>1</td>\n",
       "      <td>1</td>\n",
       "      <td>1</td>\n",
       "      <td>1</td>\n",
       "      <td>1</td>\n",
       "      <td>0</td>\n",
       "    </tr>\n",
       "  </tbody>\n",
       "</table>\n",
       "</div>"
      ],
      "text/plain": [
       "   photo_id  label0  label1  label2  label3  label4  label5  label6  label7  \\\n",
       "0         1       0       0       0       0       0       0       0       0   \n",
       "1         1       0       1       1       0       0       1       1       0   \n",
       "2         1       0       1       1       0       0       1       1       0   \n",
       "3         1       0       1       1       0       0       1       1       0   \n",
       "4         1       0       1       1       0       0       1       1       0   \n",
       "5         1       0       1       1       0       0       1       1       0   \n",
       "6         1       0       1       1       0       0       1       1       0   \n",
       "7         1       0       1       1       0       0       1       1       0   \n",
       "8         1       0       1       1       0       0       1       1       0   \n",
       "9         1       0       1       1       0       0       1       1       0   \n",
       "\n",
       "   label8  business_id  label_0  label_1  label_2  label_3  label_4  label_5  \\\n",
       "0       0         1114        0        1        1        0        1        1   \n",
       "1       1         3065        0        1        1        0        1        1   \n",
       "2       1         2687        0        1        1        0        0        1   \n",
       "3       1         3979        0        1        1        1        0        1   \n",
       "4       1         1114        0        1        1        0        1        1   \n",
       "5       1         1160        1        1        1        0        0        1   \n",
       "6       1         1931        0        0        1        0        0        0   \n",
       "7       1         2688        0        1        1        1        0        1   \n",
       "8       1         1114        0        1        1        0        1        1   \n",
       "9       1         2315        0        1        1        1        1        1   \n",
       "\n",
       "   label_6  label_7  label_8  \n",
       "0        1        1        0  \n",
       "1        1        1        0  \n",
       "2        1        1        0  \n",
       "3        1        1        0  \n",
       "4        1        1        0  \n",
       "5        1        0        1  \n",
       "6        1        0        0  \n",
       "7        1        1        0  \n",
       "8        1        1        0  \n",
       "9        1        1        0  "
      ]
     },
     "execution_count": 1362,
     "metadata": {},
     "output_type": "execute_result"
    }
   ],
   "source": [
    "mergeall[0:10]"
   ]
  },
  {
   "cell_type": "code",
   "execution_count": 1324,
   "metadata": {
    "collapsed": true
   },
   "outputs": [],
   "source": [
    "####test theshold by individual "
   ]
  },
  {
   "cell_type": "code",
   "execution_count": 1325,
   "metadata": {
    "collapsed": false
   },
   "outputs": [],
   "source": [
    "#mergeall['label0']"
   ]
  },
  {
   "cell_type": "code",
   "execution_count": null,
   "metadata": {
    "collapsed": true
   },
   "outputs": [],
   "source": []
  },
  {
   "cell_type": "code",
   "execution_count": 1363,
   "metadata": {
    "collapsed": false
   },
   "outputs": [],
   "source": [
    "get_average= mergeall.groupby(['business_id']).mean().reset_index()\n",
    "get_sum= merge_sum.groupby(['business_id']).sum().reset_index()"
   ]
  },
  {
   "cell_type": "code",
   "execution_count": 1327,
   "metadata": {
    "collapsed": false
   },
   "outputs": [],
   "source": [
    "# print get_sum[0:5]\n",
    "# print get_average[0:5]"
   ]
  },
  {
   "cell_type": "code",
   "execution_count": 1364,
   "metadata": {
    "collapsed": false
   },
   "outputs": [],
   "source": [
    "# get_average['label0'][get_average['label0']<0.3] = 0 \n",
    "# get_average['label0'][get_average['label0']>0.3] = 1 \n",
    "# get_average['label3'][get_average['label3']<0.4] = 0 \n",
    "# get_average['label3'][get_average['label3']>0.4] = 1\n",
    "# get_average['label7'][get_average['label3']<0.6] = 0 \n",
    "# get_average['label7'][get_average['label3']>0.6] = 1\n",
    "get_average[get_average<0.5] = 0\n",
    "get_average[get_average>=0.5] = 1"
   ]
  },
  {
   "cell_type": "code",
   "execution_count": 1365,
   "metadata": {
    "collapsed": true
   },
   "outputs": [],
   "source": [
    "get_sum[get_sum>=1] = 1\n",
    "get_sum[get_sum<1] = 0"
   ]
  },
  {
   "cell_type": "code",
   "execution_count": 1351,
   "metadata": {
    "collapsed": false
   },
   "outputs": [],
   "source": [
    "#get_average[0:5]"
   ]
  },
  {
   "cell_type": "code",
   "execution_count": 1366,
   "metadata": {
    "collapsed": true
   },
   "outputs": [],
   "source": [
    "from sklearn import metrics"
   ]
  },
  {
   "cell_type": "code",
   "execution_count": 1367,
   "metadata": {
    "collapsed": false
   },
   "outputs": [
    {
     "name": "stdout",
     "output_type": "stream",
     "text": [
      "0.636363636364 0.0\n",
      "0.565656565657 0.722580645161\n",
      "0.545454545455 0.705882352941\n",
      "0.515151515152 0.0\n",
      "0.686868686869 0.0\n",
      "0.676767676768 0.807228915663\n",
      "0.747474747475 0.85549132948\n",
      "0.616161616162 0.0\n",
      "0.575757575758 0.730769230769\n"
     ]
    }
   ],
   "source": [
    "for i in range(9):\n",
    "    pred_y = get_average['label%d'%i]\n",
    "    actual_y = get_average['label_%d'%i]\n",
    "    score =metrics.accuracy_score(pred_y,actual_y)\n",
    "    f0 = metrics.f1_score(pred_y,actual_y)\n",
    "    print score,f0"
   ]
  },
  {
   "cell_type": "code",
   "execution_count": 1368,
   "metadata": {
    "collapsed": false
   },
   "outputs": [
    {
     "name": "stdout",
     "output_type": "stream",
     "text": [
      "0.636363636364 0.0\n",
      "0.565656565657 0.722580645161\n",
      "0.545454545455 0.705882352941\n",
      "0.525252525253 0.0408163265306\n",
      "0.686868686869 0.0\n",
      "0.676767676768 0.807228915663\n",
      "0.747474747475 0.85549132948\n",
      "0.616161616162 0.0\n",
      "0.575757575758 0.730769230769\n"
     ]
    }
   ],
   "source": [
    "for i in range(9):\n",
    "    pred_y = get_sum['label%d'%i]\n",
    "    actual_y = get_sum['label_%d'%i]\n",
    "    score =metrics.accuracy_score(pred_y,actual_y)\n",
    "    f0 = metrics.f1_score(pred_y,actual_y)\n",
    "    print score,f0"
   ]
  },
  {
   "cell_type": "code",
   "execution_count": 1369,
   "metadata": {
    "collapsed": false
   },
   "outputs": [],
   "source": [
    "pred_y_avg = get_average.loc[:, 'label0':'label8']\n",
    "true_y_avg = get_average.loc[:, 'label_0':'label_8']\n",
    "pred_y_sum = get_sum.loc[:, 'label0':'label8']\n",
    "true_y_sum = get_sum.loc[:, 'label_0':'label_8']\n",
    "\n",
    "pred_y_avg['label3'] = pred_y_sum['label3']\n",
    "pred_y_avg['label0'] = pred_y_sum['label0']"
   ]
  },
  {
   "cell_type": "code",
   "execution_count": 1370,
   "metadata": {
    "collapsed": false
   },
   "outputs": [],
   "source": [
    "def mlb_f1(y_true, y_pred):\n",
    "    y_true = set(y_true)\n",
    "    y_pred = set(y_pred)\n",
    "    tp = len(y_true & y_pred)\n",
    "    #fp = len(y_pred-y_true)\n",
    "    #fn = len(y_true-y_pred)\n",
    "    fp = len(y_true-y_pred)\n",
    "    fn = len(y_pred-y_true)\n",
    "    if tp == 0 and fp == 0:\n",
    "        return 0.0\n",
    "    else:\n",
    "        p = float(tp)/(tp+fp)\n",
    "        r = float(tp)/(tp+fn)\n",
    "        return 2*p*r/(p+r) if tp!=0 else 0.\n",
    "def mean_f1(y_true, y_pred):\n",
    "    score_list = map(lambda x: mlb_f1(x[0],x[1]), zip(y_true, y_pred))\n",
    "    return sum(score_list)/len(score_list)"
   ]
  },
  {
   "cell_type": "code",
   "execution_count": 1371,
   "metadata": {
    "collapsed": false
   },
   "outputs": [
    {
     "name": "stdout",
     "output_type": "stream",
     "text": [
      "0.533333333333\n"
     ]
    }
   ],
   "source": [
    "y_true = [\n",
    "              [1, 2],\n",
    "              [3, 4, 5],\n",
    "              [6],\n",
    "              [7]]\n",
    "y_pred = [\n",
    "              [1, 2, 3, 9],\n",
    "              [3, 4],\n",
    "              [6, 12],\n",
    "              [1]\n",
    "    ]\n",
    "print mean_f1(y_true, y_pred)"
   ]
  },
  {
   "cell_type": "code",
   "execution_count": 1372,
   "metadata": {
    "collapsed": false
   },
   "outputs": [],
   "source": [
    "y_pred_avg = [[i for i in range(len(arr)) if arr[i]!=0] for arr in np.array(pred_y_avg)]\n",
    "y_true_avg = [[i for i in range(len(arr)) if arr[i]!=0] for arr in np.array(true_y_avg)]\n",
    "y_pred_sum = [[i for i in range(len(arr)) if arr[i]!=0] for arr in np.array(pred_y_sum)]\n",
    "y_true_sum = [[i for i in range(len(arr)) if arr[i]!=0] for arr in np.array(true_y_sum)]"
   ]
  },
  {
   "cell_type": "code",
   "execution_count": 1373,
   "metadata": {
    "collapsed": false,
    "scrolled": true
   },
   "outputs": [
    {
     "data": {
      "text/plain": [
       "0.6167369106763042"
      ]
     },
     "execution_count": 1373,
     "metadata": {},
     "output_type": "execute_result"
    }
   ],
   "source": [
    "mean_f1(y_true_avg, y_pred_avg)"
   ]
  },
  {
   "cell_type": "code",
   "execution_count": 1374,
   "metadata": {
    "collapsed": false
   },
   "outputs": [
    {
     "data": {
      "text/plain": [
       "0.6167369106763042"
      ]
     },
     "execution_count": 1374,
     "metadata": {},
     "output_type": "execute_result"
    }
   ],
   "source": [
    "mean_f1(y_true_sum, y_pred_sum)"
   ]
  },
  {
   "cell_type": "code",
   "execution_count": null,
   "metadata": {
    "collapsed": true
   },
   "outputs": [],
   "source": []
  },
  {
   "cell_type": "markdown",
   "metadata": {},
   "source": [
    "feature combine"
   ]
  },
  {
   "cell_type": "code",
   "execution_count": null,
   "metadata": {
    "collapsed": true
   },
   "outputs": [],
   "source": []
  }
 ],
 "metadata": {
  "kernelspec": {
   "display_name": "Python 2",
   "language": "python",
   "name": "python2"
  },
  "language_info": {
   "codemirror_mode": {
    "name": "ipython",
    "version": 2
   },
   "file_extension": ".py",
   "mimetype": "text/x-python",
   "name": "python",
   "nbconvert_exporter": "python",
   "pygments_lexer": "ipython2",
   "version": "2.7.10"
  }
 },
 "nbformat": 4,
 "nbformat_minor": 0
}
