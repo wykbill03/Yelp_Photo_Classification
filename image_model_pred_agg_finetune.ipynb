{
 "cells": [
  {
   "cell_type": "markdown",
   "metadata": {},
   "source": [
    "Aggregate fine-tuned model predictions"
   ]
  },
  {
   "cell_type": "code",
   "execution_count": 26,
   "metadata": {
    "collapsed": true
   },
   "outputs": [],
   "source": [
    "import pandas as pd\n",
    "import numpy as np"
   ]
  },
  {
   "cell_type": "code",
   "execution_count": 83,
   "metadata": {
    "collapsed": false
   },
   "outputs": [],
   "source": [
    "prefix=r'/prob_finetune_results/'"
   ]
  },
  {
   "cell_type": "code",
   "execution_count": 89,
   "metadata": {
    "collapsed": true
   },
   "outputs": [],
   "source": [
    "label=3\n",
    "file=prefix+\"prob_%d.csv\" % label"
   ]
  },
  {
   "cell_type": "code",
   "execution_count": 90,
   "metadata": {
    "collapsed": true
   },
   "outputs": [],
   "source": [
    "df=pd.read_csv(file)"
   ]
  },
  {
   "cell_type": "code",
   "execution_count": 84,
   "metadata": {
    "collapsed": true
   },
   "outputs": [],
   "source": [
    "# average or take the max of prediction of each restaurant for each label\n",
    "numlabel=9\n",
    "mean_prob_list=[0 for _ in range(numlabel)]\n",
    "max_prob_list=[0 for _ in range(numlabel)]\n",
    "for label in range(numlabel):\n",
    "    file=prefix+\"prob_%d.csv\" % label\n",
    "    df=pd.read_csv(file)\n",
    "    mean_prob_list[label]=df.groupby(['business_id'])['prob'].mean()\n",
    "    max_prob_list[label]=df.groupby(['business_id'])['prob'].max()"
   ]
  },
  {
   "cell_type": "code",
   "execution_count": 85,
   "metadata": {
    "collapsed": false
   },
   "outputs": [
    {
     "data": {
      "text/html": [
       "<div>\n",
       "<table border=\"1\" class=\"dataframe\">\n",
       "  <thead>\n",
       "    <tr style=\"text-align: right;\">\n",
       "      <th></th>\n",
       "      <th>0</th>\n",
       "      <th>1</th>\n",
       "      <th>2</th>\n",
       "      <th>3</th>\n",
       "      <th>4</th>\n",
       "      <th>5</th>\n",
       "      <th>6</th>\n",
       "      <th>7</th>\n",
       "      <th>8</th>\n",
       "    </tr>\n",
       "    <tr>\n",
       "      <th>business_id</th>\n",
       "      <th></th>\n",
       "      <th></th>\n",
       "      <th></th>\n",
       "      <th></th>\n",
       "      <th></th>\n",
       "      <th></th>\n",
       "      <th></th>\n",
       "      <th></th>\n",
       "      <th></th>\n",
       "    </tr>\n",
       "  </thead>\n",
       "  <tbody>\n",
       "    <tr>\n",
       "      <th>003sg</th>\n",
       "      <td>0.112358</td>\n",
       "      <td>0.689360</td>\n",
       "      <td>0.428090</td>\n",
       "      <td>0.698655</td>\n",
       "      <td>0.489160</td>\n",
       "      <td>0.666485</td>\n",
       "      <td>0.835466</td>\n",
       "      <td>0.432485</td>\n",
       "      <td>0.628762</td>\n",
       "    </tr>\n",
       "    <tr>\n",
       "      <th>00er5</th>\n",
       "      <td>0.100349</td>\n",
       "      <td>0.677469</td>\n",
       "      <td>0.417726</td>\n",
       "      <td>0.686965</td>\n",
       "      <td>0.454925</td>\n",
       "      <td>0.676673</td>\n",
       "      <td>0.845139</td>\n",
       "      <td>0.396486</td>\n",
       "      <td>0.658122</td>\n",
       "    </tr>\n",
       "    <tr>\n",
       "      <th>00kad</th>\n",
       "      <td>0.094811</td>\n",
       "      <td>0.661222</td>\n",
       "      <td>0.383829</td>\n",
       "      <td>0.701736</td>\n",
       "      <td>0.426829</td>\n",
       "      <td>0.648342</td>\n",
       "      <td>0.804306</td>\n",
       "      <td>0.391289</td>\n",
       "      <td>0.633757</td>\n",
       "    </tr>\n",
       "  </tbody>\n",
       "</table>\n",
       "</div>"
      ],
      "text/plain": [
       "                    0         1         2         3         4         5  \\\n",
       "business_id                                                               \n",
       "003sg        0.112358  0.689360  0.428090  0.698655  0.489160  0.666485   \n",
       "00er5        0.100349  0.677469  0.417726  0.686965  0.454925  0.676673   \n",
       "00kad        0.094811  0.661222  0.383829  0.701736  0.426829  0.648342   \n",
       "\n",
       "                    6         7         8  \n",
       "business_id                                \n",
       "003sg        0.835466  0.432485  0.628762  \n",
       "00er5        0.845139  0.396486  0.658122  \n",
       "00kad        0.804306  0.391289  0.633757  "
      ]
     },
     "execution_count": 85,
     "metadata": {},
     "output_type": "execute_result"
    }
   ],
   "source": [
    "mean_prob = pd.concat(mean_prob_list, axis=1)\n",
    "mean_prob.columns=np.arange(numlabel).astype(str)\n",
    "mean_prob[:3]"
   ]
  },
  {
   "cell_type": "code",
   "execution_count": 86,
   "metadata": {
    "collapsed": false
   },
   "outputs": [],
   "source": [
    "mean_pred = mean_prob.round()"
   ]
  },
  {
   "cell_type": "code",
   "execution_count": 44,
   "metadata": {
    "collapsed": false
   },
   "outputs": [],
   "source": [
    "mean_pred.to_csv(r'/prob_finetune_results/mean_pred.csv',float_format='%d')"
   ]
  },
  {
   "cell_type": "code",
   "execution_count": 46,
   "metadata": {
    "collapsed": false
   },
   "outputs": [
    {
     "data": {
      "text/html": [
       "<div>\n",
       "<table border=\"1\" class=\"dataframe\">\n",
       "  <thead>\n",
       "    <tr style=\"text-align: right;\">\n",
       "      <th></th>\n",
       "      <th>0</th>\n",
       "      <th>1</th>\n",
       "      <th>2</th>\n",
       "      <th>3</th>\n",
       "      <th>4</th>\n",
       "      <th>5</th>\n",
       "      <th>6</th>\n",
       "      <th>7</th>\n",
       "      <th>8</th>\n",
       "    </tr>\n",
       "    <tr>\n",
       "      <th>business_id</th>\n",
       "      <th></th>\n",
       "      <th></th>\n",
       "      <th></th>\n",
       "      <th></th>\n",
       "      <th></th>\n",
       "      <th></th>\n",
       "      <th></th>\n",
       "      <th></th>\n",
       "      <th></th>\n",
       "    </tr>\n",
       "  </thead>\n",
       "  <tbody>\n",
       "    <tr>\n",
       "      <th>003sg</th>\n",
       "      <td>0.861286</td>\n",
       "      <td>0.999123</td>\n",
       "      <td>0.996100</td>\n",
       "      <td>0.959985</td>\n",
       "      <td>0.994618</td>\n",
       "      <td>0.999845</td>\n",
       "      <td>0.999967</td>\n",
       "      <td>0.992614</td>\n",
       "      <td>0.996199</td>\n",
       "    </tr>\n",
       "    <tr>\n",
       "      <th>00er5</th>\n",
       "      <td>0.535428</td>\n",
       "      <td>0.996083</td>\n",
       "      <td>0.995542</td>\n",
       "      <td>0.960053</td>\n",
       "      <td>0.979293</td>\n",
       "      <td>0.993813</td>\n",
       "      <td>0.997574</td>\n",
       "      <td>0.989250</td>\n",
       "      <td>0.986816</td>\n",
       "    </tr>\n",
       "    <tr>\n",
       "      <th>00kad</th>\n",
       "      <td>0.401102</td>\n",
       "      <td>0.997474</td>\n",
       "      <td>0.992476</td>\n",
       "      <td>0.975356</td>\n",
       "      <td>0.986870</td>\n",
       "      <td>0.998778</td>\n",
       "      <td>0.993389</td>\n",
       "      <td>0.963597</td>\n",
       "      <td>0.986858</td>\n",
       "    </tr>\n",
       "  </tbody>\n",
       "</table>\n",
       "</div>"
      ],
      "text/plain": [
       "                    0         1         2         3         4         5  \\\n",
       "business_id                                                               \n",
       "003sg        0.861286  0.999123  0.996100  0.959985  0.994618  0.999845   \n",
       "00er5        0.535428  0.996083  0.995542  0.960053  0.979293  0.993813   \n",
       "00kad        0.401102  0.997474  0.992476  0.975356  0.986870  0.998778   \n",
       "\n",
       "                    6         7         8  \n",
       "business_id                                \n",
       "003sg        0.999967  0.992614  0.996199  \n",
       "00er5        0.997574  0.989250  0.986816  \n",
       "00kad        0.993389  0.963597  0.986858  "
      ]
     },
     "execution_count": 46,
     "metadata": {},
     "output_type": "execute_result"
    }
   ],
   "source": [
    "max_prob = pd.concat(max_prob_list, axis=1)\n",
    "max_prob.columns=np.arange(numlabel).astype(str)\n",
    "max_prob[:3]"
   ]
  },
  {
   "cell_type": "code",
   "execution_count": 47,
   "metadata": {
    "collapsed": true
   },
   "outputs": [],
   "source": [
    "max_pred = max_prob.round()"
   ]
  },
  {
   "cell_type": "code",
   "execution_count": 48,
   "metadata": {
    "collapsed": true
   },
   "outputs": [],
   "source": [
    "max_pred.to_csv(r'/prob_finetune_results/max_pred.csv',float_format='%d')"
   ]
  },
  {
   "cell_type": "code",
   "execution_count": 49,
   "metadata": {
    "collapsed": true
   },
   "outputs": [],
   "source": [
    "# mix the max and mean predictions\n",
    "mix_pred = mean_pred.copy()"
   ]
  },
  {
   "cell_type": "code",
   "execution_count": 51,
   "metadata": {
    "collapsed": false
   },
   "outputs": [],
   "source": [
    "mix_pred['3'] = max_pred['3']"
   ]
  },
  {
   "cell_type": "code",
   "execution_count": 52,
   "metadata": {
    "collapsed": true
   },
   "outputs": [],
   "source": [
    "mix_pred.to_csv(r'/prob_finetune_results/mix_pred.csv',float_format='%d')"
   ]
  },
  {
   "cell_type": "code",
   "execution_count": 87,
   "metadata": {
    "collapsed": false
   },
   "outputs": [
    {
     "data": {
      "text/html": [
       "<div>\n",
       "<table border=\"1\" class=\"dataframe\">\n",
       "  <thead>\n",
       "    <tr style=\"text-align: right;\">\n",
       "      <th></th>\n",
       "      <th>0</th>\n",
       "      <th>1</th>\n",
       "      <th>2</th>\n",
       "      <th>3</th>\n",
       "      <th>4</th>\n",
       "      <th>5</th>\n",
       "      <th>6</th>\n",
       "      <th>7</th>\n",
       "      <th>8</th>\n",
       "    </tr>\n",
       "    <tr>\n",
       "      <th>business_id</th>\n",
       "      <th></th>\n",
       "      <th></th>\n",
       "      <th></th>\n",
       "      <th></th>\n",
       "      <th></th>\n",
       "      <th></th>\n",
       "      <th></th>\n",
       "      <th></th>\n",
       "      <th></th>\n",
       "    </tr>\n",
       "  </thead>\n",
       "  <tbody>\n",
       "    <tr>\n",
       "      <th>003sg</th>\n",
       "      <td>0</td>\n",
       "      <td>1</td>\n",
       "      <td>0</td>\n",
       "      <td>1</td>\n",
       "      <td>0</td>\n",
       "      <td>1</td>\n",
       "      <td>1</td>\n",
       "      <td>0</td>\n",
       "      <td>1</td>\n",
       "    </tr>\n",
       "    <tr>\n",
       "      <th>00er5</th>\n",
       "      <td>0</td>\n",
       "      <td>1</td>\n",
       "      <td>0</td>\n",
       "      <td>1</td>\n",
       "      <td>0</td>\n",
       "      <td>1</td>\n",
       "      <td>1</td>\n",
       "      <td>0</td>\n",
       "      <td>1</td>\n",
       "    </tr>\n",
       "    <tr>\n",
       "      <th>00kad</th>\n",
       "      <td>0</td>\n",
       "      <td>1</td>\n",
       "      <td>0</td>\n",
       "      <td>1</td>\n",
       "      <td>0</td>\n",
       "      <td>1</td>\n",
       "      <td>1</td>\n",
       "      <td>0</td>\n",
       "      <td>1</td>\n",
       "    </tr>\n",
       "  </tbody>\n",
       "</table>\n",
       "</div>"
      ],
      "text/plain": [
       "             0  1  2  3  4  5  6  7  8\n",
       "business_id                           \n",
       "003sg        0  1  0  1  0  1  1  0  1\n",
       "00er5        0  1  0  1  0  1  1  0  1\n",
       "00kad        0  1  0  1  0  1  1  0  1"
      ]
     },
     "execution_count": 87,
     "metadata": {},
     "output_type": "execute_result"
    }
   ],
   "source": [
    "mix_pred[:3]"
   ]
  },
  {
   "cell_type": "code",
   "execution_count": 54,
   "metadata": {
    "collapsed": false
   },
   "outputs": [
    {
     "data": {
      "text/html": [
       "<div>\n",
       "<table border=\"1\" class=\"dataframe\">\n",
       "  <thead>\n",
       "    <tr style=\"text-align: right;\">\n",
       "      <th></th>\n",
       "      <th>0</th>\n",
       "      <th>1</th>\n",
       "      <th>2</th>\n",
       "      <th>3</th>\n",
       "      <th>4</th>\n",
       "      <th>5</th>\n",
       "      <th>6</th>\n",
       "      <th>7</th>\n",
       "      <th>8</th>\n",
       "    </tr>\n",
       "    <tr>\n",
       "      <th>business_id</th>\n",
       "      <th></th>\n",
       "      <th></th>\n",
       "      <th></th>\n",
       "      <th></th>\n",
       "      <th></th>\n",
       "      <th></th>\n",
       "      <th></th>\n",
       "      <th></th>\n",
       "      <th></th>\n",
       "    </tr>\n",
       "  </thead>\n",
       "  <tbody>\n",
       "    <tr>\n",
       "      <th>003sg</th>\n",
       "      <td>0</td>\n",
       "      <td>1</td>\n",
       "      <td>0</td>\n",
       "      <td>1</td>\n",
       "      <td>0</td>\n",
       "      <td>1</td>\n",
       "      <td>1</td>\n",
       "      <td>0</td>\n",
       "      <td>1</td>\n",
       "    </tr>\n",
       "    <tr>\n",
       "      <th>00er5</th>\n",
       "      <td>0</td>\n",
       "      <td>1</td>\n",
       "      <td>0</td>\n",
       "      <td>1</td>\n",
       "      <td>0</td>\n",
       "      <td>1</td>\n",
       "      <td>1</td>\n",
       "      <td>0</td>\n",
       "      <td>1</td>\n",
       "    </tr>\n",
       "    <tr>\n",
       "      <th>00kad</th>\n",
       "      <td>0</td>\n",
       "      <td>1</td>\n",
       "      <td>0</td>\n",
       "      <td>1</td>\n",
       "      <td>0</td>\n",
       "      <td>1</td>\n",
       "      <td>1</td>\n",
       "      <td>0</td>\n",
       "      <td>1</td>\n",
       "    </tr>\n",
       "  </tbody>\n",
       "</table>\n",
       "</div>"
      ],
      "text/plain": [
       "             0  1  2  3  4  5  6  7  8\n",
       "business_id                           \n",
       "003sg        0  1  0  1  0  1  1  0  1\n",
       "00er5        0  1  0  1  0  1  1  0  1\n",
       "00kad        0  1  0  1  0  1  1  0  1"
      ]
     },
     "execution_count": 54,
     "metadata": {},
     "output_type": "execute_result"
    }
   ],
   "source": [
    "mean_pred[:3]"
   ]
  },
  {
   "cell_type": "code",
   "execution_count": 82,
   "metadata": {
    "collapsed": false
   },
   "outputs": [],
   "source": [
    "# convert mean prediction to submittable form\n",
    "with open(r'/prob_finetune_results/mean_submission.csv','w') as fw:\n",
    "    fw.write('business_id,labels')\n",
    "    for ind in mean_pred.index:\n",
    "        pred = list(mean_pred.loc[ind,:].astype(int))\n",
    "        label = [str(i) for i in range(9) if pred[i]!=0]\n",
    "        line = ind+','+' '.join(label)+'\\n'\n",
    "        fw.write(line)"
   ]
  },
  {
   "cell_type": "code",
   "execution_count": null,
   "metadata": {
    "collapsed": true
   },
   "outputs": [],
   "source": []
  },
  {
   "cell_type": "code",
   "execution_count": null,
   "metadata": {
    "collapsed": true
   },
   "outputs": [],
   "source": []
  }
 ],
 "metadata": {
  "kernelspec": {
   "display_name": "Python 2",
   "language": "python",
   "name": "python2"
  },
  "language_info": {
   "codemirror_mode": {
    "name": "ipython",
    "version": 2
   },
   "file_extension": ".py",
   "mimetype": "text/x-python",
   "name": "python",
   "nbconvert_exporter": "python",
   "pygments_lexer": "ipython2",
   "version": "2.7.10"
  }
 },
 "nbformat": 4,
 "nbformat_minor": 0
}
