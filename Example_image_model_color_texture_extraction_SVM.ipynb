{
 "cells": [
  {
   "cell_type": "markdown",
   "metadata": {},
   "source": [
    "This is an example of feature extraction-model building flow"
   ]
  },
  {
   "cell_type": "markdown",
   "metadata": {},
   "source": [
    "# Build SVM with Color and Texture Features"
   ]
  },
  {
   "cell_type": "code",
   "execution_count": 1,
   "metadata": {
    "collapsed": true
   },
   "outputs": [],
   "source": [
    "import os\n",
    "import re\n",
    "import time\n",
    "import random\n",
    "from glob import glob\n",
    "import itertools\n",
    "import pickle\n",
    "import pandas as pd\n",
    "\n",
    "import numpy as np\n",
    "import multiprocessing\n",
    "\n",
    "import skimage\n",
    "from skimage import io\n",
    "\n",
    "from sklearn import cross_validation\n",
    "from sklearn import svm\n",
    "from sklearn import preprocessing\n",
    "from sklearn.linear_model.logistic import LogisticRegression"
   ]
  },
  {
   "cell_type": "code",
   "execution_count": 4,
   "metadata": {
    "collapsed": true
   },
   "outputs": [],
   "source": [
    "def shuffle_images(dir):\n",
    "    \"\"\" Given a directory, returns a shuffled list files\n",
    "    \n",
    "    \"\"\"\n",
    "    random.seed(1)\n",
    "    image_filenames = glob('{}/*.jpg'.format(dir))\n",
    "    image_filenames.sort()\n",
    "    random.shuffle(image_filenames)\n",
    "    return image_filenames"
   ]
  },
  {
   "cell_type": "markdown",
   "metadata": {},
   "source": [
    "# Data Preparation "
   ]
  },
  {
   "cell_type": "code",
   "execution_count": 174,
   "metadata": {
    "collapsed": false
   },
   "outputs": [
    {
     "name": "stdout",
     "output_type": "stream",
     "text": [
      "23484\n"
     ]
    }
   ],
   "source": [
    "# change here the path to your data\n",
    "file_list = shuffle_images(\"/train\")\n",
    "print len(file_list)\n",
    "pickle.dump(file_list, open(\"file_list.pkl\",\"wb\"))"
   ]
  },
  {
   "cell_type": "code",
   "execution_count": 181,
   "metadata": {
    "collapsed": false
   },
   "outputs": [
    {
     "data": {
      "text/html": [
       "<div>\n",
       "<table border=\"1\" class=\"dataframe\">\n",
       "  <thead>\n",
       "    <tr style=\"text-align: right;\">\n",
       "      <th></th>\n",
       "      <th>photo_id</th>\n",
       "      <th>business_id</th>\n",
       "    </tr>\n",
       "  </thead>\n",
       "  <tbody>\n",
       "    <tr>\n",
       "      <th>0</th>\n",
       "      <td>204149</td>\n",
       "      <td>3034</td>\n",
       "    </tr>\n",
       "    <tr>\n",
       "      <th>1</th>\n",
       "      <td>52779</td>\n",
       "      <td>2805</td>\n",
       "    </tr>\n",
       "    <tr>\n",
       "      <th>2</th>\n",
       "      <td>278973</td>\n",
       "      <td>485</td>\n",
       "    </tr>\n",
       "    <tr>\n",
       "      <th>3</th>\n",
       "      <td>195284</td>\n",
       "      <td>485</td>\n",
       "    </tr>\n",
       "    <tr>\n",
       "      <th>4</th>\n",
       "      <td>19992</td>\n",
       "      <td>485</td>\n",
       "    </tr>\n",
       "    <tr>\n",
       "      <th>5</th>\n",
       "      <td>80748</td>\n",
       "      <td>485</td>\n",
       "    </tr>\n",
       "    <tr>\n",
       "      <th>6</th>\n",
       "      <td>444996</td>\n",
       "      <td>1783</td>\n",
       "    </tr>\n",
       "    <tr>\n",
       "      <th>7</th>\n",
       "      <td>200285</td>\n",
       "      <td>35</td>\n",
       "    </tr>\n",
       "    <tr>\n",
       "      <th>8</th>\n",
       "      <td>90572</td>\n",
       "      <td>35</td>\n",
       "    </tr>\n",
       "    <tr>\n",
       "      <th>9</th>\n",
       "      <td>27565</td>\n",
       "      <td>1313</td>\n",
       "    </tr>\n",
       "    <tr>\n",
       "      <th>10</th>\n",
       "      <td>228371</td>\n",
       "      <td>1313</td>\n",
       "    </tr>\n",
       "  </tbody>\n",
       "</table>\n",
       "</div>"
      ]
     },
     "metadata": {},
     "output_type": "execute_result"
    }
   ],
   "source": [
    "train_pic_biz = pd.read_csv('/data/train_photo_to_biz_ids.csv')\n",
    "train_pic_biz.ix[:10]"
   ]
  },
  {
   "cell_type": "code",
   "execution_count": 182,
   "metadata": {
    "collapsed": false
   },
   "outputs": [
    {
     "data": {
      "text/html": [
       "<div>\n",
       "<table border=\"1\" class=\"dataframe\">\n",
       "  <thead>\n",
       "    <tr style=\"text-align: right;\">\n",
       "      <th></th>\n",
       "      <th>business_id</th>\n",
       "      <th>labels</th>\n",
       "    </tr>\n",
       "  </thead>\n",
       "  <tbody>\n",
       "    <tr>\n",
       "      <th>0</th>\n",
       "      <td>1000</td>\n",
       "      <td>1 2 3 4 5 6 7</td>\n",
       "    </tr>\n",
       "    <tr>\n",
       "      <th>1</th>\n",
       "      <td>1001</td>\n",
       "      <td>0 1 6 8</td>\n",
       "    </tr>\n",
       "    <tr>\n",
       "      <th>2</th>\n",
       "      <td>100</td>\n",
       "      <td>1 2 4 5 6 7</td>\n",
       "    </tr>\n",
       "    <tr>\n",
       "      <th>3</th>\n",
       "      <td>1006</td>\n",
       "      <td>1 2 4 5 6</td>\n",
       "    </tr>\n",
       "    <tr>\n",
       "      <th>4</th>\n",
       "      <td>1010</td>\n",
       "      <td>0 6 8</td>\n",
       "    </tr>\n",
       "    <tr>\n",
       "      <th>5</th>\n",
       "      <td>101</td>\n",
       "      <td>1 2 3 4 5 6</td>\n",
       "    </tr>\n",
       "    <tr>\n",
       "      <th>6</th>\n",
       "      <td>1011</td>\n",
       "      <td>2 3 5 6</td>\n",
       "    </tr>\n",
       "    <tr>\n",
       "      <th>7</th>\n",
       "      <td>1012</td>\n",
       "      <td>1 2 3 5 6</td>\n",
       "    </tr>\n",
       "    <tr>\n",
       "      <th>8</th>\n",
       "      <td>1014</td>\n",
       "      <td>1 2 4 5 6</td>\n",
       "    </tr>\n",
       "    <tr>\n",
       "      <th>9</th>\n",
       "      <td>1015</td>\n",
       "      <td>1 5 6 7</td>\n",
       "    </tr>\n",
       "  </tbody>\n",
       "</table>\n",
       "</div>"
      ]
     },
     "metadata": {},
     "output_type": "execute_result"
    }
   ],
   "source": [
    "train_biz_label = pd.read_csv('/data/train.csv')\n",
    "train_biz_label = train_biz_label.dropna()\n",
    "train_biz_label[:10]"
   ]
  },
  {
   "cell_type": "code",
   "execution_count": 186,
   "metadata": {
    "collapsed": false
   },
   "outputs": [
    {
     "name": "stdout",
     "output_type": "stream",
     "text": [
      "   photo_id\n",
      "0    107694\n",
      "1    100025\n",
      "2    160315\n",
      "3    312701\n",
      "4    139182\n"
     ]
    }
   ],
   "source": [
    "file_list[0].split(\"/\")[-1]\n",
    "new_list = [ int(x.split(\"/\")[-1].strip('.jpg')) for x in file_list]\n",
    "photo_list = pd.DataFrame(new_list, columns=[\"photo_id\"])  \n",
    "print photo_list[0:5]"
   ]
  },
  {
   "cell_type": "code",
   "execution_count": 187,
   "metadata": {
    "collapsed": true
   },
   "outputs": [],
   "source": [
    "pic_biz = pd.merge(photo_list, train_pic_biz, on='photo_id', how='left')\n",
    "pic_label = pd.merge(pic_biz, train_biz_label, on='business_id', how='left')"
   ]
  },
  {
   "cell_type": "code",
   "execution_count": 191,
   "metadata": {
    "collapsed": false
   },
   "outputs": [
    {
     "name": "stdout",
     "output_type": "stream",
     "text": [
      "   photo_id  business_id       labels\n",
      "0    107694         2127            8\n",
      "1    100025         1504  1 2 3 4 5 6\n",
      "2    160315         1114  1 2 4 5 6 7\n",
      "3    312701           75          0 8\n",
      "4    139182         3065  1 2 4 5 6 7\n"
     ]
    }
   ],
   "source": [
    "print pic_label[:5]"
   ]
  },
  {
   "cell_type": "code",
   "execution_count": 224,
   "metadata": {
    "collapsed": false
   },
   "outputs": [
    {
     "name": "stdout",
     "output_type": "stream",
     "text": [
      "23484\n"
     ]
    }
   ],
   "source": [
    "def get_label(labels, level):\n",
    "    y_label_1 = [0]*len(labels)\n",
    "    for i in range(len(labels)):\n",
    "        try:\n",
    "            y_label_1[i] = int(level in labels[i])\n",
    "        except:\n",
    "            pass\n",
    "    return y_label_1\n",
    "####only consider label 1 : good_for_dinner\n",
    "y_label_1 = get_label(pic_label['labels'].tolist(), '1')\n",
    "print len(y_label_1)"
   ]
  },
  {
   "cell_type": "code",
   "execution_count": null,
   "metadata": {
    "collapsed": true
   },
   "outputs": [],
   "source": [
    "print y_label_1[0:300]"
   ]
  },
  {
   "cell_type": "code",
   "execution_count": 22,
   "metadata": {
    "collapsed": true
   },
   "outputs": [],
   "source": [
    "from PIL import Image"
   ]
  },
  {
   "cell_type": "code",
   "execution_count": 35,
   "metadata": {
    "collapsed": true
   },
   "outputs": [],
   "source": [
    "from skimage.transform import resize"
   ]
  },
  {
   "cell_type": "code",
   "execution_count": 40,
   "metadata": {
    "collapsed": true
   },
   "outputs": [],
   "source": [
    "def file_to_rgb(filename):\n",
    "    \"\"\" Returns an image in rgb format\n",
    "  \n",
    "      a gray scale image will be converted, a rgb image will be left untouched\n",
    "    \"\"\"\n",
    "    img = io.imread(filename)\n",
    "    img = resize(img, (250, 250))\n",
    "    if (img.ndim == 2):\n",
    "        return skimage.color.gray2rgb(img)\n",
    "    return img"
   ]
  },
  {
   "cell_type": "code",
   "execution_count": 57,
   "metadata": {
    "collapsed": false
   },
   "outputs": [
    {
     "name": "stdout",
     "output_type": "stream",
     "text": [
      "[[[ 0.09799714  0.56553398  0.20196078]]]\n"
     ]
    }
   ],
   "source": [
    "# testing file_to_rgb\n",
    "filename = file_list[0]\n",
    "file_rgb = file_to_rgb(filename)\n",
    "#print file_rgb\n",
    "img_hsv = skimage.color.rgb2hsv(file_rgb)"
   ]
  },
  {
   "cell_type": "markdown",
   "metadata": {},
   "source": [
    "# Color Feature Extraction "
   ]
  },
  {
   "cell_type": "code",
   "execution_count": 155,
   "metadata": {
    "collapsed": true
   },
   "outputs": [],
   "source": [
    "def hsv_to_feature_new(hsv, N, C_h, C_s, C_v):\n",
    "    \"\"\" Takes an hsv picture and returns a feature vector.\n",
    "  \n",
    "    The vector is built as described in the paper \n",
    "    'Machine Learning Attacks Against the Asirra CAPTCHA'\n",
    "    \"\"\"  \n",
    "    feature_vec = np.zeros((N * N, C_h * C_s * C_v), dtype=int)\n",
    "    cell_size = 250/N\n",
    "    h_range = np.arange(0.0,1.0,1.0/C_h)\n",
    "    h_range = np.append(h_range,1.0)\n",
    "    print h_range\n",
    "    s_range = np.arange(0.0,1.0,1.0/C_s)\n",
    "    s_range = np.append(s_range,1.0)\n",
    "    v_range = np.arange(0.0,1.0,1.0/C_v)\n",
    "    v_range = np.append(v_range,1.0)\n",
    "    index_n = 0\n",
    "    for i in range(N):\n",
    "        for j in range(N):\n",
    "            cell = hsv[i*cell_size:i*cell_size+cell_size,j*cell_size:j*cell_size+cell_size,:]\n",
    "            res_ij = np.zeros(C_h * C_s * C_v, dtype=int)\n",
    "            index = 0\n",
    "            for h in range(C_h):\n",
    "                h_cell = np.logical_and(cell[:,:,0]>=h_range[h],cell[:,:,0]<h_range[h+1])\n",
    "                for s in range(C_s): \n",
    "                    s_cell = np.logical_and(cell[:,:,1]>=s_range[s],cell[:,:,1]<s_range[s+1])\n",
    "                    for v in range(C_v):\n",
    "                        v_cell = np.logical_and(cell[:,:,2]>=v_range[v],cell[:,:,2]<v_range[v+1])\n",
    "                        res_ij[index] = np.logical_and(np.logical_and(h_cell,s_cell),v_cell).any()\n",
    "                        index+=1\n",
    "            print res_ij\n",
    "            # here transform in h s v\n",
    "            feature_vec[index_n, : ] = res_ij\n",
    "            index_n+=1\n",
    "    return feature_vec.flatten()"
   ]
  },
  {
   "cell_type": "code",
   "execution_count": 234,
   "metadata": {
    "collapsed": true
   },
   "outputs": [],
   "source": [
    "def build_color_feature_vector((filename, N, C_h, C_s, C_v)):\n",
    "    \"\"\" Builds color feature vector \n",
    "  \n",
    "    Takes a jpeg file and the parameters of the feature vector\n",
    "    \"\"\"\n",
    "    rgb_img = file_to_rgb(filename)\n",
    "    assert (rgb_img.shape[2] == 3)\n",
    "    hsv_img = skimage.color.rgb2hsv(rgb_img)\n",
    "    return hsv_to_feature(hsv_img, N, C_h, C_s, C_v)\n",
    "    \n",
    "def run_all_images(file_list, N, C_h, C_s, C_v):\n",
    "    \"\"\" Builds the feature matrix of the jpegs in file list\n",
    "    \n",
    "    return featurematrix where the i-th row corresponds to the feature\n",
    "    in the i-th image of the file list\"\n",
    "    \"\"\"\n",
    "    F_size = N * N * (C_h * C_s * C_v)\n",
    "    X = [(f, N, C_h, C_s, C_v) for f in file_list]\n",
    "    feature_arr = np.zeros((len(file_list), F_size), dtype=int)\n",
    "    for i in range(len(X)):\n",
    "        feature_arr[i] = build_color_feature_vector(X[i])\n",
    "    return feature_arr"
   ]
  },
  {
   "cell_type": "code",
   "execution_count": 243,
   "metadata": {
    "collapsed": false
   },
   "outputs": [
    {
     "name": "stdout",
     "output_type": "stream",
     "text": [
      "CPU times: user 277 ms, sys: 4.88 ms, total: 282 ms\n",
      "Wall time: 283 ms\n"
     ]
    }
   ],
   "source": [
    "%time fea = build_color_feature_vector((file_list[0], 1, 10, 10, 10))"
   ]
  },
  {
   "cell_type": "code",
   "execution_count": 240,
   "metadata": {
    "collapsed": true
   },
   "outputs": [],
   "source": [
    "def build_color_feature_matrices_or_load(file_list):\n",
    "    F1 = run_all_images(file_list,1,10,10,10)\n",
    "    F2 = run_all_images(file_list,3,10,8,8)\n",
    "    F3 = run_all_images(file_list,5,10,6,6)\n",
    "    return F1, F2, F3"
   ]
  },
  {
   "cell_type": "code",
   "execution_count": 242,
   "metadata": {
    "collapsed": false
   },
   "outputs": [
    {
     "name": "stdout",
     "output_type": "stream",
     "text": [
      "CPU times: user 4min 23s, sys: 5.53 s, total: 4min 28s\n",
      "Wall time: 4min 30s\n"
     ]
    }
   ],
   "source": [
    "file_list = pickle.load(open(\"file_list.pkl\",\"rb\"))\n",
    "%time F1,F2,F3 =build_color_feature_matrices_or_load(file_list[:300])\n",
    "# np.save(\"F1\",F1) \n",
    "# np.save(\"F2\",F2)\n",
    "# np.save(\"F3\",F3)"
   ]
  },
  {
   "cell_type": "code",
   "execution_count": 244,
   "metadata": {
    "collapsed": true
   },
   "outputs": [],
   "source": [
    "np.save(\"F1\",F1) \n",
    "np.save(\"F2\",F2)\n",
    "np.save(\"F3\",F3)"
   ]
  },
  {
   "cell_type": "markdown",
   "metadata": {},
   "source": [
    "# Color Modeling "
   ]
  },
  {
   "cell_type": "code",
   "execution_count": 285,
   "metadata": {
    "collapsed": true
   },
   "outputs": [],
   "source": [
    "def classify_color_feature(F,y):\n",
    "    start = time.time()\n",
    "    clf = svm.SVC(kernel='poly',gamma=0.001)\n",
    "    scores = cross_validation.cross_val_score(clf, F, y, cv=5) \n",
    "    f1score = cross_validation.cross_val_score(clf, F, y, cv=5,scoring='f1_weighted')\n",
    "    time_diff = time.time() - start \n",
    "    print \"Accuracy: %.1f F1 Score %.1f \"   % (np.mean(scores)*100,np.mean(f1score) *100)"
   ]
  },
  {
   "cell_type": "code",
   "execution_count": 286,
   "metadata": {
    "collapsed": false
   },
   "outputs": [
    {
     "name": "stdout",
     "output_type": "stream",
     "text": [
      "Accuracy: 61.3 F1 Score 46.6 \n",
      "Accuracy: 61.7 F1 Score 55.6 \n",
      "Accuracy: 58.7 F1 Score 52.8 \n",
      "Accuracy: 58.0 F1 Score 53.6 \n"
     ]
    }
   ],
   "source": [
    "F1=np.load(\"F1.npy\")\n",
    "F2=np.load(\"F2.npy\")\n",
    "F3=np.load(\"F3.npy\")\n",
    "\n",
    "union = np.hstack((F1,F2,F3))\n",
    "\n",
    "classify_color_feature(F1[:300],y_label_1[:300])\n",
    "classify_color_feature(F2[:300],y_label_1[:300])\n",
    "classify_color_feature(F3[:300],y_label_1[:300])\n",
    "classify_color_feature(union[:300],y_label_1[:300])\n",
    "#print y_label_1[:300]"
   ]
  },
  {
   "cell_type": "code",
   "execution_count": 4,
   "metadata": {
    "collapsed": true
   },
   "outputs": [],
   "source": [
    "np.save('temp',np.zeros((10,5,5,3)))"
   ]
  },
  {
   "cell_type": "code",
   "execution_count": 5,
   "metadata": {
    "collapsed": false
   },
   "outputs": [
    {
     "data": {
      "text/plain": [
       "array([[[[ 0.,  0.,  0.],\n",
       "         [ 0.,  0.,  0.],\n",
       "         [ 0.,  0.,  0.],\n",
       "         [ 0.,  0.,  0.],\n",
       "         [ 0.,  0.,  0.]],\n",
       "\n",
       "        [[ 0.,  0.,  0.],\n",
       "         [ 0.,  0.,  0.],\n",
       "         [ 0.,  0.,  0.],\n",
       "         [ 0.,  0.,  0.],\n",
       "         [ 0.,  0.,  0.]],\n",
       "\n",
       "        [[ 0.,  0.,  0.],\n",
       "         [ 0.,  0.,  0.],\n",
       "         [ 0.,  0.,  0.],\n",
       "         [ 0.,  0.,  0.],\n",
       "         [ 0.,  0.,  0.]],\n",
       "\n",
       "        [[ 0.,  0.,  0.],\n",
       "         [ 0.,  0.,  0.],\n",
       "         [ 0.,  0.,  0.],\n",
       "         [ 0.,  0.,  0.],\n",
       "         [ 0.,  0.,  0.]],\n",
       "\n",
       "        [[ 0.,  0.,  0.],\n",
       "         [ 0.,  0.,  0.],\n",
       "         [ 0.,  0.,  0.],\n",
       "         [ 0.,  0.,  0.],\n",
       "         [ 0.,  0.,  0.]]],\n",
       "\n",
       "\n",
       "       [[[ 0.,  0.,  0.],\n",
       "         [ 0.,  0.,  0.],\n",
       "         [ 0.,  0.,  0.],\n",
       "         [ 0.,  0.,  0.],\n",
       "         [ 0.,  0.,  0.]],\n",
       "\n",
       "        [[ 0.,  0.,  0.],\n",
       "         [ 0.,  0.,  0.],\n",
       "         [ 0.,  0.,  0.],\n",
       "         [ 0.,  0.,  0.],\n",
       "         [ 0.,  0.,  0.]],\n",
       "\n",
       "        [[ 0.,  0.,  0.],\n",
       "         [ 0.,  0.,  0.],\n",
       "         [ 0.,  0.,  0.],\n",
       "         [ 0.,  0.,  0.],\n",
       "         [ 0.,  0.,  0.]],\n",
       "\n",
       "        [[ 0.,  0.,  0.],\n",
       "         [ 0.,  0.,  0.],\n",
       "         [ 0.,  0.,  0.],\n",
       "         [ 0.,  0.,  0.],\n",
       "         [ 0.,  0.,  0.]],\n",
       "\n",
       "        [[ 0.,  0.,  0.],\n",
       "         [ 0.,  0.,  0.],\n",
       "         [ 0.,  0.,  0.],\n",
       "         [ 0.,  0.,  0.],\n",
       "         [ 0.,  0.,  0.]]],\n",
       "\n",
       "\n",
       "       [[[ 0.,  0.,  0.],\n",
       "         [ 0.,  0.,  0.],\n",
       "         [ 0.,  0.,  0.],\n",
       "         [ 0.,  0.,  0.],\n",
       "         [ 0.,  0.,  0.]],\n",
       "\n",
       "        [[ 0.,  0.,  0.],\n",
       "         [ 0.,  0.,  0.],\n",
       "         [ 0.,  0.,  0.],\n",
       "         [ 0.,  0.,  0.],\n",
       "         [ 0.,  0.,  0.]],\n",
       "\n",
       "        [[ 0.,  0.,  0.],\n",
       "         [ 0.,  0.,  0.],\n",
       "         [ 0.,  0.,  0.],\n",
       "         [ 0.,  0.,  0.],\n",
       "         [ 0.,  0.,  0.]],\n",
       "\n",
       "        [[ 0.,  0.,  0.],\n",
       "         [ 0.,  0.,  0.],\n",
       "         [ 0.,  0.,  0.],\n",
       "         [ 0.,  0.,  0.],\n",
       "         [ 0.,  0.,  0.]],\n",
       "\n",
       "        [[ 0.,  0.,  0.],\n",
       "         [ 0.,  0.,  0.],\n",
       "         [ 0.,  0.,  0.],\n",
       "         [ 0.,  0.,  0.],\n",
       "         [ 0.,  0.,  0.]]],\n",
       "\n",
       "\n",
       "       [[[ 0.,  0.,  0.],\n",
       "         [ 0.,  0.,  0.],\n",
       "         [ 0.,  0.,  0.],\n",
       "         [ 0.,  0.,  0.],\n",
       "         [ 0.,  0.,  0.]],\n",
       "\n",
       "        [[ 0.,  0.,  0.],\n",
       "         [ 0.,  0.,  0.],\n",
       "         [ 0.,  0.,  0.],\n",
       "         [ 0.,  0.,  0.],\n",
       "         [ 0.,  0.,  0.]],\n",
       "\n",
       "        [[ 0.,  0.,  0.],\n",
       "         [ 0.,  0.,  0.],\n",
       "         [ 0.,  0.,  0.],\n",
       "         [ 0.,  0.,  0.],\n",
       "         [ 0.,  0.,  0.]],\n",
       "\n",
       "        [[ 0.,  0.,  0.],\n",
       "         [ 0.,  0.,  0.],\n",
       "         [ 0.,  0.,  0.],\n",
       "         [ 0.,  0.,  0.],\n",
       "         [ 0.,  0.,  0.]],\n",
       "\n",
       "        [[ 0.,  0.,  0.],\n",
       "         [ 0.,  0.,  0.],\n",
       "         [ 0.,  0.,  0.],\n",
       "         [ 0.,  0.,  0.],\n",
       "         [ 0.,  0.,  0.]]],\n",
       "\n",
       "\n",
       "       [[[ 0.,  0.,  0.],\n",
       "         [ 0.,  0.,  0.],\n",
       "         [ 0.,  0.,  0.],\n",
       "         [ 0.,  0.,  0.],\n",
       "         [ 0.,  0.,  0.]],\n",
       "\n",
       "        [[ 0.,  0.,  0.],\n",
       "         [ 0.,  0.,  0.],\n",
       "         [ 0.,  0.,  0.],\n",
       "         [ 0.,  0.,  0.],\n",
       "         [ 0.,  0.,  0.]],\n",
       "\n",
       "        [[ 0.,  0.,  0.],\n",
       "         [ 0.,  0.,  0.],\n",
       "         [ 0.,  0.,  0.],\n",
       "         [ 0.,  0.,  0.],\n",
       "         [ 0.,  0.,  0.]],\n",
       "\n",
       "        [[ 0.,  0.,  0.],\n",
       "         [ 0.,  0.,  0.],\n",
       "         [ 0.,  0.,  0.],\n",
       "         [ 0.,  0.,  0.],\n",
       "         [ 0.,  0.,  0.]],\n",
       "\n",
       "        [[ 0.,  0.,  0.],\n",
       "         [ 0.,  0.,  0.],\n",
       "         [ 0.,  0.,  0.],\n",
       "         [ 0.,  0.,  0.],\n",
       "         [ 0.,  0.,  0.]]],\n",
       "\n",
       "\n",
       "       [[[ 0.,  0.,  0.],\n",
       "         [ 0.,  0.,  0.],\n",
       "         [ 0.,  0.,  0.],\n",
       "         [ 0.,  0.,  0.],\n",
       "         [ 0.,  0.,  0.]],\n",
       "\n",
       "        [[ 0.,  0.,  0.],\n",
       "         [ 0.,  0.,  0.],\n",
       "         [ 0.,  0.,  0.],\n",
       "         [ 0.,  0.,  0.],\n",
       "         [ 0.,  0.,  0.]],\n",
       "\n",
       "        [[ 0.,  0.,  0.],\n",
       "         [ 0.,  0.,  0.],\n",
       "         [ 0.,  0.,  0.],\n",
       "         [ 0.,  0.,  0.],\n",
       "         [ 0.,  0.,  0.]],\n",
       "\n",
       "        [[ 0.,  0.,  0.],\n",
       "         [ 0.,  0.,  0.],\n",
       "         [ 0.,  0.,  0.],\n",
       "         [ 0.,  0.,  0.],\n",
       "         [ 0.,  0.,  0.]],\n",
       "\n",
       "        [[ 0.,  0.,  0.],\n",
       "         [ 0.,  0.,  0.],\n",
       "         [ 0.,  0.,  0.],\n",
       "         [ 0.,  0.,  0.],\n",
       "         [ 0.,  0.,  0.]]],\n",
       "\n",
       "\n",
       "       [[[ 0.,  0.,  0.],\n",
       "         [ 0.,  0.,  0.],\n",
       "         [ 0.,  0.,  0.],\n",
       "         [ 0.,  0.,  0.],\n",
       "         [ 0.,  0.,  0.]],\n",
       "\n",
       "        [[ 0.,  0.,  0.],\n",
       "         [ 0.,  0.,  0.],\n",
       "         [ 0.,  0.,  0.],\n",
       "         [ 0.,  0.,  0.],\n",
       "         [ 0.,  0.,  0.]],\n",
       "\n",
       "        [[ 0.,  0.,  0.],\n",
       "         [ 0.,  0.,  0.],\n",
       "         [ 0.,  0.,  0.],\n",
       "         [ 0.,  0.,  0.],\n",
       "         [ 0.,  0.,  0.]],\n",
       "\n",
       "        [[ 0.,  0.,  0.],\n",
       "         [ 0.,  0.,  0.],\n",
       "         [ 0.,  0.,  0.],\n",
       "         [ 0.,  0.,  0.],\n",
       "         [ 0.,  0.,  0.]],\n",
       "\n",
       "        [[ 0.,  0.,  0.],\n",
       "         [ 0.,  0.,  0.],\n",
       "         [ 0.,  0.,  0.],\n",
       "         [ 0.,  0.,  0.],\n",
       "         [ 0.,  0.,  0.]]],\n",
       "\n",
       "\n",
       "       [[[ 0.,  0.,  0.],\n",
       "         [ 0.,  0.,  0.],\n",
       "         [ 0.,  0.,  0.],\n",
       "         [ 0.,  0.,  0.],\n",
       "         [ 0.,  0.,  0.]],\n",
       "\n",
       "        [[ 0.,  0.,  0.],\n",
       "         [ 0.,  0.,  0.],\n",
       "         [ 0.,  0.,  0.],\n",
       "         [ 0.,  0.,  0.],\n",
       "         [ 0.,  0.,  0.]],\n",
       "\n",
       "        [[ 0.,  0.,  0.],\n",
       "         [ 0.,  0.,  0.],\n",
       "         [ 0.,  0.,  0.],\n",
       "         [ 0.,  0.,  0.],\n",
       "         [ 0.,  0.,  0.]],\n",
       "\n",
       "        [[ 0.,  0.,  0.],\n",
       "         [ 0.,  0.,  0.],\n",
       "         [ 0.,  0.,  0.],\n",
       "         [ 0.,  0.,  0.],\n",
       "         [ 0.,  0.,  0.]],\n",
       "\n",
       "        [[ 0.,  0.,  0.],\n",
       "         [ 0.,  0.,  0.],\n",
       "         [ 0.,  0.,  0.],\n",
       "         [ 0.,  0.,  0.],\n",
       "         [ 0.,  0.,  0.]]],\n",
       "\n",
       "\n",
       "       [[[ 0.,  0.,  0.],\n",
       "         [ 0.,  0.,  0.],\n",
       "         [ 0.,  0.,  0.],\n",
       "         [ 0.,  0.,  0.],\n",
       "         [ 0.,  0.,  0.]],\n",
       "\n",
       "        [[ 0.,  0.,  0.],\n",
       "         [ 0.,  0.,  0.],\n",
       "         [ 0.,  0.,  0.],\n",
       "         [ 0.,  0.,  0.],\n",
       "         [ 0.,  0.,  0.]],\n",
       "\n",
       "        [[ 0.,  0.,  0.],\n",
       "         [ 0.,  0.,  0.],\n",
       "         [ 0.,  0.,  0.],\n",
       "         [ 0.,  0.,  0.],\n",
       "         [ 0.,  0.,  0.]],\n",
       "\n",
       "        [[ 0.,  0.,  0.],\n",
       "         [ 0.,  0.,  0.],\n",
       "         [ 0.,  0.,  0.],\n",
       "         [ 0.,  0.,  0.],\n",
       "         [ 0.,  0.,  0.]],\n",
       "\n",
       "        [[ 0.,  0.,  0.],\n",
       "         [ 0.,  0.,  0.],\n",
       "         [ 0.,  0.,  0.],\n",
       "         [ 0.,  0.,  0.],\n",
       "         [ 0.,  0.,  0.]]],\n",
       "\n",
       "\n",
       "       [[[ 0.,  0.,  0.],\n",
       "         [ 0.,  0.,  0.],\n",
       "         [ 0.,  0.,  0.],\n",
       "         [ 0.,  0.,  0.],\n",
       "         [ 0.,  0.,  0.]],\n",
       "\n",
       "        [[ 0.,  0.,  0.],\n",
       "         [ 0.,  0.,  0.],\n",
       "         [ 0.,  0.,  0.],\n",
       "         [ 0.,  0.,  0.],\n",
       "         [ 0.,  0.,  0.]],\n",
       "\n",
       "        [[ 0.,  0.,  0.],\n",
       "         [ 0.,  0.,  0.],\n",
       "         [ 0.,  0.,  0.],\n",
       "         [ 0.,  0.,  0.],\n",
       "         [ 0.,  0.,  0.]],\n",
       "\n",
       "        [[ 0.,  0.,  0.],\n",
       "         [ 0.,  0.,  0.],\n",
       "         [ 0.,  0.,  0.],\n",
       "         [ 0.,  0.,  0.],\n",
       "         [ 0.,  0.,  0.]],\n",
       "\n",
       "        [[ 0.,  0.,  0.],\n",
       "         [ 0.,  0.,  0.],\n",
       "         [ 0.,  0.,  0.],\n",
       "         [ 0.,  0.,  0.],\n",
       "         [ 0.,  0.,  0.]]]])"
      ]
     },
     "execution_count": 5,
     "metadata": {},
     "output_type": "execute_result"
    }
   ],
   "source": [
    "np.load('temp.npy')"
   ]
  },
  {
   "cell_type": "markdown",
   "metadata": {},
   "source": [
    "# Building Texture"
   ]
  },
  {
   "cell_type": "code",
   "execution_count": 263,
   "metadata": {
    "collapsed": true
   },
   "outputs": [],
   "source": [
    "def texture_distance(T1,T2):\n",
    "    y=np.linalg.norm(T1-T2,axis=2)\n",
    "    return np.mean(y)\n",
    "\n",
    "def build_tiles(number_of_tiles,files,threshold):\n",
    "    \"\"\" Returns a number_of_tiles*5*5 - Matrix, where every 5*5_texture is at least threshold from each other \"\"\"\n",
    "    current=0\n",
    "    textures = np.zeros((number_of_tiles,5,5,3))\n",
    "    while(current<number_of_tiles):\n",
    "        file_index = random.randint(0,len(files)-1)\n",
    "        i = random.randint(0,49)\n",
    "        j = random.randint(0,49)\n",
    "        bild = io.imread(files[file_index])\n",
    "        bild = resize(bild, (250, 250))\n",
    "        if (bild.ndim==2):\n",
    "            rgb_bild= skimage.color.gray2rgb(bild)\n",
    "        else:\n",
    "            rgb_bild = bild\n",
    "            cell = rgb_bild[i*5:i*5+5,j*5:j*5+5,:] \n",
    "            close = False\n",
    "        for i in range(current):\n",
    "            T = textures[i,:,:] \n",
    "            if(texture_texture_distance(cell,T)<threshold):\n",
    "                close=True\n",
    "                break\n",
    "        if(not close):\n",
    "            textures[current,:,:]=cell\n",
    "            current+=1\n",
    "    return textures\n",
    "    \n",
    "def build_textures_or_load(number_of_tiles,files,threshold):\n",
    "    try:\n",
    "        textures = np.load(\"textures.npy\")\n",
    "    except IOError:\n",
    "        textures = build_tiles(number_of_tiles,files,threshold)\n",
    "    return textures\n",
    "    \n",
    "\n",
    "def texture_image_distance_simple(rgb,T):\n",
    "    bigtile = np.tile(T,(50,50,1))\n",
    "    distances = np.linalg.norm(rgb-bigtile,axis=2)\n",
    "    splitted = [np.hsplit(x,50) for x in np.vsplit(distances,50)]\n",
    "    merged = list(itertools.chain.from_iterable(splitted)) # flatten the list\n",
    "    maxvalues=[np.max(x) for x in merged]\n",
    "    return min(maxvalues)\n",
    "\n",
    "def build_texture_feature_vector(pars):\n",
    "    filename,textures=pars\n",
    "    bild = io.imread(filename)\n",
    "    if (bild.ndim==2):\n",
    "        rgb= skimage.color.gray2rgb(bild)\n",
    "    else:\n",
    "        rgb = bild\n",
    "    res=[]\n",
    "    for t in textures:\n",
    "        res.append(texture_image_distance_simple(rgb,t))\n",
    "    return res\n",
    "\n",
    "def build_texture_feature_matrix(file_list,texture):\n",
    "    pool = multiprocessing.Pool()\n",
    "    res = pool.map(build_texture_feature_vector,[(f,texture) for f in file_list])\n",
    "    return np.array(res)\n",
    "\n",
    "def build_texture_feature_matrix_or_load(file_list,textures):\n",
    "    try:\n",
    "        G = np.load(\"G.npy\")\n",
    "    except IOError:\n",
    "        print \"Building matrix\"\n",
    "        G = build_texture_feature_matrix(file_list,textures)\n",
    "    return G"
   ]
  },
  {
   "cell_type": "code",
   "execution_count": 265,
   "metadata": {
    "collapsed": false
   },
   "outputs": [
    {
     "name": "stderr",
     "output_type": "stream",
     "text": [
      "Process PoolWorker-158:\n",
      "Process PoolWorker-157:\n",
      "Process PoolWorker-154:\n",
      "Process PoolWorker-180:\n",
      "Process PoolWorker-179:\n",
      "Process PoolWorker-177:\n",
      "Process PoolWorker-175:\n",
      "Process PoolWorker-166:\n",
      "Process PoolWorker-178:\n",
      "Process PoolWorker-174:\n",
      "Process PoolWorker-168:\n",
      "Process PoolWorker-172:\n",
      "Process PoolWorker-169:\n",
      "Process PoolWorker-170:\n",
      "Process PoolWorker-164:\n",
      "Process PoolWorker-162:\n",
      "Process PoolWorker-156:\n",
      "Process PoolWorker-163:\n",
      "Process PoolWorker-161:\n",
      "Process PoolWorker-173:\n",
      "Process PoolWorker-159:\n",
      "Process PoolWorker-165:\n",
      "Process PoolWorker-176:\n",
      "Process PoolWorker-171:\n",
      "Process PoolWorker-160:\n",
      "Process PoolWorker-153:\n",
      "Process PoolWorker-155:\n",
      "Process PoolWorker-167:\n",
      "Traceback (most recent call last):\n",
      "Traceback (most recent call last):\n",
      "Traceback (most recent call last):\n",
      "Traceback (most recent call last):\n",
      "Traceback (most recent call last):\n",
      "Traceback (most recent call last):\n",
      "Traceback (most recent call last):\n",
      "Traceback (most recent call last):\n",
      "Traceback (most recent call last):\n",
      "Traceback (most recent call last):\n",
      "Traceback (most recent call last):\n",
      "Traceback (most recent call last):\n",
      "Traceback (most recent call last):\n",
      "Traceback (most recent call last):\n",
      "Traceback (most recent call last):\n",
      "Traceback (most recent call last):\n",
      "Traceback (most recent call last):\n",
      "Traceback (most recent call last):\n",
      "Traceback (most recent call last):\n",
      "Traceback (most recent call last):\n",
      "Traceback (most recent call last):\n",
      "Traceback (most recent call last):\n",
      "Traceback (most recent call last):\n",
      "Traceback (most recent call last):\n",
      "Traceback (most recent call last):\n",
      "Traceback (most recent call last):\n",
      "Traceback (most recent call last):\n",
      "Traceback (most recent call last):\n",
      "  File \"/Users/s92wang/anaconda/lib/python2.7/multiprocessing/process.py\", line 258, in _bootstrap\n",
      "  File \"/Users/s92wang/anaconda/lib/python2.7/multiprocessing/process.py\", line 258, in _bootstrap\n",
      "  File \"/Users/s92wang/anaconda/lib/python2.7/multiprocessing/process.py\", line 258, in _bootstrap\n",
      "  File \"/Users/s92wang/anaconda/lib/python2.7/multiprocessing/process.py\", line 258, in _bootstrap\n",
      "  File \"/Users/s92wang/anaconda/lib/python2.7/multiprocessing/process.py\", line 258, in _bootstrap\n",
      "  File \"/Users/s92wang/anaconda/lib/python2.7/multiprocessing/process.py\", line 258, in _bootstrap\n",
      "  File \"/Users/s92wang/anaconda/lib/python2.7/multiprocessing/process.py\", line 258, in _bootstrap\n",
      "  File \"/Users/s92wang/anaconda/lib/python2.7/multiprocessing/process.py\", line 258, in _bootstrap\n",
      "  File \"/Users/s92wang/anaconda/lib/python2.7/multiprocessing/process.py\", line 258, in _bootstrap\n",
      "  File \"/Users/s92wang/anaconda/lib/python2.7/multiprocessing/process.py\", line 258, in _bootstrap\n",
      "  File \"/Users/s92wang/anaconda/lib/python2.7/multiprocessing/process.py\", line 258, in _bootstrap\n",
      "  File \"/Users/s92wang/anaconda/lib/python2.7/multiprocessing/process.py\", line 258, in _bootstrap\n",
      "  File \"/Users/s92wang/anaconda/lib/python2.7/multiprocessing/process.py\", line 258, in _bootstrap\n",
      "  File \"/Users/s92wang/anaconda/lib/python2.7/multiprocessing/process.py\", line 258, in _bootstrap\n",
      "  File \"/Users/s92wang/anaconda/lib/python2.7/multiprocessing/process.py\", line 258, in _bootstrap\n",
      "  File \"/Users/s92wang/anaconda/lib/python2.7/multiprocessing/process.py\", line 258, in _bootstrap\n",
      "  File \"/Users/s92wang/anaconda/lib/python2.7/multiprocessing/process.py\", line 258, in _bootstrap\n",
      "  File \"/Users/s92wang/anaconda/lib/python2.7/multiprocessing/process.py\", line 258, in _bootstrap\n",
      "  File \"/Users/s92wang/anaconda/lib/python2.7/multiprocessing/process.py\", line 258, in _bootstrap\n",
      "  File \"/Users/s92wang/anaconda/lib/python2.7/multiprocessing/process.py\", line 258, in _bootstrap\n",
      "  File \"/Users/s92wang/anaconda/lib/python2.7/multiprocessing/process.py\", line 258, in _bootstrap\n",
      "  File \"/Users/s92wang/anaconda/lib/python2.7/multiprocessing/process.py\", line 258, in _bootstrap\n",
      "  File \"/Users/s92wang/anaconda/lib/python2.7/multiprocessing/process.py\", line 258, in _bootstrap\n",
      "  File \"/Users/s92wang/anaconda/lib/python2.7/multiprocessing/process.py\", line 258, in _bootstrap\n",
      "  File \"/Users/s92wang/anaconda/lib/python2.7/multiprocessing/process.py\", line 258, in _bootstrap\n",
      "  File \"/Users/s92wang/anaconda/lib/python2.7/multiprocessing/process.py\", line 258, in _bootstrap\n",
      "  File \"/Users/s92wang/anaconda/lib/python2.7/multiprocessing/process.py\", line 258, in _bootstrap\n",
      "  File \"/Users/s92wang/anaconda/lib/python2.7/multiprocessing/process.py\", line 258, in _bootstrap\n",
      "    self.run()\n",
      "    self.run()\n",
      "    self.run()\n",
      "    self.run()\n",
      "    self.run()\n",
      "    self.run()\n",
      "    self.run()\n",
      "    self.run()\n",
      "    self.run()\n",
      "    self.run()\n",
      "    self.run()\n",
      "    self.run()\n",
      "    self.run()\n",
      "    self.run()\n",
      "    self.run()\n",
      "    self.run()\n",
      "    self.run()\n",
      "    self.run()\n",
      "    self.run()\n",
      "    self.run()\n",
      "    self.run()\n",
      "    self.run()\n",
      "    self.run()\n",
      "    self.run()\n",
      "    self.run()\n",
      "    self.run()\n",
      "    self.run()\n",
      "    self.run()\n",
      "  File \"/Users/s92wang/anaconda/lib/python2.7/multiprocessing/process.py\", line 114, in run\n",
      "  File \"/Users/s92wang/anaconda/lib/python2.7/multiprocessing/process.py\", line 114, in run\n",
      "  File \"/Users/s92wang/anaconda/lib/python2.7/multiprocessing/process.py\", line 114, in run\n",
      "  File \"/Users/s92wang/anaconda/lib/python2.7/multiprocessing/process.py\", line 114, in run\n",
      "  File \"/Users/s92wang/anaconda/lib/python2.7/multiprocessing/process.py\", line 114, in run\n",
      "  File \"/Users/s92wang/anaconda/lib/python2.7/multiprocessing/process.py\", line 114, in run\n",
      "  File \"/Users/s92wang/anaconda/lib/python2.7/multiprocessing/process.py\", line 114, in run\n",
      "  File \"/Users/s92wang/anaconda/lib/python2.7/multiprocessing/process.py\", line 114, in run\n",
      "  File \"/Users/s92wang/anaconda/lib/python2.7/multiprocessing/process.py\", line 114, in run\n",
      "  File \"/Users/s92wang/anaconda/lib/python2.7/multiprocessing/process.py\", line 114, in run\n",
      "  File \"/Users/s92wang/anaconda/lib/python2.7/multiprocessing/process.py\", line 114, in run\n",
      "  File \"/Users/s92wang/anaconda/lib/python2.7/multiprocessing/process.py\", line 114, in run\n",
      "  File \"/Users/s92wang/anaconda/lib/python2.7/multiprocessing/process.py\", line 114, in run\n",
      "  File \"/Users/s92wang/anaconda/lib/python2.7/multiprocessing/process.py\", line 114, in run\n",
      "  File \"/Users/s92wang/anaconda/lib/python2.7/multiprocessing/process.py\", line 114, in run\n",
      "  File \"/Users/s92wang/anaconda/lib/python2.7/multiprocessing/process.py\", line 114, in run\n",
      "  File \"/Users/s92wang/anaconda/lib/python2.7/multiprocessing/process.py\", line 114, in run\n",
      "  File \"/Users/s92wang/anaconda/lib/python2.7/multiprocessing/process.py\", line 114, in run\n",
      "  File \"/Users/s92wang/anaconda/lib/python2.7/multiprocessing/process.py\", line 114, in run\n",
      "  File \"/Users/s92wang/anaconda/lib/python2.7/multiprocessing/process.py\", line 114, in run\n",
      "  File \"/Users/s92wang/anaconda/lib/python2.7/multiprocessing/process.py\", line 114, in run\n",
      "  File \"/Users/s92wang/anaconda/lib/python2.7/multiprocessing/process.py\", line 114, in run\n",
      "  File \"/Users/s92wang/anaconda/lib/python2.7/multiprocessing/process.py\", line 114, in run\n",
      "  File \"/Users/s92wang/anaconda/lib/python2.7/multiprocessing/process.py\", line 114, in run\n",
      "  File \"/Users/s92wang/anaconda/lib/python2.7/multiprocessing/process.py\", line 114, in run\n",
      "  File \"/Users/s92wang/anaconda/lib/python2.7/multiprocessing/process.py\", line 114, in run\n",
      "  File \"/Users/s92wang/anaconda/lib/python2.7/multiprocessing/process.py\", line 114, in run\n",
      "  File \"/Users/s92wang/anaconda/lib/python2.7/multiprocessing/process.py\", line 114, in run\n",
      "    self._target(*self._args, **self._kwargs)\n",
      "    self._target(*self._args, **self._kwargs)\n",
      "    self._target(*self._args, **self._kwargs)\n",
      "    self._target(*self._args, **self._kwargs)\n",
      "    self._target(*self._args, **self._kwargs)\n",
      "    self._target(*self._args, **self._kwargs)\n",
      "    self._target(*self._args, **self._kwargs)\n",
      "    self._target(*self._args, **self._kwargs)\n",
      "    self._target(*self._args, **self._kwargs)\n",
      "    self._target(*self._args, **self._kwargs)\n",
      "    self._target(*self._args, **self._kwargs)\n",
      "    self._target(*self._args, **self._kwargs)\n",
      "    self._target(*self._args, **self._kwargs)\n",
      "    self._target(*self._args, **self._kwargs)\n",
      "    self._target(*self._args, **self._kwargs)\n",
      "    self._target(*self._args, **self._kwargs)\n",
      "    self._target(*self._args, **self._kwargs)\n",
      "    self._target(*self._args, **self._kwargs)\n",
      "    self._target(*self._args, **self._kwargs)\n",
      "    self._target(*self._args, **self._kwargs)\n",
      "    self._target(*self._args, **self._kwargs)\n",
      "    self._target(*self._args, **self._kwargs)\n",
      "    self._target(*self._args, **self._kwargs)\n",
      "    self._target(*self._args, **self._kwargs)\n",
      "    self._target(*self._args, **self._kwargs)\n",
      "    self._target(*self._args, **self._kwargs)\n",
      "    self._target(*self._args, **self._kwargs)\n",
      "    self._target(*self._args, **self._kwargs)\n",
      "  File \"/Users/s92wang/anaconda/lib/python2.7/multiprocessing/pool.py\", line 102, in worker\n",
      "  File \"/Users/s92wang/anaconda/lib/python2.7/multiprocessing/pool.py\", line 102, in worker\n",
      "  File \"/Users/s92wang/anaconda/lib/python2.7/multiprocessing/pool.py\", line 102, in worker\n",
      "  File \"/Users/s92wang/anaconda/lib/python2.7/multiprocessing/pool.py\", line 102, in worker\n",
      "  File \"/Users/s92wang/anaconda/lib/python2.7/multiprocessing/pool.py\", line 102, in worker\n",
      "  File \"/Users/s92wang/anaconda/lib/python2.7/multiprocessing/pool.py\", line 102, in worker\n",
      "  File \"/Users/s92wang/anaconda/lib/python2.7/multiprocessing/pool.py\", line 102, in worker\n",
      "  File \"/Users/s92wang/anaconda/lib/python2.7/multiprocessing/pool.py\", line 102, in worker\n",
      "  File \"/Users/s92wang/anaconda/lib/python2.7/multiprocessing/pool.py\", line 102, in worker\n",
      "  File \"/Users/s92wang/anaconda/lib/python2.7/multiprocessing/pool.py\", line 102, in worker\n",
      "  File \"/Users/s92wang/anaconda/lib/python2.7/multiprocessing/pool.py\", line 102, in worker\n",
      "  File \"/Users/s92wang/anaconda/lib/python2.7/multiprocessing/pool.py\", line 102, in worker\n",
      "  File \"/Users/s92wang/anaconda/lib/python2.7/multiprocessing/pool.py\", line 102, in worker\n",
      "  File \"/Users/s92wang/anaconda/lib/python2.7/multiprocessing/pool.py\", line 102, in worker\n",
      "  File \"/Users/s92wang/anaconda/lib/python2.7/multiprocessing/pool.py\", line 102, in worker\n",
      "  File \"/Users/s92wang/anaconda/lib/python2.7/multiprocessing/pool.py\", line 102, in worker\n",
      "  File \"/Users/s92wang/anaconda/lib/python2.7/multiprocessing/pool.py\", line 102, in worker\n",
      "  File \"/Users/s92wang/anaconda/lib/python2.7/multiprocessing/pool.py\", line 102, in worker\n",
      "  File \"/Users/s92wang/anaconda/lib/python2.7/multiprocessing/pool.py\", line 102, in worker\n",
      "  File \"/Users/s92wang/anaconda/lib/python2.7/multiprocessing/pool.py\", line 102, in worker\n",
      "  File \"/Users/s92wang/anaconda/lib/python2.7/multiprocessing/pool.py\", line 102, in worker\n",
      "  File \"/Users/s92wang/anaconda/lib/python2.7/multiprocessing/pool.py\", line 102, in worker\n",
      "  File \"/Users/s92wang/anaconda/lib/python2.7/multiprocessing/pool.py\", line 102, in worker\n",
      "  File \"/Users/s92wang/anaconda/lib/python2.7/multiprocessing/pool.py\", line 102, in worker\n",
      "  File \"/Users/s92wang/anaconda/lib/python2.7/multiprocessing/pool.py\", line 102, in worker\n",
      "  File \"/Users/s92wang/anaconda/lib/python2.7/multiprocessing/pool.py\", line 102, in worker\n",
      "  File \"/Users/s92wang/anaconda/lib/python2.7/multiprocessing/pool.py\", line 102, in worker\n",
      "  File \"/Users/s92wang/anaconda/lib/python2.7/multiprocessing/pool.py\", line 102, in worker\n",
      "    task = get()\n",
      "    task = get()\n",
      "    task = get()\n",
      "    task = get()\n",
      "    task = get()\n",
      "    task = get()\n",
      "    task = get()\n",
      "    task = get()\n",
      "    task = get()\n",
      "    task = get()\n",
      "    task = get()\n",
      "    task = get()\n",
      "    task = get()\n",
      "    task = get()\n",
      "    task = get()\n",
      "    task = get()\n",
      "    task = get()\n",
      "    task = get()\n",
      "    task = get()\n",
      "    task = get()\n",
      "    task = get()\n",
      "    task = get()\n",
      "    task = get()\n",
      "    task = get()\n",
      "    task = get()\n",
      "    task = get()\n",
      "    task = get()\n",
      "    task = get()\n",
      "  File \"/Users/s92wang/anaconda/lib/python2.7/multiprocessing/queues.py\", line 378, in get\n",
      "  File \"/Users/s92wang/anaconda/lib/python2.7/multiprocessing/queues.py\", line 378, in get\n",
      "  File \"/Users/s92wang/anaconda/lib/python2.7/multiprocessing/queues.py\", line 376, in get\n",
      "  File \"/Users/s92wang/anaconda/lib/python2.7/multiprocessing/queues.py\", line 376, in get\n"
     ]
    },
    {
     "ename": "KeyboardInterrupt",
     "evalue": "",
     "output_type": "error",
     "traceback": [
      "\u001b[0;31m---------------------------------------------------------------------------\u001b[0m",
      "\u001b[0;31mKeyboardInterrupt\u001b[0m                         Traceback (most recent call last)",
      "\u001b[0;32m<ipython-input-265-1f3ff82992cf>\u001b[0m in \u001b[0;36m<module>\u001b[0;34m()\u001b[0m\n\u001b[1;32m      1\u001b[0m \u001b[0;31m#file_list = pickle.load(open(\"file_list.pkl\",\"rb\"))\u001b[0m\u001b[0;34m\u001b[0m\u001b[0;34m\u001b[0m\u001b[0m\n\u001b[1;32m      2\u001b[0m \u001b[0;34m\u001b[0m\u001b[0m\n\u001b[0;32m----> 3\u001b[0;31m \u001b[0mget_ipython\u001b[0m\u001b[0;34m(\u001b[0m\u001b[0;34m)\u001b[0m\u001b[0;34m.\u001b[0m\u001b[0mmagic\u001b[0m\u001b[0;34m(\u001b[0m\u001b[0;34mu'time textures = build_textures_or_load(500,file_list,40)'\u001b[0m\u001b[0;34m)\u001b[0m\u001b[0;34m\u001b[0m\u001b[0m\n\u001b[0m\u001b[1;32m      4\u001b[0m \u001b[0;31m#print textures\u001b[0m\u001b[0;34m\u001b[0m\u001b[0;34m\u001b[0m\u001b[0m\n\u001b[1;32m      5\u001b[0m \u001b[0mnp\u001b[0m\u001b[0;34m.\u001b[0m\u001b[0msave\u001b[0m\u001b[0;34m(\u001b[0m\u001b[0;34m\"textures\"\u001b[0m\u001b[0;34m,\u001b[0m\u001b[0mtextures\u001b[0m\u001b[0;34m)\u001b[0m\u001b[0;34m\u001b[0m\u001b[0m\n",
      "\u001b[0;32m/Users/s92wang/anaconda/lib/python2.7/site-packages/IPython/core/interactiveshell.pyc\u001b[0m in \u001b[0;36mmagic\u001b[0;34m(self, arg_s)\u001b[0m\n\u001b[1;32m   2334\u001b[0m         \u001b[0mmagic_name\u001b[0m\u001b[0;34m,\u001b[0m \u001b[0m_\u001b[0m\u001b[0;34m,\u001b[0m \u001b[0mmagic_arg_s\u001b[0m \u001b[0;34m=\u001b[0m \u001b[0marg_s\u001b[0m\u001b[0;34m.\u001b[0m\u001b[0mpartition\u001b[0m\u001b[0;34m(\u001b[0m\u001b[0;34m' '\u001b[0m\u001b[0;34m)\u001b[0m\u001b[0;34m\u001b[0m\u001b[0m\n\u001b[1;32m   2335\u001b[0m         \u001b[0mmagic_name\u001b[0m \u001b[0;34m=\u001b[0m \u001b[0mmagic_name\u001b[0m\u001b[0;34m.\u001b[0m\u001b[0mlstrip\u001b[0m\u001b[0;34m(\u001b[0m\u001b[0mprefilter\u001b[0m\u001b[0;34m.\u001b[0m\u001b[0mESC_MAGIC\u001b[0m\u001b[0;34m)\u001b[0m\u001b[0;34m\u001b[0m\u001b[0m\n\u001b[0;32m-> 2336\u001b[0;31m         \u001b[0;32mreturn\u001b[0m \u001b[0mself\u001b[0m\u001b[0;34m.\u001b[0m\u001b[0mrun_line_magic\u001b[0m\u001b[0;34m(\u001b[0m\u001b[0mmagic_name\u001b[0m\u001b[0;34m,\u001b[0m \u001b[0mmagic_arg_s\u001b[0m\u001b[0;34m)\u001b[0m\u001b[0;34m\u001b[0m\u001b[0m\n\u001b[0m\u001b[1;32m   2337\u001b[0m \u001b[0;34m\u001b[0m\u001b[0m\n\u001b[1;32m   2338\u001b[0m     \u001b[0;31m#-------------------------------------------------------------------------\u001b[0m\u001b[0;34m\u001b[0m\u001b[0;34m\u001b[0m\u001b[0m\n",
      "\u001b[0;32m/Users/s92wang/anaconda/lib/python2.7/site-packages/IPython/core/interactiveshell.pyc\u001b[0m in \u001b[0;36mrun_line_magic\u001b[0;34m(self, magic_name, line)\u001b[0m\n\u001b[1;32m   2255\u001b[0m                 \u001b[0mkwargs\u001b[0m\u001b[0;34m[\u001b[0m\u001b[0;34m'local_ns'\u001b[0m\u001b[0;34m]\u001b[0m \u001b[0;34m=\u001b[0m \u001b[0msys\u001b[0m\u001b[0;34m.\u001b[0m\u001b[0m_getframe\u001b[0m\u001b[0;34m(\u001b[0m\u001b[0mstack_depth\u001b[0m\u001b[0;34m)\u001b[0m\u001b[0;34m.\u001b[0m\u001b[0mf_locals\u001b[0m\u001b[0;34m\u001b[0m\u001b[0m\n\u001b[1;32m   2256\u001b[0m             \u001b[0;32mwith\u001b[0m \u001b[0mself\u001b[0m\u001b[0;34m.\u001b[0m\u001b[0mbuiltin_trap\u001b[0m\u001b[0;34m:\u001b[0m\u001b[0;34m\u001b[0m\u001b[0m\n\u001b[0;32m-> 2257\u001b[0;31m                 \u001b[0mresult\u001b[0m \u001b[0;34m=\u001b[0m \u001b[0mfn\u001b[0m\u001b[0;34m(\u001b[0m\u001b[0;34m*\u001b[0m\u001b[0margs\u001b[0m\u001b[0;34m,\u001b[0m\u001b[0;34m**\u001b[0m\u001b[0mkwargs\u001b[0m\u001b[0;34m)\u001b[0m\u001b[0;34m\u001b[0m\u001b[0m\n\u001b[0m\u001b[1;32m   2258\u001b[0m             \u001b[0;32mreturn\u001b[0m \u001b[0mresult\u001b[0m\u001b[0;34m\u001b[0m\u001b[0m\n\u001b[1;32m   2259\u001b[0m \u001b[0;34m\u001b[0m\u001b[0m\n",
      "\u001b[0;32m<decorator-gen-60>\u001b[0m in \u001b[0;36mtime\u001b[0;34m(self, line, cell, local_ns)\u001b[0m\n",
      "\u001b[0;32m/Users/s92wang/anaconda/lib/python2.7/site-packages/IPython/core/magic.pyc\u001b[0m in \u001b[0;36m<lambda>\u001b[0;34m(f, *a, **k)\u001b[0m\n\u001b[1;32m    191\u001b[0m     \u001b[0;31m# but it's overkill for just that one bit of state.\u001b[0m\u001b[0;34m\u001b[0m\u001b[0;34m\u001b[0m\u001b[0m\n\u001b[1;32m    192\u001b[0m     \u001b[0;32mdef\u001b[0m \u001b[0mmagic_deco\u001b[0m\u001b[0;34m(\u001b[0m\u001b[0marg\u001b[0m\u001b[0;34m)\u001b[0m\u001b[0;34m:\u001b[0m\u001b[0;34m\u001b[0m\u001b[0m\n\u001b[0;32m--> 193\u001b[0;31m         \u001b[0mcall\u001b[0m \u001b[0;34m=\u001b[0m \u001b[0;32mlambda\u001b[0m \u001b[0mf\u001b[0m\u001b[0;34m,\u001b[0m \u001b[0;34m*\u001b[0m\u001b[0ma\u001b[0m\u001b[0;34m,\u001b[0m \u001b[0;34m**\u001b[0m\u001b[0mk\u001b[0m\u001b[0;34m:\u001b[0m \u001b[0mf\u001b[0m\u001b[0;34m(\u001b[0m\u001b[0;34m*\u001b[0m\u001b[0ma\u001b[0m\u001b[0;34m,\u001b[0m \u001b[0;34m**\u001b[0m\u001b[0mk\u001b[0m\u001b[0;34m)\u001b[0m\u001b[0;34m\u001b[0m\u001b[0m\n\u001b[0m\u001b[1;32m    194\u001b[0m \u001b[0;34m\u001b[0m\u001b[0m\n\u001b[1;32m    195\u001b[0m         \u001b[0;32mif\u001b[0m \u001b[0mcallable\u001b[0m\u001b[0;34m(\u001b[0m\u001b[0marg\u001b[0m\u001b[0;34m)\u001b[0m\u001b[0;34m:\u001b[0m\u001b[0;34m\u001b[0m\u001b[0m\n",
      "\u001b[0;32m/Users/s92wang/anaconda/lib/python2.7/site-packages/IPython/core/magics/execution.pyc\u001b[0m in \u001b[0;36mtime\u001b[0;34m(self, line, cell, local_ns)\u001b[0m\n\u001b[1;32m   1165\u001b[0m         \u001b[0;32melse\u001b[0m\u001b[0;34m:\u001b[0m\u001b[0;34m\u001b[0m\u001b[0m\n\u001b[1;32m   1166\u001b[0m             \u001b[0mst\u001b[0m \u001b[0;34m=\u001b[0m \u001b[0mclock2\u001b[0m\u001b[0;34m(\u001b[0m\u001b[0;34m)\u001b[0m\u001b[0;34m\u001b[0m\u001b[0m\n\u001b[0;32m-> 1167\u001b[0;31m             \u001b[0;32mexec\u001b[0m\u001b[0;34m(\u001b[0m\u001b[0mcode\u001b[0m\u001b[0;34m,\u001b[0m \u001b[0mglob\u001b[0m\u001b[0;34m,\u001b[0m \u001b[0mlocal_ns\u001b[0m\u001b[0;34m)\u001b[0m\u001b[0;34m\u001b[0m\u001b[0m\n\u001b[0m\u001b[1;32m   1168\u001b[0m             \u001b[0mend\u001b[0m \u001b[0;34m=\u001b[0m \u001b[0mclock2\u001b[0m\u001b[0;34m(\u001b[0m\u001b[0;34m)\u001b[0m\u001b[0;34m\u001b[0m\u001b[0m\n\u001b[1;32m   1169\u001b[0m             \u001b[0mout\u001b[0m \u001b[0;34m=\u001b[0m \u001b[0mNone\u001b[0m\u001b[0;34m\u001b[0m\u001b[0m\n",
      "\u001b[0;32m<timed exec>\u001b[0m in \u001b[0;36m<module>\u001b[0;34m()\u001b[0m\n",
      "\u001b[0;32m<ipython-input-263-58f95a0f9c6d>\u001b[0m in \u001b[0;36mbuild_textures_or_load\u001b[0;34m(number_of_tiles, files, threshold)\u001b[0m\n\u001b[1;32m     33\u001b[0m         \u001b[0mtextures\u001b[0m \u001b[0;34m=\u001b[0m \u001b[0mnp\u001b[0m\u001b[0;34m.\u001b[0m\u001b[0mload\u001b[0m\u001b[0;34m(\u001b[0m\u001b[0;34m\"textures.npy\"\u001b[0m\u001b[0;34m)\u001b[0m\u001b[0;34m\u001b[0m\u001b[0m\n\u001b[1;32m     34\u001b[0m     \u001b[0;32mexcept\u001b[0m \u001b[0mIOError\u001b[0m\u001b[0;34m:\u001b[0m\u001b[0;34m\u001b[0m\u001b[0m\n\u001b[0;32m---> 35\u001b[0;31m         \u001b[0mtextures\u001b[0m \u001b[0;34m=\u001b[0m \u001b[0mbuild_tiles\u001b[0m\u001b[0;34m(\u001b[0m\u001b[0mnumber_of_tiles\u001b[0m\u001b[0;34m,\u001b[0m\u001b[0mfiles\u001b[0m\u001b[0;34m,\u001b[0m\u001b[0mthreshold\u001b[0m\u001b[0;34m)\u001b[0m\u001b[0;34m\u001b[0m\u001b[0m\n\u001b[0m\u001b[1;32m     36\u001b[0m     \u001b[0;32mreturn\u001b[0m \u001b[0mtextures\u001b[0m\u001b[0;34m\u001b[0m\u001b[0m\n\u001b[1;32m     37\u001b[0m \u001b[0;34m\u001b[0m\u001b[0m\n",
      "\u001b[0;32m<ipython-input-263-58f95a0f9c6d>\u001b[0m in \u001b[0;36mbuild_tiles\u001b[0;34m(number_of_tiles, files, threshold)\u001b[0m\n\u001b[1;32m     11\u001b[0m         \u001b[0mi\u001b[0m \u001b[0;34m=\u001b[0m \u001b[0mrandom\u001b[0m\u001b[0;34m.\u001b[0m\u001b[0mrandint\u001b[0m\u001b[0;34m(\u001b[0m\u001b[0;36m0\u001b[0m\u001b[0;34m,\u001b[0m\u001b[0;36m49\u001b[0m\u001b[0;34m)\u001b[0m\u001b[0;34m\u001b[0m\u001b[0m\n\u001b[1;32m     12\u001b[0m         \u001b[0mj\u001b[0m \u001b[0;34m=\u001b[0m \u001b[0mrandom\u001b[0m\u001b[0;34m.\u001b[0m\u001b[0mrandint\u001b[0m\u001b[0;34m(\u001b[0m\u001b[0;36m0\u001b[0m\u001b[0;34m,\u001b[0m\u001b[0;36m49\u001b[0m\u001b[0;34m)\u001b[0m\u001b[0;34m\u001b[0m\u001b[0m\n\u001b[0;32m---> 13\u001b[0;31m         \u001b[0mbild\u001b[0m \u001b[0;34m=\u001b[0m \u001b[0mio\u001b[0m\u001b[0;34m.\u001b[0m\u001b[0mimread\u001b[0m\u001b[0;34m(\u001b[0m\u001b[0mfiles\u001b[0m\u001b[0;34m[\u001b[0m\u001b[0mfile_index\u001b[0m\u001b[0;34m]\u001b[0m\u001b[0;34m)\u001b[0m\u001b[0;34m\u001b[0m\u001b[0m\n\u001b[0m\u001b[1;32m     14\u001b[0m         \u001b[0mbild\u001b[0m \u001b[0;34m=\u001b[0m \u001b[0mresize\u001b[0m\u001b[0;34m(\u001b[0m\u001b[0mbild\u001b[0m\u001b[0;34m,\u001b[0m \u001b[0;34m(\u001b[0m\u001b[0;36m250\u001b[0m\u001b[0;34m,\u001b[0m \u001b[0;36m250\u001b[0m\u001b[0;34m)\u001b[0m\u001b[0;34m)\u001b[0m\u001b[0;34m\u001b[0m\u001b[0m\n\u001b[1;32m     15\u001b[0m         \u001b[0;32mif\u001b[0m \u001b[0;34m(\u001b[0m\u001b[0mbild\u001b[0m\u001b[0;34m.\u001b[0m\u001b[0mndim\u001b[0m\u001b[0;34m==\u001b[0m\u001b[0;36m2\u001b[0m\u001b[0;34m)\u001b[0m\u001b[0;34m:\u001b[0m\u001b[0;34m\u001b[0m\u001b[0m\n",
      "\u001b[0;32m/Users/s92wang/anaconda/lib/python2.7/site-packages/skimage/io/_io.pyc\u001b[0m in \u001b[0;36mimread\u001b[0;34m(fname, as_grey, plugin, flatten, **plugin_args)\u001b[0m\n\u001b[1;32m     98\u001b[0m \u001b[0;34m\u001b[0m\u001b[0m\n\u001b[1;32m     99\u001b[0m     \u001b[0;32mwith\u001b[0m \u001b[0mfile_or_url_context\u001b[0m\u001b[0;34m(\u001b[0m\u001b[0mfname\u001b[0m\u001b[0;34m)\u001b[0m \u001b[0;32mas\u001b[0m \u001b[0mfname\u001b[0m\u001b[0;34m:\u001b[0m\u001b[0;34m\u001b[0m\u001b[0m\n\u001b[0;32m--> 100\u001b[0;31m         \u001b[0mimg\u001b[0m \u001b[0;34m=\u001b[0m \u001b[0mcall_plugin\u001b[0m\u001b[0;34m(\u001b[0m\u001b[0;34m'imread'\u001b[0m\u001b[0;34m,\u001b[0m \u001b[0mfname\u001b[0m\u001b[0;34m,\u001b[0m \u001b[0mplugin\u001b[0m\u001b[0;34m=\u001b[0m\u001b[0mplugin\u001b[0m\u001b[0;34m,\u001b[0m \u001b[0;34m**\u001b[0m\u001b[0mplugin_args\u001b[0m\u001b[0;34m)\u001b[0m\u001b[0;34m\u001b[0m\u001b[0m\n\u001b[0m\u001b[1;32m    101\u001b[0m \u001b[0;34m\u001b[0m\u001b[0m\n\u001b[1;32m    102\u001b[0m     \u001b[0;32mif\u001b[0m \u001b[0mas_grey\u001b[0m \u001b[0;32mand\u001b[0m \u001b[0mgetattr\u001b[0m\u001b[0;34m(\u001b[0m\u001b[0mimg\u001b[0m\u001b[0;34m,\u001b[0m \u001b[0;34m'ndim'\u001b[0m\u001b[0;34m,\u001b[0m \u001b[0;36m0\u001b[0m\u001b[0;34m)\u001b[0m \u001b[0;34m>=\u001b[0m \u001b[0;36m3\u001b[0m\u001b[0;34m:\u001b[0m\u001b[0;34m\u001b[0m\u001b[0m\n",
      "\u001b[0;32m/Users/s92wang/anaconda/lib/python2.7/site-packages/skimage/io/manage_plugins.pyc\u001b[0m in \u001b[0;36mcall_plugin\u001b[0;34m(kind, *args, **kwargs)\u001b[0m\n\u001b[1;32m    205\u001b[0m                                (plugin, kind))\n\u001b[1;32m    206\u001b[0m \u001b[0;34m\u001b[0m\u001b[0m\n\u001b[0;32m--> 207\u001b[0;31m     \u001b[0;32mreturn\u001b[0m \u001b[0mfunc\u001b[0m\u001b[0;34m(\u001b[0m\u001b[0;34m*\u001b[0m\u001b[0margs\u001b[0m\u001b[0;34m,\u001b[0m \u001b[0;34m**\u001b[0m\u001b[0mkwargs\u001b[0m\u001b[0;34m)\u001b[0m\u001b[0;34m\u001b[0m\u001b[0m\n\u001b[0m\u001b[1;32m    208\u001b[0m \u001b[0;34m\u001b[0m\u001b[0m\n\u001b[1;32m    209\u001b[0m \u001b[0;34m\u001b[0m\u001b[0m\n",
      "\u001b[0;32m/Users/s92wang/anaconda/lib/python2.7/site-packages/skimage/io/_plugins/pil_plugin.pyc\u001b[0m in \u001b[0;36mimread\u001b[0;34m(fname, dtype, img_num, **kwargs)\u001b[0m\n\u001b[1;32m     47\u001b[0m     \u001b[0;32mtry\u001b[0m\u001b[0;34m:\u001b[0m\u001b[0;34m\u001b[0m\u001b[0m\n\u001b[1;32m     48\u001b[0m         \u001b[0;31m# this will raise an IOError if the file is not readable\u001b[0m\u001b[0;34m\u001b[0m\u001b[0;34m\u001b[0m\u001b[0m\n\u001b[0;32m---> 49\u001b[0;31m         \u001b[0mim\u001b[0m\u001b[0;34m.\u001b[0m\u001b[0mgetdata\u001b[0m\u001b[0;34m(\u001b[0m\u001b[0;34m)\u001b[0m\u001b[0;34m[\u001b[0m\u001b[0;36m0\u001b[0m\u001b[0;34m]\u001b[0m\u001b[0;34m\u001b[0m\u001b[0m\n\u001b[0m\u001b[1;32m     50\u001b[0m     \u001b[0;32mexcept\u001b[0m \u001b[0mIOError\u001b[0m\u001b[0;34m:\u001b[0m\u001b[0;34m\u001b[0m\u001b[0m\n\u001b[1;32m     51\u001b[0m         \u001b[0msite\u001b[0m \u001b[0;34m=\u001b[0m \u001b[0;34m\"http://pillow.readthedocs.org/en/latest/installation.html#external-libraries\"\u001b[0m\u001b[0;34m\u001b[0m\u001b[0m\n",
      "\u001b[0;32m/Users/s92wang/anaconda/lib/python2.7/site-packages/PIL/Image.pyc\u001b[0m in \u001b[0;36mgetdata\u001b[0;34m(self, band)\u001b[0m\n\u001b[1;32m   1137\u001b[0m         \"\"\"\n\u001b[1;32m   1138\u001b[0m \u001b[0;34m\u001b[0m\u001b[0m\n\u001b[0;32m-> 1139\u001b[0;31m         \u001b[0mself\u001b[0m\u001b[0;34m.\u001b[0m\u001b[0mload\u001b[0m\u001b[0;34m(\u001b[0m\u001b[0;34m)\u001b[0m\u001b[0;34m\u001b[0m\u001b[0m\n\u001b[0m\u001b[1;32m   1140\u001b[0m         \u001b[0;32mif\u001b[0m \u001b[0mband\u001b[0m \u001b[0;32mis\u001b[0m \u001b[0;32mnot\u001b[0m \u001b[0mNone\u001b[0m\u001b[0;34m:\u001b[0m\u001b[0;34m\u001b[0m\u001b[0m\n\u001b[1;32m   1141\u001b[0m             \u001b[0;32mreturn\u001b[0m \u001b[0mself\u001b[0m\u001b[0;34m.\u001b[0m\u001b[0mim\u001b[0m\u001b[0;34m.\u001b[0m\u001b[0mgetband\u001b[0m\u001b[0;34m(\u001b[0m\u001b[0mband\u001b[0m\u001b[0;34m)\u001b[0m\u001b[0;34m\u001b[0m\u001b[0m\n",
      "\u001b[0;32m/Users/s92wang/anaconda/lib/python2.7/site-packages/PIL/ImageFile.pyc\u001b[0m in \u001b[0;36mload\u001b[0;34m(self)\u001b[0m\n\u001b[1;32m    219\u001b[0m \u001b[0;34m\u001b[0m\u001b[0m\n\u001b[1;32m    220\u001b[0m                     \u001b[0mb\u001b[0m \u001b[0;34m=\u001b[0m \u001b[0mb\u001b[0m \u001b[0;34m+\u001b[0m \u001b[0ms\u001b[0m\u001b[0;34m\u001b[0m\u001b[0m\n\u001b[0;32m--> 221\u001b[0;31m                     \u001b[0mn\u001b[0m\u001b[0;34m,\u001b[0m \u001b[0me\u001b[0m \u001b[0;34m=\u001b[0m \u001b[0md\u001b[0m\u001b[0;34m.\u001b[0m\u001b[0mdecode\u001b[0m\u001b[0;34m(\u001b[0m\u001b[0mb\u001b[0m\u001b[0;34m)\u001b[0m\u001b[0;34m\u001b[0m\u001b[0m\n\u001b[0m\u001b[1;32m    222\u001b[0m                     \u001b[0;32mif\u001b[0m \u001b[0mn\u001b[0m \u001b[0;34m<\u001b[0m \u001b[0;36m0\u001b[0m\u001b[0;34m:\u001b[0m\u001b[0;34m\u001b[0m\u001b[0m\n\u001b[1;32m    223\u001b[0m                         \u001b[0;32mbreak\u001b[0m\u001b[0;34m\u001b[0m\u001b[0m\n",
      "\u001b[0;31mKeyboardInterrupt\u001b[0m: "
     ]
    },
    {
     "name": "stderr",
     "output_type": "stream",
     "text": [
      "  File \"/Users/s92wang/anaconda/lib/python2.7/multiprocessing/queues.py\", line 376, in get\n",
      "  File \"/Users/s92wang/anaconda/lib/python2.7/multiprocessing/queues.py\", line 376, in get\n",
      "  File \"/Users/s92wang/anaconda/lib/python2.7/multiprocessing/queues.py\", line 376, in get\n",
      "  File \"/Users/s92wang/anaconda/lib/python2.7/multiprocessing/queues.py\", line 376, in get\n",
      "  File \"/Users/s92wang/anaconda/lib/python2.7/multiprocessing/queues.py\", line 376, in get\n",
      "  File \"/Users/s92wang/anaconda/lib/python2.7/multiprocessing/queues.py\", line 376, in get\n",
      "  File \"/Users/s92wang/anaconda/lib/python2.7/multiprocessing/queues.py\", line 376, in get\n",
      "  File \"/Users/s92wang/anaconda/lib/python2.7/multiprocessing/queues.py\", line 376, in get\n",
      "  File \"/Users/s92wang/anaconda/lib/python2.7/multiprocessing/queues.py\", line 376, in get\n",
      "  File \"/Users/s92wang/anaconda/lib/python2.7/multiprocessing/queues.py\", line 376, in get\n",
      "  File \"/Users/s92wang/anaconda/lib/python2.7/multiprocessing/queues.py\", line 378, in get\n",
      "  File \"/Users/s92wang/anaconda/lib/python2.7/multiprocessing/queues.py\", line 376, in get\n",
      "  File \"/Users/s92wang/anaconda/lib/python2.7/multiprocessing/queues.py\", line 378, in get\n",
      "  File \"/Users/s92wang/anaconda/lib/python2.7/multiprocessing/queues.py\", line 378, in get\n",
      "  File \"/Users/s92wang/anaconda/lib/python2.7/multiprocessing/queues.py\", line 378, in get\n",
      "  File \"/Users/s92wang/anaconda/lib/python2.7/multiprocessing/queues.py\", line 376, in get\n",
      "  File \"/Users/s92wang/anaconda/lib/python2.7/multiprocessing/queues.py\", line 376, in get\n",
      "  File \"/Users/s92wang/anaconda/lib/python2.7/multiprocessing/queues.py\", line 376, in get\n",
      "  File \"/Users/s92wang/anaconda/lib/python2.7/multiprocessing/queues.py\", line 376, in get\n",
      "  File \"/Users/s92wang/anaconda/lib/python2.7/multiprocessing/queues.py\", line 376, in get\n",
      "  File \"/Users/s92wang/anaconda/lib/python2.7/multiprocessing/queues.py\", line 376, in get\n",
      "  File \"/Users/s92wang/anaconda/lib/python2.7/multiprocessing/queues.py\", line 378, in get\n",
      "  File \"/Users/s92wang/anaconda/lib/python2.7/multiprocessing/queues.py\", line 376, in get\n",
      "  File \"/Users/s92wang/anaconda/lib/python2.7/multiprocessing/queues.py\", line 376, in get\n",
      "    return recv()\n",
      "    return recv()\n",
      "    racquire()\n",
      "    racquire()\n",
      "    racquire()\n",
      "    racquire()\n",
      "    racquire()\n",
      "    racquire()\n",
      "    racquire()\n",
      "    racquire()\n",
      "    racquire()\n",
      "    racquire()\n",
      "    racquire()\n",
      "    racquire()\n",
      "    return recv()\n",
      "    racquire()\n",
      "    return recv()\n",
      "    return recv()\n",
      "    return recv()\n",
      "    racquire()\n",
      "    racquire()\n",
      "    racquire()\n",
      "    racquire()\n",
      "    racquire()\n",
      "    racquire()\n",
      "    return recv()\n",
      "    racquire()\n",
      "    racquire()\n",
      "KeyboardInterrupt\n",
      "KeyboardInterrupt\n",
      "KeyboardInterrupt\n",
      "KeyboardInterrupt\n",
      "KeyboardInterrupt\n",
      "KeyboardInterrupt\n",
      "KeyboardInterrupt\n",
      "KeyboardInterrupt\n",
      "KeyboardInterrupt\n",
      "KeyboardInterrupt\n",
      "KeyboardInterrupt\n",
      "KeyboardInterrupt\n",
      "KeyboardInterrupt\n",
      "KeyboardInterrupt\n",
      "KeyboardInterrupt\n",
      "KeyboardInterrupt\n",
      "KeyboardInterrupt\n",
      "KeyboardInterrupt\n",
      "KeyboardInterrupt\n",
      "KeyboardInterrupt\n",
      "KeyboardInterrupt\n",
      "KeyboardInterrupt\n",
      "KeyboardInterrupt\n",
      "KeyboardInterrupt\n",
      "KeyboardInterrupt\n",
      "KeyboardInterrupt\n",
      "KeyboardInterrupt\n",
      "KeyboardInterrupt\n"
     ]
    }
   ],
   "source": [
    "#file_list = pickle.load(open(\"file_list.pkl\",\"rb\"))\n",
    "\n",
    "%time textures = build_textures_or_load(500,file_list,40)\n",
    "#print textures\n",
    "np.save(\"textures\",textures)"
   ]
  },
  {
   "cell_type": "code",
   "execution_count": null,
   "metadata": {
    "collapsed": true
   },
   "outputs": [],
   "source": [
    "%time G=build_texture_feature_matrix_or_load(file_list[:300],textures)\n",
    "np.save(\"G\",G)"
   ]
  },
  {
   "cell_type": "markdown",
   "metadata": {},
   "source": [
    "# Texture Modeling "
   ]
  },
  {
   "cell_type": "code",
   "execution_count": null,
   "metadata": {
    "collapsed": true
   },
   "outputs": [],
   "source": [
    "def classify_texture_feature(G,y):\n",
    "    start = time.time()\n",
    "    clf = svm.SVC(kernel='rbf',gamma=0.01)\n",
    "    scores = cross_validation.cross_val_score(clf, G, y, cv=5) \n",
    "    time_diff = time.time() - start \n",
    "    f1score = cross_validation.cross_val_score(clf, F, y, cv=5,scoring='f1_weighted')\n",
    "    print \"Accuracy: %.1f F1 Score %.1f \" % (np.mean(scores)*100,np.mean(f1score) *100)"
   ]
  },
  {
   "cell_type": "code",
   "execution_count": null,
   "metadata": {
    "collapsed": true
   },
   "outputs": [],
   "source": [
    "G=np.load(\"G.npy\")\n",
    "classify_texture_feature(G[:300],y_label_1[:300])"
   ]
  },
  {
   "cell_type": "markdown",
   "metadata": {},
   "source": [
    "# Combined Classifiers"
   ]
  },
  {
   "cell_type": "code",
   "execution_count": null,
   "metadata": {
    "collapsed": true
   },
   "outputs": [],
   "source": [
    "class Combined:\n",
    "    def __init__(self,clf1,clf2):\n",
    "        self.clf1=clf1\n",
    "        self.clf2=clf2\n",
    "    def predict(self,F,G):\n",
    "        y1=self.clf1.predict_proba(F)\n",
    "        y2=self.clf2.predict_proba(G)\n",
    "        y_out= 2*y1/3+y2/3\n",
    "        m=np.argmax(y_out, axis=1)\n",
    "        m[m==1]=1.0\n",
    "        m[m==0]=-1.0\n",
    "        return m"
   ]
  },
  {
   "cell_type": "code",
   "execution_count": null,
   "metadata": {
    "collapsed": true
   },
   "outputs": [],
   "source": [
    "clf_color = svm.SVC(kernel='rbf',gamma=0.001,probability=True)\n",
    "clf_color.fit(union[:300],y_label_1[:300])"
   ]
  },
  {
   "cell_type": "code",
   "execution_count": null,
   "metadata": {
    "collapsed": true
   },
   "outputs": [],
   "source": [
    "clf_texture = svm.SVC(kernel='rbf',gamma=0.001,probability=True)\n",
    "clf_texture.fit(G[:300],y_label_1[:300])"
   ]
  },
  {
   "cell_type": "code",
   "execution_count": null,
   "metadata": {
    "collapsed": true
   },
   "outputs": [],
   "source": [
    "combined=Combined(clf_color,clf_texture)\n",
    "print \"Accuracy: \", np.mean(combined.predict(union[:300],G[:300])==y[:300])"
   ]
  }
 ],
 "metadata": {
  "kernelspec": {
   "display_name": "Python 2",
   "language": "python",
   "name": "python2"
  },
  "language_info": {
   "codemirror_mode": {
    "name": "ipython",
    "version": 2
   },
   "file_extension": ".py",
   "mimetype": "text/x-python",
   "name": "python",
   "nbconvert_exporter": "python",
   "pygments_lexer": "ipython2",
   "version": "2.7.10"
  }
 },
 "nbformat": 4,
 "nbformat_minor": 0
}
